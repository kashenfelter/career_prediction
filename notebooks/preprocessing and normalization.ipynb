{
 "cells": [
  {
   "cell_type": "code",
   "execution_count": 41,
   "metadata": {},
   "outputs": [],
   "source": [
    "import pandas as pd\n",
    "import numpy as np\n",
    "import matplotlib.pyplot as plt\n",
    "import spacy\n",
    "from nltk.tokenize import word_tokenize\n",
    "from nltk.corpus import stopwords\n",
    "import re\n",
    "import ftfy"
   ]
  },
  {
   "cell_type": "code",
   "execution_count": 111,
   "metadata": {},
   "outputs": [],
   "source": [
    "%matplotlib inline\n",
    "plt.style.use('ggplot')"
   ]
  },
  {
   "cell_type": "code",
   "execution_count": 3,
   "metadata": {},
   "outputs": [],
   "source": [
    "df = pd.read_pickle(\"/data/rali7/Tmp/solimanz/LBJ/dataset/dataframe.pkl\")"
   ]
  },
  {
   "cell_type": "code",
   "execution_count": 4,
   "metadata": {},
   "outputs": [],
   "source": [
    "df[\"transformed\"] = df.function.str.lower()"
   ]
  },
  {
   "cell_type": "code",
   "execution_count": 5,
   "metadata": {},
   "outputs": [],
   "source": [
    "def fmtcols(mylist, cols):\n",
    "    maxwidth = max(map(lambda x: len(x), mylist))\n",
    "    justifyList = list(map(lambda x: x.ljust(maxwidth), mylist))\n",
    "    lines = (' '.join(justifyList[i:i+cols]) for i in range(0,len(justifyList),cols))\n",
    "    return \"\\n\".join(lines)\n",
    "\n",
    "def write_job_titles(df):\n",
    "    job_titles = df.transformed.value_counts().index.values\n",
    "    with open('../job_titles.txt', 'w') as f:\n",
    "        for j in job_titles:\n",
    "            f.write(f\"{j}\\n\")"
   ]
  },
  {
   "cell_type": "code",
   "execution_count": 6,
   "metadata": {},
   "outputs": [],
   "source": [
    "job_titles = df.transformed.value_counts().index.values"
   ]
  },
  {
   "cell_type": "code",
   "execution_count": 93,
   "metadata": {},
   "outputs": [
    {
     "data": {
      "text/plain": [
       "4524015"
      ]
     },
     "execution_count": 93,
     "metadata": {},
     "output_type": "execute_result"
    }
   ],
   "source": [
    "len(job_titles)"
   ]
  },
  {
   "cell_type": "code",
   "execution_count": 67,
   "metadata": {},
   "outputs": [],
   "source": [
    "bad = [s for s in job_titles if re.findall(r'[^\\x00-\\x7F]+', s)]"
   ]
  },
  {
   "cell_type": "code",
   "execution_count": 68,
   "metadata": {},
   "outputs": [],
   "source": [
    "bad_ids = df[df.transformed.isin(bad)]._id.unique()"
   ]
  },
  {
   "cell_type": "code",
   "execution_count": 71,
   "metadata": {},
   "outputs": [],
   "source": [
    "df = df[~df._id.isin(bad_ids)]"
   ]
  },
  {
   "cell_type": "code",
   "execution_count": 72,
   "metadata": {},
   "outputs": [
    {
     "data": {
      "text/plain": [
       "4076918"
      ]
     },
     "execution_count": 72,
     "metadata": {},
     "output_type": "execute_result"
    }
   ],
   "source": [
    "df._id.nunique()"
   ]
  },
  {
   "cell_type": "code",
   "execution_count": 73,
   "metadata": {},
   "outputs": [],
   "source": [
    "df.to_pickle(\"/data/rali7/Tmp/solimanz/LBJ/dataset/dataframe.pkl\")"
   ]
  },
  {
   "cell_type": "code",
   "execution_count": 96,
   "metadata": {},
   "outputs": [],
   "source": [
    "bad = [s for s in job_titles if re.findall(r'^[^a-z]+$', s)]"
   ]
  },
  {
   "cell_type": "code",
   "execution_count": 97,
   "metadata": {},
   "outputs": [
    {
     "data": {
      "text/plain": [
       "28"
      ]
     },
     "execution_count": 97,
     "metadata": {},
     "output_type": "execute_result"
    }
   ],
   "source": [
    "len(bad)"
   ]
  },
  {
   "cell_type": "code",
   "execution_count": 98,
   "metadata": {},
   "outputs": [],
   "source": [
    "bad_ids = df[df.transformed.isin(bad)]._id.unique()"
   ]
  },
  {
   "cell_type": "code",
   "execution_count": 99,
   "metadata": {},
   "outputs": [
    {
     "data": {
      "text/plain": [
       "54"
      ]
     },
     "execution_count": 99,
     "metadata": {},
     "output_type": "execute_result"
    }
   ],
   "source": [
    "len(bad_ids)"
   ]
  },
  {
   "cell_type": "code",
   "execution_count": 100,
   "metadata": {},
   "outputs": [
    {
     "data": {
      "text/plain": [
       "4073425"
      ]
     },
     "execution_count": 100,
     "metadata": {},
     "output_type": "execute_result"
    }
   ],
   "source": [
    "df = df[~df._id.isin(bad_ids)]\n",
    "df._id.nunique()"
   ]
  },
  {
   "cell_type": "code",
   "execution_count": 101,
   "metadata": {},
   "outputs": [],
   "source": [
    "df.to_pickle(\"/data/rali7/Tmp/solimanz/LBJ/dataset/dataframe.pkl\")"
   ]
  },
  {
   "cell_type": "code",
   "execution_count": 102,
   "metadata": {},
   "outputs": [],
   "source": [
    "job_titles = df.transformed.value_counts().index.values"
   ]
  },
  {
   "cell_type": "code",
   "execution_count": 103,
   "metadata": {},
   "outputs": [],
   "source": [
    "with open('../job_titles.txt', 'w') as f:\n",
    "    for j in job_titles:\n",
    "        f.write(f\"{j}\\n\")"
   ]
  },
  {
   "cell_type": "code",
   "execution_count": 7,
   "metadata": {},
   "outputs": [
    {
     "data": {
      "text/plain": [
       "4073425"
      ]
     },
     "execution_count": 7,
     "metadata": {},
     "output_type": "execute_result"
    }
   ],
   "source": [
    "df._id.nunique()"
   ]
  },
  {
   "cell_type": "code",
   "execution_count": 8,
   "metadata": {},
   "outputs": [
    {
     "data": {
      "text/plain": [
       "4686647"
      ]
     },
     "execution_count": 8,
     "metadata": {},
     "output_type": "execute_result"
    }
   ],
   "source": [
    "len(job_titles)"
   ]
  },
  {
   "cell_type": "markdown",
   "metadata": {},
   "source": [
    "# Apply RegEx Transformations"
   ]
  },
  {
   "cell_type": "markdown",
   "metadata": {},
   "source": [
    "## Older RegEx"
   ]
  },
  {
   "cell_type": "code",
   "execution_count": 18,
   "metadata": {},
   "outputs": [],
   "source": [
    "# Remove URLs and/or emails from job titles\n",
    "pattrn = re.compile(r\"[\\S]+\\.(ca|com|org|fr|gov|net)\")\n",
    "df[\"transformed\"] = df[\"transformed\"].str.replace(pattrn, \"\")\n",
    "\n",
    "# Replace .NET by dotnet to eliminate complications when removing periods\n",
    "df[\"transformed\"] = df[\"transformed\"].str.replace(\".net\\b\", \"dotnet\")\n",
    "\n",
    "# Replace periods between word by a space\n",
    "pattrn = re.compile(r\"\\.(?=[\\w]{2})\")\n",
    "df[\"transformed\"] = df[\"transformed\"].str.replace(pattrn, \" \")\n",
    "\n",
    "# Replace periods in acronyms by empty string\n",
    "df[\"transformed\"] = df[\"transformed\"].str.replace(\".\", \"\")\n",
    "\n",
    "# Remove parens character\n",
    "df[\"transformed\"] = df[\"transformed\"].str.replace(re.compile(r\"\\(.*\\)\"), \"\")\n",
    "\n",
    "df[\"transformed\"] = df[\"transformed\"].str.replace(re.compile(r\"co(?!\\w)(\\s)*-?(\\s)*\"), \"co \")\n",
    "df[\"transformed\"] = df[\"transformed\"].str.replace(re.compile(r\"\\bcofounder\\b\"), \"co founder\")\n",
    "df[\"transformed\"] = df[\"transformed\"].str.replace(re.compile(r\"\\bcoowner\\b\"), \"co owner\")\n",
    "\n",
    "#df[\"transformed\"] = df[\"transformed\"].str.replace(re.compile(r\"co(?!\\w)(\\s)*-?(\\s)*\"), \"co_\")"
   ]
  },
  {
   "cell_type": "code",
   "execution_count": 19,
   "metadata": {},
   "outputs": [],
   "source": [
    "transforms = [    \n",
    "    # senior/junior\n",
    "    (re.compile(r'\\bsr\\b'), 'senior'),\n",
    "    (re.compile(r'\\bjr\\b'), 'junior'),\n",
    "    # IT\n",
    "    (re.compile(r'\\bit\\b'), 'information technology'),\n",
    "    # C*O\n",
    "    (re.compile(r'\\bceo\\b'), 'chief executive officer'),\n",
    "    (re.compile(r'\\bcoo\\b'), 'chief operating officer'),\n",
    "    (re.compile(r'\\bcto\\b'), 'chief technology officer'),\n",
    "    (re.compile(r'\\bcfo\\b'), 'chief finance officer'),\n",
    "    (re.compile(r'\\bchief financial officer\\b'), 'chief finance officer'),\n",
    "    (re.compile(r'\\bchief operations officer\\b'), 'chief operating officer'),\n",
    "    # VP\n",
    "    (re.compile(r'\\bvp\\b'), 'vice president'),\n",
    "    (re.compile(r'\\bvice-president\\b'), 'vice president'),\n",
    "    #technician vs tech\n",
    "    (re.compile(r'\\btech\\b'), 'technician'),\n",
    "    #coop\n",
    "    (re.compile(r'\\bco[-|\\s]op\\b'), 'coop'),\n",
    "    #addon\n",
    "    (re.compile(r'\\badd[-|\\s]on\\b'), 'addon'),\n",
    "    # Nurses\n",
    "    (re.compile(r'\\brn\\b'), 'registered nurse'),\n",
    "    (re.compile(r'\\brpn\\b'), 'registered practical nurse'),\n",
    "    #T.A.\n",
    "    (re.compile(r\"\\bta\\b\"), \"teaching assistant\"),\n",
    "    (re.compile(r\"\\bteacher assistant\\b\"), \"teaching assistant\"),\n",
    "    (re.compile(r\"\\bteacher's assistant\\b\"), \"teaching assistant\"),\n",
    "    (re.compile(r\"\\bteacher's assitant\\b\"), \"teaching assistant\"),\n",
    "    \n",
    "    (re.compile(r\"\\bra\\b\"), \"research assistant\"),\n",
    "    # HR\n",
    "    (re.compile(r'\\bhr\\b'), 'human resources'),\n",
    "    # Customer service reps\n",
    "    (re.compile(r'\\bcsr\\b'), 'customer service representative'),\n",
    "    # qa / qc\n",
    "    (re.compile(r'\\bqa\\b'), 'quality assurance'),\n",
    "    (re.compile(r'\\bqc\\b'), 'quality control'),\n",
    "    # database administrator\n",
    "    (re.compile(r'\\bdba\\b'), 'database administrator'),\n",
    "    (re.compile(r'\\bdatabase admin\\b'), 'database administrator'),\n",
    "    (re.compile(r'\\bdb admin\\b'), 'database administrator'),\n",
    "    # financial service representative\n",
    "    (re.compile(r'\\bfsr\\b'), 'financial service representative'),\n",
    "    # Misspellings\n",
    "    (re.compile(r'\\bfreelance\\b'), 'freelancer'),\n",
    "    (re.compile(r'\\bdesiginer\\b'), 'designer'),\n",
    "    (re.compile(r'\\bbiomed\\b'), 'biomedical'),\n",
    "    (re.compile(r'\\bgoverenment\\b'), 'government'),\n",
    "    (re.compile(r'\\bmachanic\\b'), 'mechanic'),\n",
    "    (re.compile(r'\\bbusiness owner\\b'), 'owner'),\n",
    "    (re.compile(r'\\br(\\s)*&(\\s)*d\\b'), 'research development'),\n",
    "    (re.compile(r'\\br and d\\b'), 'research development'),\n",
    "    (re.compile(r'research/development'), 'research development'),\n",
    "    (re.compile(r'\\beditor-in-chief\\b'), 'editor_in_chief'),\n",
    "    #eit => engineer in training\n",
    "    (re.compile(r'\\beit\\b'), 'engineer in training'),\n",
    "    #ESL\n",
    "    (re.compile(r'\\besl$'), 'english as a second language instructor'),\n",
    "    (re.compile(r'\\besl instructor\\b'), 'english as a second language instructor'),\n",
    "    (re.compile(r'\\besl teacher\\b'), 'english as a second language instructor'),\n",
    "    (re.compile(r'\\benglish as a second language^'), 'english as a second language instructor'),\n",
    "    (re.compile(r'\\benglish as a second language teacher\\b'), 'english as a second language instructor'),\n",
    "    (re.compile(r'\\besl instructor\\b'), 'english as a second language instructor'),\n",
    "    \n",
    "    (re.compile(r\"\\binternship\\b\"), \"intern\"),\n",
    "    (re.compile(r\"\\bsummer intern\\b\"), \"intern\"),\n",
    "    \n",
    "    (re.compile(r\"\\bis\\b\"), \"information systems\"),\n",
    "    (re.compile(r\"\\bgis\\b\"), \"geographic information system\"),\n",
    "    (re.compile(r\"\\bpr\\b\"), \"public relations\"),\n",
    "    (re.compile(r\"\\badmin\\b\"), \"administrator\"),\n",
    "    (re.compile(r\"\\brep\\b\"), \"representative\")\n",
    "]\n",
    "\n",
    "substitutions = {r: rep for r, rep in transforms}"
   ]
  },
  {
   "cell_type": "code",
   "execution_count": 20,
   "metadata": {},
   "outputs": [],
   "source": [
    "df['transformed'].replace(substitutions, regex=True, inplace=True)\n",
    "df['transformed'].replace({re.compile(r\"\\s{2,}\"): \" \"}, regex=True, inplace=True)\n",
    "df[\"transformed\"] = df[\"transformed\"].str.strip()"
   ]
  },
  {
   "cell_type": "code",
   "execution_count": 21,
   "metadata": {},
   "outputs": [],
   "source": [
    "df['transformed'].replace({re.compile(r\"\\bengineer engineer\\b\"): \"engineer\"}, regex=True, inplace=True)\n",
    "df[\"transformed\"] = df[\"transformed\"].str.strip()"
   ]
  },
  {
   "cell_type": "code",
   "execution_count": 22,
   "metadata": {},
   "outputs": [],
   "source": [
    "df['transformed'].replace({re.compile(r\"\\bs/w\\b\"): \"software\"}, regex=True, inplace=True)\n",
    "df[\"transformed\"] = df[\"transformed\"].str.strip()"
   ]
  },
  {
   "cell_type": "code",
   "execution_count": 23,
   "metadata": {},
   "outputs": [],
   "source": [
    "df['transformed'].replace({re.compile(r\"\\s+/\\s+\"): \"/\"}, regex=True, inplace=True)\n",
    "df['transformed'].replace({re.compile(r\"\\bux/ui\\b\"): \"ui ux\"}, regex=True, inplace=True)\n",
    "df['transformed'].replace({re.compile(r\"\\bui/ux\\b\"): \"ui ux\"}, regex=True, inplace=True)\n",
    "df[\"transformed\"] = df[\"transformed\"].str.strip()"
   ]
  },
  {
   "cell_type": "code",
   "execution_count": 25,
   "metadata": {},
   "outputs": [],
   "source": [
    "function_freq = df.transformed.value_counts(normalize=False)"
   ]
  },
  {
   "cell_type": "code",
   "execution_count": 28,
   "metadata": {},
   "outputs": [],
   "source": [
    "pattrn = re.compile(r\"[^a-zA-Z\\d\\s]\")\n",
    "titles = [set(word_tokenize(re.sub(pattrn, \" \", t))) for t in function_freq.index]\n",
    "zero_length = [i for i, tok in enumerate(titles) if len(tok) == 0]\n",
    "one_length = [i for i, tok in enumerate(titles) if len(tok) == 1]\n",
    "weird = [function_freq.index[i] for i in zero_length]"
   ]
  },
  {
   "cell_type": "code",
   "execution_count": 38,
   "metadata": {},
   "outputs": [],
   "source": [
    "bad_ids = df[df.transformed.isin(weird)]._id.unique()\n",
    "len(bad_ids)\n",
    "df = df[~df._id.isin(bad_ids)]"
   ]
  },
  {
   "cell_type": "code",
   "execution_count": 39,
   "metadata": {},
   "outputs": [
    {
     "data": {
      "text/plain": [
       "4072467"
      ]
     },
     "execution_count": 39,
     "metadata": {},
     "output_type": "execute_result"
    }
   ],
   "source": [
    "df._id.nunique()"
   ]
  },
  {
   "cell_type": "code",
   "execution_count": 40,
   "metadata": {},
   "outputs": [],
   "source": [
    "df.to_pickle(\"/data/rali7/Tmp/solimanz/LBJ/dataset/dataframe.pkl\")"
   ]
  },
  {
   "cell_type": "markdown",
   "metadata": {},
   "source": [
    "## Improved RegEx"
   ]
  },
  {
   "cell_type": "code",
   "execution_count": 79,
   "metadata": {},
   "outputs": [],
   "source": [
    "#df[\"transformed\"] = df[\"transformed\"].str.replace(r'\\(.*\\)', '')\n",
    "#df[\"transformed\"] = df[\"transformed\"].str.replace(r'/', ' ')\n",
    "#df[\"transformed\"] = df[\"transformed\"].str.replace('\\\\', ' ')"
   ]
  },
  {
   "cell_type": "code",
   "execution_count": 83,
   "metadata": {},
   "outputs": [],
   "source": [
    "#df[\"transformed\"] = df[\"transformed\"].str.replace('&', ' and ')"
   ]
  },
  {
   "cell_type": "code",
   "execution_count": 105,
   "metadata": {},
   "outputs": [],
   "source": [
    "#df[\"transformed\"] = df[\"transformed\"].str.replace(r'\\bsr(\\.|\\s)', 'senior ')\n",
    "#df[\"transformed\"] = df[\"transformed\"].str.replace(r'\\bjr(\\.|\\s)', 'junior ')\n",
    "#df[\"transformed\"] = df[\"transformed\"].str.replace(r'\\bco[-. _]op', 'coop')\n",
    "#df[\"transformed\"] = df[\"transformed\"].str.replace(r'\\bco[-. _ ]founder', 'founder')\n",
    "#df[\"transformed\"] = df[\"transformed\"].str.replace(r'\\bco[-. _ ]ordinator', 'coordinator')"
   ]
  },
  {
   "cell_type": "code",
   "execution_count": 107,
   "metadata": {},
   "outputs": [],
   "source": [
    "#df[\"transformed\"] = df[\"transformed\"].str.replace(r'\\bco[-. _ ]', '')"
   ]
  },
  {
   "cell_type": "code",
   "execution_count": null,
   "metadata": {},
   "outputs": [],
   "source": [
    "#df[\"transformed\"] = df[\"transformed\"].str.replace(r'\\bc\\.?e\\.?o(\\.|\\b)', 'chief executive officer')\n",
    "#df[\"transformed\"] = df[\"transformed\"].str.replace(r'\\bc\\.?f\\.?o(\\.|\\b)', 'chief finance officier')\n",
    "#df[\"transformed\"] = df[\"transformed\"].str.replace(r'\\bc\\.?t\\.?o(\\.|\\b)', 'chief technology officer')\n",
    "#df[\"transformed\"] = df[\"transformed\"].str.replace(r'\\bc\\.?i\\.?o(\\.|\\b)', 'chief information officer')\n",
    "#df[\"transformed\"] = df[\"transformed\"].str.replace(r'\\bc\\.?o\\.?o(\\.|\\b)', 'chief operating officer')\n",
    "#df[\"transformed\"] = df[\"transformed\"].str.replace(r'\\bc\\.?m\\.?o(\\.|\\b)', 'chief marketing officer')"
   ]
  },
  {
   "cell_type": "markdown",
   "metadata": {},
   "source": [
    "# Reduction"
   ]
  },
  {
   "cell_type": "code",
   "execution_count": 42,
   "metadata": {},
   "outputs": [],
   "source": [
    "function_freq = df.transformed.value_counts(normalize=False)\n",
    "pattrn = re.compile(r\"[\\\\/,.\\|&]|(\\s+-\\s+)|\\band\\b|\\bat\\b\")\n",
    "sw = set(stopwords.words('english') + ['', '&', 'aa', 'aaa'])\n",
    "#mapping = lambda s: sorted([x.strip() for x in re.split(pattrn, s) if x and x not in sw], \n",
    "#                           key=lambda x: function_freq[x] if x in function_freq else -1 , \n",
    "#                           reverse=True)[0]\n",
    "\n",
    "def mapping(s):\n",
    "    filtered = [x.strip() for x in re.split(pattrn, s) if x and x.strip() not in sw]\n",
    "    sorted_toks = sorted(filtered, key=lambda x: function_freq[x] if x in function_freq else -1, reverse=True)\n",
    "    if sorted_toks:\n",
    "        return sorted_toks[0]\n",
    "    else:\n",
    "        return s\n",
    "    \n",
    "df[\"reduced\"] = df.transformed.apply(mapping).str.strip()"
   ]
  },
  {
   "cell_type": "code",
   "execution_count": 44,
   "metadata": {},
   "outputs": [],
   "source": [
    "df.to_pickle(\"/data/rali7/Tmp/solimanz/LBJ/dataset/dataframe.pkl\")"
   ]
  },
  {
   "cell_type": "markdown",
   "metadata": {},
   "source": [
    "# Gain"
   ]
  },
  {
   "cell_type": "code",
   "execution_count": 110,
   "metadata": {},
   "outputs": [],
   "source": [
    "#df = pd.read_pickle(\"/data/rali7/Tmp/solimanz/data/pickles/excerpt-2017-02-20_reduced.pkl\")"
   ]
  },
  {
   "cell_type": "code",
   "execution_count": 61,
   "metadata": {},
   "outputs": [],
   "source": [
    "df[\"title_rank\"] = df['transformed'].apply(lambda s: freqs.index.get_loc(s))\n",
    "rank_counts = df['title_rank'].value_counts()"
   ]
  },
  {
   "cell_type": "code",
   "execution_count": 66,
   "metadata": {},
   "outputs": [
    {
     "data": {
      "text/plain": [
       "297123"
      ]
     },
     "execution_count": 66,
     "metadata": {},
     "output_type": "execute_result"
    }
   ],
   "source": [
    "rank_counts[rank_counts.index < 2]"
   ]
  },
  {
   "cell_type": "code",
   "execution_count": 96,
   "metadata": {},
   "outputs": [],
   "source": [
    "def compute_examples_n(rank_counts, lower=10, upper=1500000, step=100):\n",
    "    top_ks = np.arange(lower, upper, step)\n",
    "    n_examples = []    \n",
    "    for k in top_ks:\n",
    "        n_examples.append(rank_counts[rank_counts.index <= k].sum())        \n",
    "    return top_ks, n_examples\n",
    "\n",
    "def compute_gain(df, freqs, col='transformed'):\n",
    "    \n",
    "    df[\"title_rank\"] = df[col].apply(lambda s: freqs.index.get_loc(s))\n",
    "    rank_counts = df['title_rank'].value_counts()    \n",
    "    \n",
    "    x, y = compute_examples_n(rank_counts, lower=10, upper=600000)\n",
    "    return x, y"
   ]
  },
  {
   "cell_type": "code",
   "execution_count": 83,
   "metadata": {},
   "outputs": [],
   "source": [
    "reduced_freqs = df.reduced.value_counts()\n",
    "freqs = df.transformed.value_counts()"
   ]
  },
  {
   "cell_type": "code",
   "execution_count": 97,
   "metadata": {},
   "outputs": [],
   "source": [
    "x, y = compute_gain(df, freqs, col='transformed')"
   ]
  },
  {
   "cell_type": "code",
   "execution_count": 116,
   "metadata": {},
   "outputs": [
    {
     "data": {
      "text/plain": [
       "[1, 3, 5, 7]"
      ]
     },
     "execution_count": 116,
     "metadata": {},
     "output_type": "execute_result"
    }
   ],
   "source": [
    "[1,2,3,4,5,6,7,8][::2]"
   ]
  },
  {
   "cell_type": "code",
   "execution_count": 117,
   "metadata": {},
   "outputs": [
    {
     "data": {
      "text/plain": [
       "Text(0,0.5,'Gain of training examples')"
      ]
     },
     "execution_count": 117,
     "metadata": {},
     "output_type": "execute_result"
    },
    {
     "data": {
      "image/png": "[encoded data removed]",
      "text/plain": [
       "<Figure size 700x300 with 1 Axes>"
      ]
     },
     "metadata": {},
     "output_type": "display_data"
    }
   ],
   "source": [
    "x_gains = x[1:]\n",
    "gains = [(100*(curr - prev))/prev for prev, curr in zip(y[:-1], y[1:])]\n",
    "\n",
    "plt.rcParams['figure.figsize'] = 7, 3\n",
    "plt.rcParams['figure.dpi'] = 100\n",
    "\n",
    "plt.plot(x_gains[:250:10], gains[:250:10], '-.', alpha=1)\n",
    "plt.gca().set_yticklabels(['{:.0f}%'.format(x) for x in plt.gca().get_yticks()]) \n",
    "plt.title(\"Gain (%) of user profiles\")\n",
    "plt.xlabel(\"N most used job titles\")\n",
    "plt.ylabel(\"Gain of training examples\")"
   ]
  },
  {
   "cell_type": "code",
   "execution_count": 100,
   "metadata": {},
   "outputs": [],
   "source": [
    "x, y = compute_gain(df, reduced_freqs, col='reduced')"
   ]
  },
  {
   "cell_type": "code",
   "execution_count": 127,
   "metadata": {},
   "outputs": [
    {
     "data": {
      "text/plain": [
       "Text(0,0.5,'Gain of training examples')"
      ]
     },
     "execution_count": 127,
     "metadata": {},
     "output_type": "execute_result"
    },
    {
     "data": {
      "image/png": "[encoded data removed]",
      "text/plain": [
       "<Figure size 700x300 with 1 Axes>"
      ]
     },
     "metadata": {},
     "output_type": "display_data"
    }
   ],
   "source": [
    "x_gains = x[1:]\n",
    "gains = [(100*(curr - prev))/prev for prev, curr in zip(y[:-1], y[1:])]\n",
    "\n",
    "plt.rcParams['figure.figsize'] = 7, 3\n",
    "plt.rcParams['figure.dpi'] = 100\n",
    "n = 250\n",
    "step = 20\n",
    "plt.plot(x_gains[:n:step], gains[:n:step], '-.', alpha=1)\n",
    "plt.gca().set_yticklabels(['{:.0f}%'.format(x) for x in plt.gca().get_yticks()]) \n",
    "plt.title(\"Gain (%) of user profiles\")\n",
    "plt.xlabel(\"N most used job titles\")\n",
    "plt.ylabel(\"Gain of training examples\")"
   ]
  },
  {
   "cell_type": "code",
   "execution_count": null,
   "metadata": {},
   "outputs": [],
   "source": []
  }
 ],
 "metadata": {
  "kernelspec": {
   "display_name": "Python [conda env:ml]",
   "language": "python",
   "name": "conda-env-ml-py"
  },
  "language_info": {
   "codemirror_mode": {
    "name": "ipython",
    "version": 3
   },
   "file_extension": ".py",
   "mimetype": "text/x-python",
   "name": "python",
   "nbconvert_exporter": "python",
   "pygments_lexer": "ipython3",
   "version": "3.7.0"
  }
 },
 "nbformat": 4,
 "nbformat_minor": 2
}
