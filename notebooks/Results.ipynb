{
 "cells": [
  {
   "cell_type": "code",
   "execution_count": 66,
   "metadata": {},
   "outputs": [],
   "source": [
    "import numpy as np\n",
    "import json\n",
    "from bidict import bidict\n",
    "import random"
   ]
  },
  {
   "cell_type": "code",
   "execution_count": 5,
   "metadata": {},
   "outputs": [],
   "source": [
    "with open(\"/data/rali7/Tmp/solimanz/data/model_samples/seq/predictions.npy\", \"rb\") as f:\n",
    "    predictions = np.load(f)\n",
    "with open(\"/data/rali7/Tmp/solimanz/data/model_samples/seq/title_seq.npy\", \"rb\") as f:\n",
    "    title_seq = np.load(f)\n",
    "with open(\"/data/rali7/Tmp/solimanz/data/model_samples/seq/seq_lengths.npy\", \"rb\") as f:\n",
    "    seq_lengths = np.load(f)    \n",
    "with open(\"/data/rali7/Tmp/solimanz/data/model_samples/seq/targets.npy\", \"rb\") as f:\n",
    "    targets = np.load(f)\n",
    "    \n",
    "ds1_path = \"/data/rali7/Tmp/solimanz/data/datasets/1/\"\n",
    "ds1_file_name = \"title_sequences\"   \n",
    "with open(os.path.join(ds1_path, f\"{ds1_file_name}.json\"), 'r') as f:\n",
    "    data = json.load(f)"
   ]
  },
  {
   "cell_type": "code",
   "execution_count": 10,
   "metadata": {},
   "outputs": [],
   "source": [
    "title_id = bidict(data[\"title_to_id\"])"
   ]
  },
  {
   "cell_type": "code",
   "execution_count": 19,
   "metadata": {},
   "outputs": [],
   "source": [
    "sequences = [[title_id.inv[i] for idx, i in enumerate(seq) if idx < l] for l, seq in zip(seq_lengths, title_seq)]"
   ]
  },
  {
   "cell_type": "code",
   "execution_count": 30,
   "metadata": {},
   "outputs": [],
   "source": [
    "sorted_args = (-predictions).argsort(axis=2)"
   ]
  },
  {
   "cell_type": "code",
   "execution_count": 33,
   "metadata": {},
   "outputs": [],
   "source": [
    "top_5 = sorted_args[:,:,:5]"
   ]
  },
  {
   "cell_type": "code",
   "execution_count": 53,
   "metadata": {},
   "outputs": [],
   "source": [
    "top_5_predictions = [list(preds[i-1]) for i, preds in zip(seq_lengths, top_5)]"
   ]
  },
  {
   "cell_type": "code",
   "execution_count": 55,
   "metadata": {},
   "outputs": [],
   "source": [
    "top_5_predictions = [[title_id.inv[i] for i in seq] for seq in top_5_predictions]"
   ]
  },
  {
   "cell_type": "code",
   "execution_count": 65,
   "metadata": {},
   "outputs": [],
   "source": [
    "y = [title_id.inv[list(t[:i])[-1]] for i, t in zip(seq_lengths, targets.argmax(axis=2))]"
   ]
  },
  {
   "cell_type": "code",
   "execution_count": 73,
   "metadata": {},
   "outputs": [],
   "source": [
    "random.seed(123)\n",
    "tests = random.sample(range(100), 10)"
   ]
  },
  {
   "cell_type": "code",
   "execution_count": 81,
   "metadata": {},
   "outputs": [],
   "source": [
    "sequences = list(np.array(sequences)[tests])\n",
    "top_5_predictions = list(np.array(top_5_predictions)[tests])\n",
    "targets = list(np.array(y)[tests])"
   ]
  },
  {
   "cell_type": "code",
   "execution_count": 86,
   "metadata": {},
   "outputs": [],
   "source": [
    "top_5_predictions = [list(i) for i in top_5_predictions]"
   ]
  },
  {
   "cell_type": "code",
   "execution_count": 100,
   "metadata": {},
   "outputs": [
    {
     "data": {
      "text/plain": [
       "['information_technology consultant', 'senior programmer analyst']"
      ]
     },
     "execution_count": 100,
     "metadata": {},
     "output_type": "execute_result"
    }
   ],
   "source": [
    "sequences[-2]"
   ]
  },
  {
   "cell_type": "code",
   "execution_count": 101,
   "metadata": {},
   "outputs": [
    {
     "data": {
      "text/plain": [
       "['information_technology consultant',\n",
       " 'senior programmer analyst',\n",
       " 'senior software engineer',\n",
       " 'systems analyst',\n",
       " 'senior software developer']"
      ]
     },
     "execution_count": 101,
     "metadata": {},
     "output_type": "execute_result"
    }
   ],
   "source": [
    "top_5_predictions[-2]"
   ]
  },
  {
   "cell_type": "code",
   "execution_count": 102,
   "metadata": {},
   "outputs": [
    {
     "data": {
      "text/plain": [
       "'information_technology consultant'"
      ]
     },
     "execution_count": 102,
     "metadata": {},
     "output_type": "execute_result"
    }
   ],
   "source": [
    "targets[-2]"
   ]
  },
  {
   "cell_type": "code",
   "execution_count": null,
   "metadata": {},
   "outputs": [],
   "source": []
  }
 ],
 "metadata": {
  "kernelspec": {
   "display_name": "Python 3",
   "language": "python",
   "name": "python3"
  },
  "language_info": {
   "codemirror_mode": {
    "name": "ipython",
    "version": 3
   },
   "file_extension": ".py",
   "mimetype": "text/x-python",
   "name": "python",
   "nbconvert_exporter": "python",
   "pygments_lexer": "ipython3",
   "version": "3.6.3"
  }
 },
 "nbformat": 4,
 "nbformat_minor": 2
}
