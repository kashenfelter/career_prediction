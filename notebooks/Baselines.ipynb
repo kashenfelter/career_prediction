{
 "cells": [
  {
   "cell_type": "code",
   "execution_count": 63,
   "metadata": {},
   "outputs": [],
   "source": [
    "import pandas as pd\n",
    "import numpy as np\n",
    "import re\n",
    "import string\n",
    "import os\n",
    "import json\n",
    "from bidict import bidict\n",
    "import pickle\n",
    "import json\n",
    "import random\n",
    "from nltk.tokenize import word_tokenize\n",
    "from nltk.corpus import stopwords\n",
    "from nltk.stem.wordnet import WordNetLemmatizer\n",
    "from nltk.stem.snowball import SnowballStemmer\n",
    "from math import ceil\n",
    "from pprint import pprint\n",
    "from sklearn.feature_extraction.text import CountVectorizer, TfidfVectorizer\n",
    "from sklearn.naive_bayes import MultinomialNB, BernoulliNB\n",
    "from sklearn.neighbors import KNeighborsClassifier\n",
    "from sklearn.pipeline import Pipeline\n",
    "from sklearn import preprocessing\n",
    "from sklearn.metrics import confusion_matrix, classification_report\n",
    "import itertools"
   ]
  },
  {
   "cell_type": "code",
   "execution_count": 2,
   "metadata": {},
   "outputs": [],
   "source": [
    "with open(\"/data/rali7/Tmp/solimanz/data/datasets/top550/train_ids.pkl\", \"rb\")as f:\n",
    "    train_ids = pickle.load(f)\n",
    "with open(\"/data/rali7/Tmp/solimanz/data/datasets/top550/test_ids.pkl\", \"rb\")as f:\n",
    "    test_ids = pickle.load(f)\n",
    "with open(\"/data/rali7/Tmp/solimanz/data/datasets/top550/jobid/data.json\", \"r\") as f:\n",
    "    data = json.load(f)"
   ]
  },
  {
   "cell_type": "code",
   "execution_count": 3,
   "metadata": {},
   "outputs": [],
   "source": [
    "def multiomial_nb(X_train, train_targets, X_test, test_targets):\n",
    "    # Train\n",
    "    multi_nb = MultinomialNB()\n",
    "    print(\"Training Multinomial Naive Bayes...\")\n",
    "    multi_nb.fit(X_train, train_targets)\n",
    "\n",
    "    # Test\n",
    "    print(\"Running trained model on test dataset\")\n",
    "    predicted = multi_nb.predict(X_test)\n",
    "    acc = np.mean(predicted == test_targets)\n",
    "\n",
    "    print(\"Model Accuracy: \" + str(acc))\n",
    "    \n",
    "    return multi_nb\n",
    "    \n",
    "def bernoulli_nb(X_train, train_targets, X_test, test_targets):\n",
    "    # Train\n",
    "    nb = BernoulliNB()\n",
    "    print(\"Training Multinomial Naive Bayes...\")\n",
    "    nb.fit(X_train, train_targets)\n",
    "\n",
    "    # Test\n",
    "    print(\"Running trained model on test dataset\")\n",
    "    predicted = multi_nb.predict(X_test)\n",
    "    acc = np.mean(predicted == test_targets)\n",
    "\n",
    "    print(\"Model Accuracy: \" + str(acc))\n",
    "    \n",
    "    return nb\n",
    "    \n",
    "def run_model(model, X_train, train_targets, X_test, test_targets):\n",
    "    # Train\n",
    "    print(f\"Training Multinomial Naive Bayes...\")\n",
    "    model.fit(X_train, train_targets)\n",
    "\n",
    "    # Test\n",
    "    print(\"Running trained model on test dataset\")\n",
    "    predicted = model.predict(X_test)\n",
    "    acc = np.mean(predicted == test_targets)\n",
    "\n",
    "    print(\"Model Accuracy: \" + str(acc))\n",
    "    \n",
    "    return model\n",
    "\n",
    "def make_X(sequences, vectorizer, vocab_size=None, counts=False, text=True):\n",
    "    if text:\n",
    "        X = vectorizer.transform(sequences)\n",
    "    else:\n",
    "        X = np.zeros((len(sequences), vocab_size), dtype=np.int16)\n",
    "        for i, seq in enumerate(sequences):\n",
    "            for elem in seq:\n",
    "                if counts:\n",
    "                    X[i][elem] += 1\n",
    "                else:\n",
    "                    X[i][elem] = 1\n",
    "\n",
    "    return X"
   ]
  },
  {
   "cell_type": "code",
   "execution_count": 72,
   "metadata": {},
   "outputs": [
    {
     "data": {
      "text/plain": [
       "['allo/bye']"
      ]
     },
     "execution_count": 72,
     "metadata": {},
     "output_type": "execute_result"
    }
   ],
   "source": [
    "word_tokenize(\"allo/bye\")"
   ]
  },
  {
   "cell_type": "code",
   "execution_count": 46,
   "metadata": {},
   "outputs": [],
   "source": [
    "def get_data_sets(json_path, tokenize_titles=True, use_stemmer=True):\n",
    "    \n",
    "    with open(json_path, 'r') as f:\n",
    "        data = json.load(f)\n",
    "    \n",
    "    title_id = bidict(data[\"title_to_id\"])\n",
    "    \n",
    "    stemmer = SnowballStemmer('english')\n",
    "    \n",
    "    if tokenize_titles:\n",
    "        train_seq = [[title_id.inv[i] for i in title_seq[:-1]] for title_seq in data[\"train_data\"]]\n",
    "        test_seq = [[title_id.inv[i] for i in title_seq[:-1]] for title_seq in data[\"test_data\"]]\n",
    "    else:\n",
    "        train_seq = [[re.sub(r\"[\\W\\s]\", \"_\", title_id.inv[i]) for i in title_seq[:-1]] for title_seq in data[\"train_data\"]]\n",
    "        test_seq = [[re.sub(r\"[\\W\\s]\", \"_\", title_id.inv[i]) for i in title_seq[:-1]] for title_seq in data[\"test_data\"]]\n",
    "    \n",
    "    train_targets = [seq[-1] for seq in data[\"train_data\"]]\n",
    "    test_targets = [seq[-1] for seq in data[\"test_data\"]]\n",
    "    \n",
    "    if tokenize_titles:\n",
    "        train_text = [\" \".join(title_seq).replace(\"_\", \" \") for title_seq in train_seq]  \n",
    "        test_text = [\" \".join(title_seq).replace(\"_\", \" \") for title_seq in test_seq]\n",
    "    else:\n",
    "        train_text = [\" \".join(title_seq) for title_seq in train_seq]  \n",
    "        test_text = [\" \".join(title_seq) for title_seq in test_seq]\n",
    "        \n",
    "    return train_text, test_text"
   ]
  },
  {
   "cell_type": "code",
   "execution_count": 47,
   "metadata": {},
   "outputs": [],
   "source": [
    "reduced7000_path = \"/data/rali7/Tmp/solimanz/data/datasets/reduced7000/jobid/data.json\"   \n",
    "top550_path = \"/data/rali7/Tmp/solimanz/data/datasets/top550/jobid/data.json\"   "
   ]
  },
  {
   "cell_type": "code",
   "execution_count": 48,
   "metadata": {},
   "outputs": [],
   "source": [
    "train550, test550 = get_data_sets(top550_path, False)"
   ]
  },
  {
   "cell_type": "code",
   "execution_count": 65,
   "metadata": {},
   "outputs": [],
   "source": [
    "stemmer = SnowballStemmer('english')\n",
    "lemmer = WordNetLemmatizer()"
   ]
  },
  {
   "cell_type": "code",
   "execution_count": 70,
   "metadata": {},
   "outputs": [
    {
     "data": {
      "text/plain": [
       "'softwar'"
      ]
     },
     "execution_count": 70,
     "metadata": {},
     "output_type": "execute_result"
    }
   ],
   "source": [
    "stemmer.stem('software')"
   ]
  },
  {
   "cell_type": "code",
   "execution_count": 62,
   "metadata": {},
   "outputs": [
    {
     "data": {
      "text/plain": [
       "'engineer'"
      ]
     },
     "execution_count": 62,
     "metadata": {},
     "output_type": "execute_result"
    }
   ],
   "source": [
    "lemmer.lemmatize('engineer')"
   ]
  },
  {
   "cell_type": "code",
   "execution_count": 23,
   "metadata": {},
   "outputs": [
    {
     "ename": "ValueError",
     "evalue": "empty vocabulary; perhaps the documents only contain stop words",
     "output_type": "error",
     "traceback": [
      "\u001b[0;31m---------------------------------------------------------------------------\u001b[0m",
      "\u001b[0;31mValueError\u001b[0m                                Traceback (most recent call last)",
      "\u001b[0;32m<ipython-input-23-43923e020ac3>\u001b[0m in \u001b[0;36m<module>\u001b[0;34m()\u001b[0m\n\u001b[1;32m      1\u001b[0m \u001b[0mcv\u001b[0m \u001b[0;34m=\u001b[0m \u001b[0mCountVectorizer\u001b[0m\u001b[0;34m(\u001b[0m\u001b[0mbinary\u001b[0m\u001b[0;34m=\u001b[0m\u001b[0;32mFalse\u001b[0m\u001b[0;34m)\u001b[0m\u001b[0;34m\u001b[0m\u001b[0m\n\u001b[0;32m----> 2\u001b[0;31m \u001b[0mcv\u001b[0m\u001b[0;34m.\u001b[0m\u001b[0mfit\u001b[0m\u001b[0;34m(\u001b[0m\u001b[0mall_t\u001b[0m\u001b[0;34m)\u001b[0m\u001b[0;34m\u001b[0m\u001b[0m\n\u001b[0m",
      "\u001b[0;32m~/development/career_prediction_gpu/lib/python3.6/site-packages/sklearn/feature_extraction/text.py\u001b[0m in \u001b[0;36mfit\u001b[0;34m(self, raw_documents, y)\u001b[0m\n\u001b[1;32m    834\u001b[0m         \u001b[0mself\u001b[0m\u001b[0;34m\u001b[0m\u001b[0m\n\u001b[1;32m    835\u001b[0m         \"\"\"\n\u001b[0;32m--> 836\u001b[0;31m         \u001b[0mself\u001b[0m\u001b[0;34m.\u001b[0m\u001b[0mfit_transform\u001b[0m\u001b[0;34m(\u001b[0m\u001b[0mraw_documents\u001b[0m\u001b[0;34m)\u001b[0m\u001b[0;34m\u001b[0m\u001b[0m\n\u001b[0m\u001b[1;32m    837\u001b[0m         \u001b[0;32mreturn\u001b[0m \u001b[0mself\u001b[0m\u001b[0;34m\u001b[0m\u001b[0m\n\u001b[1;32m    838\u001b[0m \u001b[0;34m\u001b[0m\u001b[0m\n",
      "\u001b[0;32m~/development/career_prediction_gpu/lib/python3.6/site-packages/sklearn/feature_extraction/text.py\u001b[0m in \u001b[0;36mfit_transform\u001b[0;34m(self, raw_documents, y)\u001b[0m\n\u001b[1;32m    867\u001b[0m \u001b[0;34m\u001b[0m\u001b[0m\n\u001b[1;32m    868\u001b[0m         vocabulary, X = self._count_vocab(raw_documents,\n\u001b[0;32m--> 869\u001b[0;31m                                           self.fixed_vocabulary_)\n\u001b[0m\u001b[1;32m    870\u001b[0m \u001b[0;34m\u001b[0m\u001b[0m\n\u001b[1;32m    871\u001b[0m         \u001b[0;32mif\u001b[0m \u001b[0mself\u001b[0m\u001b[0;34m.\u001b[0m\u001b[0mbinary\u001b[0m\u001b[0;34m:\u001b[0m\u001b[0;34m\u001b[0m\u001b[0m\n",
      "\u001b[0;32m~/development/career_prediction_gpu/lib/python3.6/site-packages/sklearn/feature_extraction/text.py\u001b[0m in \u001b[0;36m_count_vocab\u001b[0;34m(self, raw_documents, fixed_vocab)\u001b[0m\n\u001b[1;32m    809\u001b[0m             \u001b[0mvocabulary\u001b[0m \u001b[0;34m=\u001b[0m \u001b[0mdict\u001b[0m\u001b[0;34m(\u001b[0m\u001b[0mvocabulary\u001b[0m\u001b[0;34m)\u001b[0m\u001b[0;34m\u001b[0m\u001b[0m\n\u001b[1;32m    810\u001b[0m             \u001b[0;32mif\u001b[0m \u001b[0;32mnot\u001b[0m \u001b[0mvocabulary\u001b[0m\u001b[0;34m:\u001b[0m\u001b[0;34m\u001b[0m\u001b[0m\n\u001b[0;32m--> 811\u001b[0;31m                 raise ValueError(\"empty vocabulary; perhaps the documents only\"\n\u001b[0m\u001b[1;32m    812\u001b[0m                                  \" contain stop words\")\n\u001b[1;32m    813\u001b[0m \u001b[0;34m\u001b[0m\u001b[0m\n",
      "\u001b[0;31mValueError\u001b[0m: empty vocabulary; perhaps the documents only contain stop words"
     ]
    }
   ],
   "source": [
    "cv = CountVectorizer(binary=False)\n",
    "cv.fit(all_t)"
   ]
  },
  {
   "cell_type": "code",
   "execution_count": 15,
   "metadata": {},
   "outputs": [
    {
     "data": {
      "text/plain": [
       "{'am': 0,\n",
       " 'and': 1,\n",
       " 'animal': 2,\n",
       " 'ape': 3,\n",
       " 'great': 4,\n",
       " 'hello_world': 5,\n",
       " 'helloworld': 6,\n",
       " 'human': 7}"
      ]
     },
     "execution_count": 15,
     "metadata": {},
     "output_type": "execute_result"
    }
   ],
   "source": [
    "cv.vocabulary_"
   ]
  },
  {
   "cell_type": "code",
   "execution_count": 23,
   "metadata": {},
   "outputs": [],
   "source": [
    "X_train = make_X(train_text, cv, counts=True, text=True) \n",
    "X_test = make_X(test_text, cv, counts=True, text=True)"
   ]
  },
  {
   "cell_type": "code",
   "execution_count": 24,
   "metadata": {},
   "outputs": [
    {
     "data": {
      "text/plain": [
       "MultinomialNB(alpha=1.0, class_prior=None, fit_prior=True)"
      ]
     },
     "execution_count": 24,
     "metadata": {},
     "output_type": "execute_result"
    }
   ],
   "source": [
    "multi_nb = MultinomialNB()\n",
    "multi_nb.fit(X_train, train_targets)"
   ]
  },
  {
   "cell_type": "code",
   "execution_count": 25,
   "metadata": {},
   "outputs": [
    {
     "data": {
      "text/plain": [
       "BernoulliNB(alpha=1.0, binarize=0.0, class_prior=None, fit_prior=True)"
      ]
     },
     "execution_count": 25,
     "metadata": {},
     "output_type": "execute_result"
    }
   ],
   "source": [
    "nb = BernoulliNB()\n",
    "nb.fit(X_train, train_targets)"
   ]
  },
  {
   "cell_type": "code",
   "execution_count": 26,
   "metadata": {},
   "outputs": [],
   "source": [
    "def top_k_acc(model, k=1):\n",
    "    preds = model.predict_proba(X_test)\n",
    "    sorted_args = (-preds).argsort(axis=1)[:,:k]\n",
    "    tt = np.tile(test_targets, (k,1)).T\n",
    "    acc = np.mean(np.sum(sorted_args == tt, axis=1))\n",
    "    return acc"
   ]
  },
  {
   "cell_type": "code",
   "execution_count": null,
   "metadata": {},
   "outputs": [
    {
     "name": "stdout",
     "output_type": "stream",
     "text": [
      "acc: 15.09\n",
      "top 2: 22.07\n",
      "top 3: 26.50\n",
      "top 4: 29.77\n",
      "top 5: 32.38\n"
     ]
    }
   ],
   "source": [
    "print(f\"acc: {top_k_acc(multi_nb, k=1)*100:.2f}\")\n",
    "print(f\"top 2: {top_k_acc(multi_nb, k=2)*100:.2f}\")\n",
    "print(f\"top 3: {top_k_acc(multi_nb, k=3)*100:.2f}\")\n",
    "print(f\"top 4: {top_k_acc(multi_nb, k=4)*100:.2f}\")\n",
    "print(f\"top 5: {top_k_acc(multi_nb, k=5)*100:.2f}\")"
   ]
  },
  {
   "cell_type": "code",
   "execution_count": null,
   "metadata": {},
   "outputs": [
    {
     "name": "stdout",
     "output_type": "stream",
     "text": [
      "acc: 13.04\n",
      "top 2: 19.50\n"
     ]
    }
   ],
   "source": [
    "print(f\"acc: {top_k_acc(nb, k=1)*100:.2f}\")\n",
    "print(f\"top 2: {top_k_acc(nb, k=2)*100:.2f}\")\n",
    "print(f\"top 3: {top_k_acc(nb, k=3)*100:.2f}\")\n",
    "print(f\"top 4: {top_k_acc(nb, k=4)*100:.2f}\")\n",
    "print(f\"top 5: {top_k_acc(nb, k=5)*100:.2f}\")"
   ]
  }
 ],
 "metadata": {
  "kernelspec": {
   "display_name": "Python 3",
   "language": "python",
   "name": "python3"
  },
  "language_info": {
   "codemirror_mode": {
    "name": "ipython",
    "version": 3
   },
   "file_extension": ".py",
   "mimetype": "text/x-python",
   "name": "python",
   "nbconvert_exporter": "python",
   "pygments_lexer": "ipython3",
   "version": "3.6.3"
  }
 },
 "nbformat": 4,
 "nbformat_minor": 2
}
