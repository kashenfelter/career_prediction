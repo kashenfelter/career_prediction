{
 "cells": [
  {
   "cell_type": "code",
   "execution_count": 301,
   "metadata": {},
   "outputs": [],
   "source": [
    "import pandas as pd\n",
    "import numpy as np\n",
    "import re\n",
    "import string\n",
    "import os\n",
    "import json\n",
    "from bidict import bidict\n",
    "import pickle\n",
    "import json\n",
    "import random\n",
    "import errno\n",
    "import seaborn as sns\n",
    "import matplotlib.pyplot as plt\n",
    "from sklearn.externals import joblib\n",
    "from nltk.tokenize import word_tokenize\n",
    "from nltk.corpus import stopwords\n",
    "from nltk.stem.wordnet import WordNetLemmatizer\n",
    "from nltk.stem.snowball import SnowballStemmer\n",
    "from math import ceil\n",
    "from pprint import pprint\n",
    "from sklearn.feature_extraction.text import CountVectorizer, TfidfVectorizer\n",
    "from sklearn.naive_bayes import MultinomialNB, BernoulliNB, GaussianNB\n",
    "from sklearn.neighbors import KNeighborsClassifier\n",
    "from sklearn.pipeline import Pipeline\n",
    "from sklearn import preprocessing\n",
    "from sklearn.metrics import confusion_matrix, classification_report\n",
    "import itertools"
   ]
  },
  {
   "cell_type": "code",
   "execution_count": 308,
   "metadata": {},
   "outputs": [],
   "source": [
    "%matplotlib inline\n",
    "plt.style.use(['dark_background', 'ggplot'])\n",
    "sns.set(color_codes=True)\n",
    "sns.set_palette(sns.color_palette('pastel'))"
   ]
  },
  {
   "cell_type": "code",
   "execution_count": 2,
   "metadata": {},
   "outputs": [],
   "source": [
    "with open(\"/data/rali7/Tmp/solimanz/data/datasets/top550/train_ids.pkl\", \"rb\")as f:\n",
    "    train_ids = pickle.load(f)\n",
    "with open(\"/data/rali7/Tmp/solimanz/data/datasets/top550/test_ids.pkl\", \"rb\")as f:\n",
    "    test_ids = pickle.load(f)\n",
    "with open(\"/data/rali7/Tmp/solimanz/data/datasets/top550/jobid/data.json\", \"r\") as f:\n",
    "    data = json.load(f)"
   ]
  },
  {
   "cell_type": "code",
   "execution_count": 324,
   "metadata": {},
   "outputs": [],
   "source": [
    "def get_subsequences(sequences):\n",
    "    sub_seqs = []    \n",
    "    for seq in sequences:\n",
    "        for i in range(2,len(seq)):\n",
    "            sub_seqs.append(seq[:i])\n",
    "    return sub_seqs"
   ]
  },
  {
   "cell_type": "code",
   "execution_count": 197,
   "metadata": {},
   "outputs": [],
   "source": [
    "def run_model(model, X_train, train_targets, X_test, test_targets):\n",
    "    # Train\n",
    "    print(f\"Training Naive Bayes...\")\n",
    "    model.fit(X_train, train_targets)\n",
    "\n",
    "    # Test\n",
    "    print(\"Running trained model on test dataset\")\n",
    "    predicted = model.predict(X_test)\n",
    "    acc = np.mean(predicted == test_targets)\n",
    "\n",
    "    print(\"Model Accuracy: \" + str(acc))\n",
    "    \n",
    "    return model\n",
    "\n",
    "def make_X(sequences, vectorizer, vocab_size=None, counts=False, text=True):\n",
    "    if text:\n",
    "        X = vectorizer.transform(sequences)\n",
    "    else:\n",
    "        X = np.zeros((len(sequences), vocab_size), dtype=np.int16)\n",
    "        for i, seq in enumerate(sequences):\n",
    "            for elem in seq:\n",
    "                if counts:\n",
    "                    X[i][elem] += 1\n",
    "                else:\n",
    "                    X[i][elem] = 1\n",
    "\n",
    "    return X"
   ]
  },
  {
   "cell_type": "code",
   "execution_count": 170,
   "metadata": {},
   "outputs": [],
   "source": [
    "def apply_stemming(data):\n",
    "    \"\"\"data is a list of sequences\"\"\"\n",
    "    \n",
    "    stemmer = SnowballStemmer('english')\n",
    "    pattrn = re.compile(r\"[-/,\\.\\\\\\s_]\")\n",
    "    \n",
    "    output = []\n",
    "    \n",
    "    for sequence in data:\n",
    "        stemmed_seq = []        \n",
    "        for title in sequence:\n",
    "            stemmed = \"\"            \n",
    "            for token in re.split(pattrn, title):\n",
    "                if stemmed:\n",
    "                    stemmed += \" \" + stemmer.stem(token)\n",
    "                else:\n",
    "                    stemmed += stemmer.stem(token)\n",
    "            stemmed_seq.append(stemmed)\n",
    "            \n",
    "        output.append(stemmed_seq)\n",
    "\n",
    "    return [\" \".join(seq) for seq in output]"
   ]
  },
  {
   "cell_type": "code",
   "execution_count": 326,
   "metadata": {},
   "outputs": [],
   "source": [
    "def get_data_sets(json_path, tokenize_titles=True, use_stemmer=True, use_sub_seq=False):\n",
    "    \n",
    "    with open(json_path, 'r') as f:\n",
    "        data = json.load(f)\n",
    "    \n",
    "    title_id = bidict(data[\"title_to_id\"])\n",
    "    train_data = data[\"train_data\"]\n",
    "    test_data = data[\"test_data\"]\n",
    "    \n",
    "    if use_sub_seq:\n",
    "        train_data = get_subsequences(train_data)\n",
    "        test_data = get_subsequences(test_data)\n",
    "    \n",
    "    \n",
    "    if tokenize_titles:\n",
    "        train_seq = [[title_id.inv[i] for i in title_seq[:-1]] for title_seq in train_data]\n",
    "        test_seq = [[title_id.inv[i] for i in title_seq[:-1]] for title_seq in test_data]\n",
    "    else:\n",
    "        train_seq = [[re.sub(r\"[\\W\\s]\", \"_\", title_id.inv[i]) for i in title_seq[:-1]] \n",
    "                     for title_seq in train_data]\n",
    "        test_seq = [[re.sub(r\"[\\W\\s]\", \"_\", title_id.inv[i]) for i in title_seq[:-1]] \n",
    "                    for title_seq in test_data]\n",
    "    \n",
    "    train_targets = [seq[-1] for seq in train_data]\n",
    "    test_targets = [seq[-1] for seq in test_data]\n",
    "    \n",
    "    if tokenize_titles and not use_stemmer:\n",
    "        train_text = [\" \".join(title_seq).replace(\"_\", \" \") for title_seq in train_seq]  \n",
    "        test_text = [\" \".join(title_seq).replace(\"_\", \" \") for title_seq in test_seq]\n",
    "    elif tokenize_titles and use_stemmer:\n",
    "        train_text = apply_stemming(train_seq)\n",
    "        test_text = apply_stemming(test_seq)\n",
    "    else:\n",
    "        train_text = [\" \".join(title_seq) for title_seq in train_seq]  \n",
    "        test_text = [\" \".join(title_seq) for title_seq in test_seq]\n",
    "        \n",
    "    return train_text, train_targets, test_text, test_targets"
   ]
  },
  {
   "cell_type": "code",
   "execution_count": 250,
   "metadata": {},
   "outputs": [],
   "source": [
    "def save_data(path, file_name, model, x, targets):\n",
    "    \n",
    "    if not os.path.exists(os.path.join(path)):\n",
    "        print(\"Attempting to create directory...\")\n",
    "        try:\n",
    "            os.makedirs(os.path.join(path))\n",
    "        except OSError as exc:\n",
    "            if exc.errno != errno.EEXIST:\n",
    "                raise\n",
    "                \n",
    "    preds = model.predict_proba(x, targets)\n",
    "    \n",
    "    np.save(os.path.join(path, file_name + \"-preds.npy\"))"
   ]
  },
  {
   "cell_type": "code",
   "execution_count": 327,
   "metadata": {},
   "outputs": [],
   "source": [
    "def run_experiment(data_path, tokenized_titles=False, use_stemmer=False, tf_idf=False, sub_seq=False, name='',\n",
    "                   save_path='/data/rali7/Tmp/solimanz/data/model/baseline_preds'):\n",
    "    \n",
    "    # Fetch and preprocess data\n",
    "    train, train_targets, test, test_targets = get_data_sets(data_path, tokenized_titles, use_stemmer, sub_seq)\n",
    "    \n",
    "    # Construct Models\n",
    "    multi_nb = MultinomialNB()\n",
    "    nb = BernoulliNB()\n",
    "    \n",
    "    # Construct vectorizer\n",
    "    sw = stopwords.words('english')\n",
    "    \n",
    "    vect = CountVectorizer(stop_words=sw)\n",
    "    vect = vect.fit(train + test)\n",
    "    \n",
    "    # Construct document matices\n",
    "    X_train = vect.transform(train)\n",
    "    X_test = vect.transform(test)\n",
    "    \n",
    "    # Run Models\n",
    "    multi_nb = run_model(multi_nb, X_train, train_targets, X_test, test_targets)\n",
    "    nb = run_model(nb, X_train, train_targets, X_test, test_targets)\n",
    "    \n",
    "    if name:\n",
    "        path = os.path.join(save_path, name)\n",
    "        save_data(path, 'multi_nb', multi_nb, X_test, test_targets)\n",
    "        save_data(path, 'bern_nb', nb, X_test, test_targets)\n",
    "    \n",
    "    return multi_nb, nb, X_train, X_test, train_targets, test_targets"
   ]
  },
  {
   "cell_type": "code",
   "execution_count": 265,
   "metadata": {},
   "outputs": [],
   "source": [
    "def get_preds(model, X, targets):\n",
    "    preds = model.predict_proba(x, targets)\n",
    "    return preds\n",
    "\n",
    "def top_k_acc(model, X_test, targets, k=1):\n",
    "    preds = model.predict_proba(X_test)\n",
    "    sorted_args = (-preds).argsort(axis=1)[:,:k]\n",
    "    tt = np.tile(targets, (k,1)).T\n",
    "    acc = np.mean(np.sum(sorted_args == tt, axis=1))\n",
    "    return acc\n",
    "\n",
    "def print_top_k_accs(model, X_test, targets):\n",
    "    print(f\"acc: {top_k_acc(model, X_test, targets, k=1)[0]*100:.2f}\")\n",
    "    print(f\"top 2: {top_k_acc(model, X_test, targets, k=2)[0]*100:.2f}\")\n",
    "    print(f\"top 3: {top_k_acc(model, X_test, targets, k=3)[0]*100:.2f}\")\n",
    "    print(f\"top 4: {top_k_acc(model, X_test, targets, k=4)[0]*100:.2f}\")\n",
    "    print(f\"top 5: {top_k_acc(model, X_test, targets, k=5)[0]*100:.2f}\")"
   ]
  },
  {
   "cell_type": "code",
   "execution_count": 173,
   "metadata": {},
   "outputs": [],
   "source": [
    "reduced7000_path = \"/data/rali7/Tmp/solimanz/data/datasets/reduced7000/jobid/data.json\"   \n",
    "top550_path = \"/data/rali7/Tmp/solimanz/data/datasets/top550/jobid/data.json\"   "
   ]
  },
  {
   "cell_type": "code",
   "execution_count": 267,
   "metadata": {},
   "outputs": [],
   "source": [
    "model_names = [\"mult_nb_bow_no_stem\",\n",
    "               \"mult_nb_bow_stem\",\n",
    "               \"bern_nb_bow_no_stem\",\n",
    "               \"bern_nb_bow_stem\",\n",
    "               \"mult_nb_titles\",\n",
    "               \"bern_nb_titles\"]"
   ]
  },
  {
   "cell_type": "code",
   "execution_count": 268,
   "metadata": {},
   "outputs": [],
   "source": [
    "top550_models = {k: None for k in model_names}"
   ]
  },
  {
   "cell_type": "markdown",
   "metadata": {},
   "source": [
    "# Top 550 Data Set"
   ]
  },
  {
   "cell_type": "markdown",
   "metadata": {},
   "source": [
    "## Tokenized Job Titles"
   ]
  },
  {
   "cell_type": "markdown",
   "metadata": {},
   "source": [
    "### Without Stemming"
   ]
  },
  {
   "cell_type": "code",
   "execution_count": 333,
   "metadata": {},
   "outputs": [
    {
     "name": "stdout",
     "output_type": "stream",
     "text": [
      "Training Naive Bayes...\n",
      "Running trained model on test dataset\n",
      "Model Accuracy: 0.32048563784138523\n",
      "Training Naive Bayes...\n",
      "Running trained model on test dataset\n",
      "Model Accuracy: 0.3090262002120248\n"
     ]
    }
   ],
   "source": [
    "multi_nb, nb, X_train, X_test, train_targets, test_targets = run_experiment(top550_path, \n",
    "                                                                            tokenized_titles=True, \n",
    "                                                                            use_stemmer=False, sub_seq=True)\n",
    "top550_models[\"mult_nb_bow_no_stem\"] = (multi_nb, X_test, test_targets)\n",
    "top550_models[\"bern_nb_bow_no_stem\"] = (nb, X_test, test_targets)"
   ]
  },
  {
   "cell_type": "markdown",
   "metadata": {},
   "source": [
    "#### Multinomial NB Results"
   ]
  },
  {
   "cell_type": "code",
   "execution_count": 211,
   "metadata": {
    "collapsed": true
   },
   "outputs": [
    {
     "name": "stdout",
     "output_type": "stream",
     "text": [
      "acc: 30.37\n",
      "top 2: 40.15\n",
      "top 3: 46.23\n",
      "top 4: 50.36\n",
      "top 5: 53.55\n"
     ]
    }
   ],
   "source": [
    "print_top_k_accs(multi_nb, X_test, test_targets)"
   ]
  },
  {
   "cell_type": "markdown",
   "metadata": {},
   "source": [
    "#### Bernoulli NB"
   ]
  },
  {
   "cell_type": "code",
   "execution_count": 212,
   "metadata": {
    "collapsed": true
   },
   "outputs": [
    {
     "name": "stdout",
     "output_type": "stream",
     "text": [
      "acc: 28.32\n",
      "top 2: 38.41\n",
      "top 3: 44.41\n",
      "top 4: 48.97\n",
      "top 5: 52.25\n"
     ]
    }
   ],
   "source": [
    "print_top_k_accs(nb, X_test, test_targets)"
   ]
  },
  {
   "cell_type": "markdown",
   "metadata": {},
   "source": [
    "### With Stemming"
   ]
  },
  {
   "cell_type": "code",
   "execution_count": 334,
   "metadata": {},
   "outputs": [
    {
     "name": "stdout",
     "output_type": "stream",
     "text": [
      "Training Naive Bayes...\n",
      "Running trained model on test dataset\n",
      "Model Accuracy: 0.3154121863799283\n",
      "Training Naive Bayes...\n",
      "Running trained model on test dataset\n",
      "Model Accuracy: 0.3052905245090615\n"
     ]
    }
   ],
   "source": [
    "multi_nb, nb, X_train, X_test, train_targets, test_targets = run_experiment(top550_path, \n",
    "                                                                            tokenized_titles=True, \n",
    "                                                                            use_stemmer=True, sub_seq=True)\n",
    "top550_models[\"mult_nb_bow_stem\"] = (multi_nb, X_test, test_targets)\n",
    "top550_models[\"bern_nb_bow_stem\"] = (nb, X_test, test_targets)"
   ]
  },
  {
   "cell_type": "markdown",
   "metadata": {},
   "source": [
    "#### Multinomial NB Results"
   ]
  },
  {
   "cell_type": "code",
   "execution_count": 217,
   "metadata": {
    "collapsed": true
   },
   "outputs": [
    {
     "name": "stdout",
     "output_type": "stream",
     "text": [
      "acc: 29.97\n",
      "top 2: 39.79\n",
      "top 3: 45.78\n",
      "top 4: 49.85\n",
      "top 5: 53.07\n"
     ]
    }
   ],
   "source": [
    "print_top_k_accs(multi_nb, X_test, test_targets)"
   ]
  },
  {
   "cell_type": "markdown",
   "metadata": {},
   "source": [
    "#### Bernoulli NB"
   ]
  },
  {
   "cell_type": "code",
   "execution_count": 218,
   "metadata": {
    "collapsed": true
   },
   "outputs": [
    {
     "name": "stdout",
     "output_type": "stream",
     "text": [
      "acc: 28.21\n",
      "top 2: 38.23\n",
      "top 3: 44.21\n",
      "top 4: 48.69\n",
      "top 5: 51.95\n"
     ]
    }
   ],
   "source": [
    "print_top_k_accs(nb, X_test, test_targets)"
   ]
  },
  {
   "cell_type": "markdown",
   "metadata": {},
   "source": [
    "## Use Full Job Titles"
   ]
  },
  {
   "cell_type": "code",
   "execution_count": 335,
   "metadata": {},
   "outputs": [
    {
     "name": "stdout",
     "output_type": "stream",
     "text": [
      "Training Naive Bayes...\n",
      "Running trained model on test dataset\n",
      "Model Accuracy: 0.3446160835983644\n",
      "Training Naive Bayes...\n",
      "Running trained model on test dataset\n",
      "Model Accuracy: 0.3065020950073199\n"
     ]
    }
   ],
   "source": [
    "multi_nb, nb, X_train, X_test, train_targets, test_targets = run_experiment(top550_path, \n",
    "                                                                            tokenized_titles=False, \n",
    "                                                                            use_stemmer=False, sub_seq=True)\n",
    "top550_models[\"mult_nb_titles\"] = (multi_nb, X_test, test_targets)\n",
    "top550_models[\"bern_nb_titles\"] = (nb, X_test, test_targets)"
   ]
  },
  {
   "cell_type": "markdown",
   "metadata": {},
   "source": [
    "#### Multinomial NB Results"
   ]
  },
  {
   "cell_type": "code",
   "execution_count": 223,
   "metadata": {
    "collapsed": true
   },
   "outputs": [
    {
     "name": "stdout",
     "output_type": "stream",
     "text": [
      "acc: 32.33\n",
      "top 2: 43.22\n",
      "top 3: 49.41\n",
      "top 4: 53.54\n",
      "top 5: 56.62\n"
     ]
    }
   ],
   "source": [
    "print_top_k_accs(multi_nb, X_test, test_targets)"
   ]
  },
  {
   "cell_type": "markdown",
   "metadata": {},
   "source": [
    "#### Bernoulli NB"
   ]
  },
  {
   "cell_type": "code",
   "execution_count": 224,
   "metadata": {
    "collapsed": true
   },
   "outputs": [
    {
     "name": "stdout",
     "output_type": "stream",
     "text": [
      "acc: 26.76\n",
      "top 2: 36.86\n",
      "top 3: 42.96\n",
      "top 4: 46.98\n",
      "top 5: 49.86\n"
     ]
    }
   ],
   "source": [
    "print_top_k_accs(nb, X_test, test_targets)"
   ]
  },
  {
   "cell_type": "code",
   "execution_count": 286,
   "metadata": {
    "collapsed": true
   },
   "outputs": [
    {
     "data": {
      "text/plain": [
       "dict_keys(['mult_nb_bow_no_stem', 'mult_nb_bow_stem', 'bern_nb_bow_no_stem', 'bern_nb_bow_stem', 'mult_nb_titles', 'bern_nb_titles'])"
      ]
     },
     "execution_count": 286,
     "metadata": {},
     "output_type": "execute_result"
    }
   ],
   "source": [
    "top550_models.keys()"
   ]
  },
  {
   "cell_type": "code",
   "execution_count": 336,
   "metadata": {},
   "outputs": [],
   "source": [
    "ks = list(range(1,6))\n",
    "#df_dict = {\"model\": [], \"acc\": [], \"top_2_acc\": [], \"top_3_acc\": [], \"top_4_acc\": [], \"top_5_acc\": []}\n",
    "df_dict = {\"model\": [], \"top_k\": [], \"value\": []}\n",
    "\n",
    "for name, values in top550_models.items():\n",
    "    for k in ks:\n",
    "        df_dict[\"model\"].append(name)\n",
    "        df_dict[\"top_k\"].append(k)\n",
    "        df_dict[\"value\"].append(round(top_k_acc(values[0], values[1], values[2], k), 5)*100)"
   ]
  },
  {
   "cell_type": "code",
   "execution_count": 296,
   "metadata": {},
   "outputs": [
    {
     "data": {
      "text/plain": [
       "[30, 30, 30]"
      ]
     },
     "execution_count": 296,
     "metadata": {},
     "output_type": "execute_result"
    }
   ],
   "source": [
    "[len(a) for a in df_dict.values()]"
   ]
  },
  {
   "cell_type": "code",
   "execution_count": 337,
   "metadata": {},
   "outputs": [],
   "source": [
    "df = pd.DataFrame(df_dict)"
   ]
  },
  {
   "cell_type": "code",
   "execution_count": 317,
   "metadata": {},
   "outputs": [
    {
     "data": {
      "image/png": "[encoded data removed]",
      "text/plain": [
       "<matplotlib.figure.Figure at 0x7f14a2820cc0>"
      ]
     },
     "metadata": {},
     "output_type": "display_data"
    }
   ],
   "source": [
    "plt.rcParams['figure.figsize'] = 15, 7\n",
    "plt.rcParams['figure.dpi'] = 100\n",
    "ax = sns.barplot(x=\"model\", y=\"value\", hue=\"top_k\", data=df)"
   ]
  },
  {
   "cell_type": "code",
   "execution_count": 338,
   "metadata": {},
   "outputs": [
    {
     "data": {
      "image/png": "[encoded data removed]",
      "text/plain": [
       "<matplotlib.figure.Figure at 0x7f14b430e470>"
      ]
     },
     "metadata": {},
     "output_type": "display_data"
    }
   ],
   "source": [
    "plt.rcParams['figure.figsize'] = 15, 7\n",
    "plt.rcParams['figure.dpi'] = 100\n",
    "ax = sns.barplot(x=\"model\", y=\"value\", hue=\"top_k\", data=df)"
   ]
  },
  {
   "cell_type": "markdown",
   "metadata": {},
   "source": [
    "# Reduced 7000 Data Set"
   ]
  },
  {
   "cell_type": "markdown",
   "metadata": {},
   "source": [
    "## Tokenized Job Titles"
   ]
  },
  {
   "cell_type": "markdown",
   "metadata": {},
   "source": [
    "### Without Stemming"
   ]
  },
  {
   "cell_type": "code",
   "execution_count": 213,
   "metadata": {
    "collapsed": true
   },
   "outputs": [
    {
     "name": "stdout",
     "output_type": "stream",
     "text": [
      "Training Naive Bayes...\n",
      "Running trained model on test dataset\n",
      "Model Accuracy: 0.15283537913461712\n",
      "Training Naive Bayes...\n",
      "Running trained model on test dataset\n",
      "Model Accuracy: 0.13177068725795\n"
     ]
    }
   ],
   "source": [
    "multi_nb, nb, X_train, X_test, train_targets, test_targets = run_experiment(reduced7000_path, \n",
    "                                                                            tokenized_titles=True, \n",
    "                                                                            use_stemmer=False)"
   ]
  },
  {
   "cell_type": "markdown",
   "metadata": {},
   "source": [
    "#### Multinomial NB Results"
   ]
  },
  {
   "cell_type": "code",
   "execution_count": 214,
   "metadata": {
    "collapsed": true
   },
   "outputs": [
    {
     "name": "stdout",
     "output_type": "stream",
     "text": [
      "acc: 15.25\n",
      "top 2: 22.23\n",
      "top 3: 26.64\n",
      "top 4: 29.92\n",
      "top 5: 32.57\n"
     ]
    }
   ],
   "source": [
    "print_top_k_accs(multi_nb, X_test, test_targets)"
   ]
  },
  {
   "cell_type": "markdown",
   "metadata": {},
   "source": [
    "#### Bernoulli NB"
   ]
  },
  {
   "cell_type": "code",
   "execution_count": 215,
   "metadata": {
    "collapsed": true
   },
   "outputs": [
    {
     "name": "stdout",
     "output_type": "stream",
     "text": [
      "acc: 13.18\n",
      "top 2: 19.65\n",
      "top 3: 23.78\n",
      "top 4: 26.97\n",
      "top 5: 29.49\n"
     ]
    }
   ],
   "source": [
    "print_top_k_accs(nb, X_test, test_targets)"
   ]
  },
  {
   "cell_type": "markdown",
   "metadata": {},
   "source": [
    "### With Stemming"
   ]
  },
  {
   "cell_type": "code",
   "execution_count": 219,
   "metadata": {
    "collapsed": true
   },
   "outputs": [
    {
     "name": "stdout",
     "output_type": "stream",
     "text": [
      "Training Naive Bayes...\n",
      "Running trained model on test dataset\n",
      "Model Accuracy: 0.15173738952971436\n",
      "Training Naive Bayes...\n",
      "Running trained model on test dataset\n",
      "Model Accuracy: 0.13126943113397263\n"
     ]
    }
   ],
   "source": [
    "multi_nb, nb, X_train, X_test, train_targets, test_targets = run_experiment(reduced7000_path, \n",
    "                                                                            tokenized_titles=True, \n",
    "                                                                            use_stemmer=True)"
   ]
  },
  {
   "cell_type": "markdown",
   "metadata": {},
   "source": [
    "#### Multinomial NB Results"
   ]
  },
  {
   "cell_type": "code",
   "execution_count": 220,
   "metadata": {
    "collapsed": true
   },
   "outputs": [
    {
     "name": "stdout",
     "output_type": "stream",
     "text": [
      "acc: 15.14\n",
      "top 2: 21.97\n",
      "top 3: 26.43\n",
      "top 4: 29.73\n",
      "top 5: 32.35\n"
     ]
    }
   ],
   "source": [
    "print_top_k_accs(multi_nb, X_test, test_targets)"
   ]
  },
  {
   "cell_type": "markdown",
   "metadata": {},
   "source": [
    "#### Bernoulli NB"
   ]
  },
  {
   "cell_type": "code",
   "execution_count": 221,
   "metadata": {
    "collapsed": true
   },
   "outputs": [
    {
     "name": "stdout",
     "output_type": "stream",
     "text": [
      "acc: 13.13\n",
      "top 2: 19.61\n",
      "top 3: 23.80\n",
      "top 4: 27.01\n",
      "top 5: 29.46\n"
     ]
    }
   ],
   "source": [
    "print_top_k_accs(nb, X_test, test_targets)"
   ]
  },
  {
   "cell_type": "markdown",
   "metadata": {},
   "source": [
    "## Use Full Job Titles"
   ]
  },
  {
   "cell_type": "code",
   "execution_count": 225,
   "metadata": {
    "collapsed": true
   },
   "outputs": [
    {
     "name": "stdout",
     "output_type": "stream",
     "text": [
      "Training Naive Bayes...\n",
      "Running trained model on test dataset\n",
      "Model Accuracy: 0.16619624177253714\n",
      "Training Naive Bayes...\n",
      "Running trained model on test dataset\n",
      "Model Accuracy: 0.1112609575185435\n"
     ]
    }
   ],
   "source": [
    "multi_nb, nb, X_train, X_test, train_targets, test_targets = run_experiment(reduced7000_path, \n",
    "                                                                            tokenized_titles=False, \n",
    "                                                                            use_stemmer=False)"
   ]
  },
  {
   "cell_type": "markdown",
   "metadata": {},
   "source": [
    "#### Multinomial NB Results"
   ]
  },
  {
   "cell_type": "code",
   "execution_count": 226,
   "metadata": {
    "collapsed": true
   },
   "outputs": [
    {
     "name": "stdout",
     "output_type": "stream",
     "text": [
      "acc: 16.59\n",
      "top 2: 23.88\n",
      "top 3: 28.37\n",
      "top 4: 31.65\n",
      "top 5: 34.32\n"
     ]
    }
   ],
   "source": [
    "print_top_k_accs(multi_nb, X_test, test_targets)"
   ]
  },
  {
   "cell_type": "markdown",
   "metadata": {},
   "source": [
    "#### Bernoulli NB"
   ]
  },
  {
   "cell_type": "code",
   "execution_count": 227,
   "metadata": {
    "collapsed": true
   },
   "outputs": [
    {
     "name": "stdout",
     "output_type": "stream",
     "text": [
      "acc: 11.13\n",
      "top 2: 16.81\n",
      "top 3: 20.28\n",
      "top 4: 22.93\n",
      "top 5: 25.15\n"
     ]
    }
   ],
   "source": [
    "print_top_k_accs(nb, X_test, test_targets)"
   ]
  }
 ],
 "metadata": {
  "kernelspec": {
   "display_name": "Python 3",
   "language": "python",
   "name": "python3"
  },
  "language_info": {
   "codemirror_mode": {
    "name": "ipython",
    "version": 3
   },
   "file_extension": ".py",
   "mimetype": "text/x-python",
   "name": "python",
   "nbconvert_exporter": "python",
   "pygments_lexer": "ipython3",
   "version": "3.6.3"
  }
 },
 "nbformat": 4,
 "nbformat_minor": 2
}
