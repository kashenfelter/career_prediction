{
 "cells": [
  {
   "cell_type": "code",
   "execution_count": 2,
   "metadata": {},
   "outputs": [],
   "source": [
    "import tensorflow as tf\n",
    "from sklearn.manifold import TSNE\n",
    "import os"
   ]
  },
  {
   "cell_type": "code",
   "execution_count": null,
   "metadata": {},
   "outputs": [],
   "source": [
    "saver.restore(sess, config.save_path)\n",
    "tvars = tf.trainable_variables()\n",
    "\n",
    " for v in tvars:\n",
    "     print v.name\n",
    "\n",
    "job_emb  = [ graph.get_tensor_by_name(v.name).eval()  for v in tvars if v.name == ''\"abc\"][0] #job embedding matrix \n",
    "id_to_job = {......}"
   ]
  },
  {
   "cell_type": "code",
   "execution_count": null,
   "metadata": {},
   "outputs": [],
   "source": [
    "gpu_config = tf.ConfigProto(log_device_placement=False)\n",
    "gpu_config.gpu_options.allow_growth = True\n",
    "hparam = \"title_emb_classif_use_bow=False_vocab=-1_title_seq_LSTM_1_layers_cell_lr_0.001_use_emb=True_emb_dim=300_fasttext=True_freeze_emb=False_hdim=250_dropout=0.5_data_size=670400\"\n",
    "checkpoint_dir = os.path.join(\"/data/rali7/Tmp/solimanz/data/models/\", hparam)\n",
    "\n",
    "with tf.Session(config=gpu_config) as sess:\n",
    "    ckpt = tf.train.get_checkpoint_state(checkpoint_dir)\n",
    "    saver.restore(sess, config.save_path)\n",
    "    tvars = tf.trainable_variables()"
   ]
  }
 ],
 "metadata": {
  "kernelspec": {
   "display_name": "Python 3",
   "language": "python",
   "name": "python3"
  },
  "language_info": {
   "codemirror_mode": {
    "name": "ipython",
    "version": 3
   },
   "file_extension": ".py",
   "mimetype": "text/x-python",
   "name": "python",
   "nbconvert_exporter": "python",
   "pygments_lexer": "ipython3",
   "version": "3.6.3"
  }
 },
 "nbformat": 4,
 "nbformat_minor": 2
}
