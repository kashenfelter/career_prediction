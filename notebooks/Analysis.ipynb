{
 "cells": [
  {
   "cell_type": "code",
   "execution_count": 1,
   "metadata": {},
   "outputs": [
    {
     "name": "stderr",
     "output_type": "stream",
     "text": [
      "/u/solimanz/development/career_prediction_gpu/lib/python3.6/site-packages/ggplot/utils.py:81: FutureWarning: pandas.tslib is deprecated and will be removed in a future version.\n",
      "You can access Timestamp as pandas.Timestamp\n",
      "  pd.tslib.Timestamp,\n",
      "/u/solimanz/development/career_prediction_gpu/lib/python3.6/site-packages/ggplot/stats/smoothers.py:4: FutureWarning: The pandas.lib module is deprecated and will be removed in a future version. These are private functions and can be accessed from pandas._libs.lib instead\n",
      "  from pandas.lib import Timestamp\n",
      "/u/solimanz/development/career_prediction_gpu/lib/python3.6/site-packages/statsmodels/compat/pandas.py:56: FutureWarning: The pandas.core.datetools module is deprecated and will be removed in a future version. Please use the pandas.tseries module instead.\n",
      "  from pandas.core import datetools\n"
     ]
    }
   ],
   "source": [
    "import pandas as pd\n",
    "import numpy as np\n",
    "import json\n",
    "import pickle\n",
    "from collections import Counter, defaultdict\n",
    "from itertools import product\n",
    "from sklearn.metrics import confusion_matrix\n",
    "import nltk\n",
    "from nltk.util import ngrams\n",
    "from nltk.corpus import stopwords\n",
    "from bidict import bidict\n",
    "from statistics import mean\n",
    "from multiprocessing import Process\n",
    "import sys\n",
    "import os\n",
    "import re\n",
    "import kenlm\n",
    "import matplotlib.pyplot as plt\n",
    "import seaborn as sns\n",
    "from ggplot import aes, xlab, ylab, geom_point, geom_histogram, geom_line, facet_grid, facet_wrap, ggplot"
   ]
  },
  {
   "cell_type": "code",
   "execution_count": 2,
   "metadata": {},
   "outputs": [],
   "source": [
    "%matplotlib inline\n",
    "plt.style.use(['dark_background', 'ggplot'])\n",
    "sns.set(color_codes=True)\n",
    "sns.set_palette(sns.color_palette('dark'))"
   ]
  },
  {
   "cell_type": "code",
   "execution_count": 3,
   "metadata": {},
   "outputs": [],
   "source": [
    "def groupby_length(seq_lengths):\n",
    "    d = dict()    \n",
    "    for i in range(2, seq_lengths.max()+1):\n",
    "        d[i] = np.where(seq_lengths == i)[0]\n",
    "    return d\n",
    "\n",
    "\n",
    "        \n",
    "def accuracy_by_length(preds, targets, groups, k=1):\n",
    "    \"\"\"\n",
    "    preds: predictions of the model (n_examples, max_length, n_labels)\n",
    "    targets: prediction targets with shape (n_examples, max_lenth, n_labels)\n",
    "    groups: dictionary grouping the indices of the input sequences by length\"\"\"\n",
    "    \n",
    "    length_acc = dict()    \n",
    "    for length, indices in groups.items():\n",
    "        if len(indices) > 0:\n",
    "            if len(preds.shape) == 3:\n",
    "                p = preds[indices, length-1, :]\n",
    "                t = np.argmax(targets[indices, length-1, :], axis=1)\n",
    "                length_acc[length] = top_k_acc(p, t, k)\n",
    "            else:\n",
    "                p = preds[indices]\n",
    "                t = targets[indices]\n",
    "                length_acc[length] = top_k_acc(p, t, k)\n",
    "        \n",
    "    return length_acc\n",
    "\n",
    "def to_python_lists(np_arr, lengths):\n",
    "    return [row[:length] for row, length in zip(np_arr, lengths)]\n",
    "\n",
    "def count_transitions(sequences):\n",
    "    trans = [list(zip(seq[:-1], seq[1:])) for seq in sequences]\n",
    "    trans = sum(trans, [])\n",
    "    \n",
    "    return Counter(trans)\n",
    "\n",
    "def normalize_counter(counts):\n",
    "    total = sum(counts.values(), 0)\n",
    "    for key in counts:\n",
    "        counts[key] /= total\n",
    "    \n",
    "    return counts\n",
    "\n",
    "def get_ngrams(n, tokens):    \n",
    "    return [tuple(tokens[i:i+n]) for i in range(len(tokens)-n+1)]\n",
    "\n",
    "def get_index(target, top_preds):    \n",
    "    indices = np.where(top_preds == target)[0]\n",
    "    if len(indices) == 0:\n",
    "        return -1\n",
    "    \n",
    "    return indices[0]"
   ]
  },
  {
   "cell_type": "markdown",
   "metadata": {},
   "source": [
    "# Load Datasets"
   ]
  },
  {
   "cell_type": "code",
   "execution_count": 4,
   "metadata": {},
   "outputs": [],
   "source": [
    "path550 = \"/data/rali7/Tmp/solimanz/data/datasets/top550/\"\n",
    "path7k = \"/data/rali7/Tmp/solimanz/data/datasets/reduced7000/\"\n",
    "\n",
    "# Load data dicts\n",
    "with open(os.path.join(path550, \"jobid\", \"data.json\"), \"r\") as f:\n",
    "    data550 = json.load(f)\n",
    "with open(os.path.join(path7k, \"jobid\", \"data.json\"), \"r\") as f:\n",
    "    data7k = json.load(f)"
   ]
  },
  {
   "cell_type": "markdown",
   "metadata": {},
   "source": [
    "# Fetch Predictive Model Results"
   ]
  },
  {
   "cell_type": "code",
   "execution_count": 5,
   "metadata": {},
   "outputs": [],
   "source": [
    "def next_batch(path):\n",
    "    batch = 0\n",
    "    name = os.path.basename(path)\n",
    "    while os.path.exists(os.path.join(path, f\"{name}_batch_{batch}.npy\")):\n",
    "        with open(os.path.join(path, f\"{name}_batch_{batch}.npy\"), \"rb\") as f:\n",
    "            matrix = np.load(f)\n",
    "        batch += 1\n",
    "        yield matrix\n",
    "        \n",
    "def get_neural_predictions(model, dataset):\n",
    "    result_path = \"/data/rali7/Tmp/solimanz/data/model_predictions\"\n",
    "    gen = next_batch(os.path.join(result_path, dataset, model, \"predictions\"))\n",
    "    predictions = []\n",
    "    \n",
    "    for preds in gen:\n",
    "        p = preds.reshape(preds.shape[1], preds.shape[2])\n",
    "        predictions.append((-p).argsort(axis=1)[:, :10].shape)\n",
    "    \n",
    "    predictions = np.concatenate(predictions)\n",
    "    \n",
    "    return predictions"
   ]
  },
  {
   "cell_type": "markdown",
   "metadata": {},
   "source": [
    "# Predict Most Probable Baseline"
   ]
  },
  {
   "cell_type": "markdown",
   "metadata": {},
   "source": [
    "# Predict Last Baseline"
   ]
  },
  {
   "cell_type": "markdown",
   "metadata": {},
   "source": [
    "# KenLM Baseline"
   ]
  },
  {
   "cell_type": "markdown",
   "metadata": {},
   "source": [
    "## Prepare Data For KenLM"
   ]
  },
  {
   "cell_type": "code",
   "execution_count": 6,
   "metadata": {},
   "outputs": [],
   "source": [
    "def prepare_KenLM(train_data, dataset):\n",
    "    train_txt = \"\\n\".join([\" \".join([str(i) for i in dat[1]]) for dat in train_data])\n",
    "    \n",
    "    with open(f\"/data/rali7/Tmp/solimanz/data/datasets/ngrams/train_{dataset}.txt\", \"w\") as f:\n",
    "        f.write(train_txt)"
   ]
  },
  {
   "cell_type": "code",
   "execution_count": 7,
   "metadata": {},
   "outputs": [],
   "source": [
    "prepare_KenLM(data550['train_data'], '550')\n",
    "prepare_KenLM(data7k['train_data'], '7k')"
   ]
  },
  {
   "cell_type": "markdown",
   "metadata": {},
   "source": [
    "## Make Predictions"
   ]
  },
  {
   "cell_type": "code",
   "execution_count": 8,
   "metadata": {},
   "outputs": [],
   "source": [
    "n_7k = len(data7k['title_to_id'])\n",
    "n_550 = len(data550['title_to_id'])"
   ]
  },
  {
   "cell_type": "code",
   "execution_count": 9,
   "metadata": {},
   "outputs": [],
   "source": [
    "def kenlm_predict(test, n_labels, n=2, model_binary='bigram550'):    \n",
    "    model = kenlm.Model(f\"../../kenlm/build/{model_binary}.binary\")\n",
    "    model_preds = np.zeros((len(test), n_labels))\n",
    "    \n",
    "    for j, seq in enumerate(test):\n",
    "        test_seq = seq[-(n-1):]\n",
    "        for i in range(n_labels):\n",
    "            model_preds[j][i] = model.score(\" \".join(test_seq + [str(i)]))      \n",
    "\n",
    "    return (-model_preds).argsort(axis=1)[:, :10]"
   ]
  },
  {
   "cell_type": "code",
   "execution_count": 10,
   "metadata": {},
   "outputs": [],
   "source": [
    "models_550 = [(2, 'bigram550'),\n",
    "              (3, 'trigram550'),\n",
    "              (4, '4gram550'),\n",
    "              (5, '5gram550')]\n",
    "\n",
    "models_7k = [(2, 'bigram7k'),\n",
    "             (3, 'trigram7k'),\n",
    "             (4, '4gram7k'),\n",
    "             (5, '5gram7k')]"
   ]
  },
  {
   "cell_type": "code",
   "execution_count": 11,
   "metadata": {},
   "outputs": [],
   "source": [
    "def worker(test_data, n_labels, n, model):\n",
    "    preds = kenlm_predict(test_data, n_labels, n, model)\n",
    "    #filename = model.split('.')[0]\n",
    "    np.save(f'/data/rali7/Tmp/solimanz/data/ngram_preds/{model}.npy', preds)"
   ]
  },
  {
   "cell_type": "code",
   "execution_count": 12,
   "metadata": {},
   "outputs": [],
   "source": [
    "def run_KenLM_multi(models, data, n_labels):\n",
    "    test_data = [[str(i) for i in dat[1][:-1]] for dat in data[\"test_data\"]]\n",
    "    jobs = []\n",
    "    for n, model in models:\n",
    "        p = Process(target=worker, args=(test_data, n_labels, n, model))\n",
    "        jobs.append(p)\n",
    "        p.start()"
   ]
  },
  {
   "cell_type": "code",
   "execution_count": 13,
   "metadata": {},
   "outputs": [],
   "source": [
    "def run_KenLM(models, data, n_labels, result_dict=None):\n",
    "    if result_dict is None:\n",
    "        result_dict = dict()\n",
    "\n",
    "    test_data = [[str(i) for i in dat[1][:-1]] for dat in data[\"test_data\"]]\n",
    "    for n, model in models:\n",
    "        p = Process\n",
    "        key = re.split(r\"550|7k\", model)[0]\n",
    "        result_dict[key] = kenlm_predict(test_data, n_labels, n, model)\n",
    "    \n",
    "    return result_dict"
   ]
  },
  {
   "cell_type": "code",
   "execution_count": 14,
   "metadata": {},
   "outputs": [],
   "source": [
    "run_KenLM_multi(models_550, data550, n_550)"
   ]
  },
  {
   "cell_type": "code",
   "execution_count": 15,
   "metadata": {},
   "outputs": [],
   "source": [
    "run_KenLM_multi(models_7k, data7k, n_7k)"
   ]
  },
  {
   "cell_type": "code",
   "execution_count": null,
   "metadata": {},
   "outputs": [],
   "source": [
    "with open('/data/rali7/Tmp/solimanz/data/pickles/res550.pkl', 'wb') as f:\n",
    "    pickle.dump(file=f, obj=res550)\n",
    "with open('/data/rali7/Tmp/solimanz/data/pickles/res7k.pkl', 'wb') as f:\n",
    "    pickle.dump(file=f, obj=res7k)"
   ]
  },
  {
   "cell_type": "code",
   "execution_count": 26,
   "metadata": {},
   "outputs": [],
   "source": [
    "models = [t[1].split('.')[0] for t in models_550] + [t[1].split('.')[0] for t in models_7k]"
   ]
  },
  {
   "cell_type": "code",
   "execution_count": 35,
   "metadata": {},
   "outputs": [],
   "source": [
    "def fetch_ngram_results(models, res_dict=None):\n",
    "    if res_dict is None:\n",
    "        res_dict = dict()\n",
    "    ngram_preds_path = \"/data/rali7/Tmp/solimanz/data/ngram_preds/\"\n",
    "    \n",
    "    for model in models:\n",
    "        res_dict[model[1]] = np.load(os.path.join(ngram_preds_path, model[1] + '.npy'))"
   ]
  },
  {
   "cell_type": "code",
   "execution_count": 36,
   "metadata": {},
   "outputs": [],
   "source": [
    "res550 = dict()\n",
    "res7k = dict()"
   ]
  },
  {
   "cell_type": "code",
   "execution_count": 37,
   "metadata": {},
   "outputs": [],
   "source": [
    "fetch_ngram_results(models_550, res550)\n",
    "fetch_ngram_results(models_7k, res7k)"
   ]
  },
  {
   "cell_type": "markdown",
   "metadata": {},
   "source": [
    "# Analysis"
   ]
  },
  {
   "cell_type": "markdown",
   "metadata": {},
   "source": [
    "## Distribution of Job Title Targets"
   ]
  },
  {
   "cell_type": "markdown",
   "metadata": {},
   "source": [
    "## Accuracy Comparison"
   ]
  },
  {
   "cell_type": "code",
   "execution_count": 38,
   "metadata": {},
   "outputs": [],
   "source": [
    "targets_550 = [d[1][-1] for d in data550['test_data']]\n",
    "targets_7k = [d[1][-1] for d in data7k['test_data']]"
   ]
  },
  {
   "cell_type": "code",
   "execution_count": 61,
   "metadata": {},
   "outputs": [],
   "source": [
    "def top_k_acc(preds, targets, k=1):\n",
    "    \"\"\"\n",
    "    preds has shape (n_examples, n_labels)\n",
    "    targets has shape (n_examples, 1)\n",
    "    \"\"\"\n",
    "\n",
    "    #sorted_args = (-preds).argsort(axis=1)[:,:k]\n",
    "    sorted_args = preds[:,:k]\n",
    "    tt = np.tile(targets, (k,1)).T\n",
    "    acc = np.mean(np.sum(sorted_args == tt, axis=1))\n",
    "    return acc\n",
    "\n",
    "def get_acc_df(preds, targets, dataset):\n",
    "    \n",
    "    ks = list(range(1,11))\n",
    "    df_dict = {\n",
    "    'dataset': [],\n",
    "    'top_k': [],\n",
    "    'model': [],\n",
    "    'accuracy': []\n",
    "    }\n",
    "\n",
    "    for name, ps in preds.items():\n",
    "        for k in ks:\n",
    "            df_dict['dataset'].append(dataset)\n",
    "            df_dict[\"model\"].append(name)\n",
    "            df_dict[\"top_k\"].append(k)\n",
    "            df_dict[\"accuracy\"].append(round(top_k_acc(ps, targets, k), 5)*100)\n",
    "            \n",
    "    return pd.DataFrame(df_dict)"
   ]
  },
  {
   "cell_type": "markdown",
   "metadata": {},
   "source": [
    "### N-gram Models"
   ]
  },
  {
   "cell_type": "code",
   "execution_count": 73,
   "metadata": {},
   "outputs": [],
   "source": [
    "accs_550 = get_acc_df(res550, targets_550, '550_titles')\n",
    "accs_7k = get_acc_df(res7k, targets_7k, '7k_titles')"
   ]
  },
  {
   "cell_type": "code",
   "execution_count": 74,
   "metadata": {},
   "outputs": [],
   "source": [
    "accs = pd.concat([accs_550, accs_7k])"
   ]
  },
  {
   "cell_type": "code",
   "execution_count": 75,
   "metadata": {},
   "outputs": [
    {
     "data": {
      "image/png": "[encoded data removed]",
      "text/plain": [
       "<matplotlib.figure.Figure at 0x7f11beeeee80>"
      ]
     },
     "metadata": {},
     "output_type": "display_data"
    },
    {
     "data": {
      "text/plain": [
       "<ggplot: (8732137141701)>"
      ]
     },
     "execution_count": 75,
     "metadata": {},
     "output_type": "execute_result"
    }
   ],
   "source": [
    "ggplot(aes(x='top_k', y='accuracy', color='model'), data=accs_7k) \\\n",
    "+ geom_point(size=100, alpha=0.5) \\\n",
    "+ geom_line() \\\n",
    "+ xlab(\"Top K predictions\") \\\n",
    "+ ylab(\"Accuracy\") \\"
   ]
  },
  {
   "cell_type": "markdown",
   "metadata": {},
   "source": [
    "### Neuronal Models"
   ]
  },
  {
   "cell_type": "code",
   "execution_count": null,
   "metadata": {},
   "outputs": [],
   "source": []
  }
 ],
 "metadata": {
  "kernelspec": {
   "display_name": "Python 3",
   "language": "python",
   "name": "python3"
  },
  "language_info": {
   "codemirror_mode": {
    "name": "ipython",
    "version": 3
   },
   "file_extension": ".py",
   "mimetype": "text/x-python",
   "name": "python",
   "nbconvert_exporter": "python",
   "pygments_lexer": "ipython3",
   "version": "3.6.3"
  }
 },
 "nbformat": 4,
 "nbformat_minor": 2
}
