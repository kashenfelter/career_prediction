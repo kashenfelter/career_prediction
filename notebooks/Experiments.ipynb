{
 "cells": [
  {
   "cell_type": "code",
   "execution_count": 1,
   "metadata": {},
   "outputs": [],
   "source": [
    "import pandas as pd\n",
    "import numpy as np\n",
    "import pickle\n",
    "import json\n",
    "import os\n",
    "from collections import defaultdict, Counter"
   ]
  },
  {
   "cell_type": "code",
   "execution_count": 2,
   "metadata": {},
   "outputs": [],
   "source": [
    "df = pd.read_pickle(\"/data/rali7/Tmp/solimanz/data/pickles/excerpt-2017-02-20_reduced.pkl\")"
   ]
  },
  {
   "cell_type": "code",
   "execution_count": 2,
   "metadata": {},
   "outputs": [],
   "source": [
    "def compute_examples_n(ranks_counts, lower=100, upper=1500000, step=100):\n",
    "    top_ks = np.arange(lower, upper, step)\n",
    "    n_examples = []    \n",
    "    for k in top_ks:\n",
    "        n_examples.append(rank_counts[:k].sum())        \n",
    "    return top_ks, n_examples\n",
    "\n",
    "def compute_gain(df):\n",
    "    df[\"title_rank\"] = df.reduced.apply(lambda s: reduced_freq.index.get_loc(s))\n",
    "    id_ranks = df.groupby(\"_id\")[\"title_rank\"].max()\n",
    "    rank_counts = id_ranks.value_counts().sort_index()\n",
    "    x, y = compute_examples_n(rank_counts, lower=100, upper=1000000)"
   ]
  },
  {
   "cell_type": "code",
   "execution_count": 3,
   "metadata": {},
   "outputs": [],
   "source": [
    "top7000 = \"/data/rali7/Tmp/solimanz/data/datasets/reduced7000/\"\n",
    "top550 = \"/data/rali7/Tmp/solimanz/data/datasets/top550\""
   ]
  },
  {
   "cell_type": "code",
   "execution_count": 19,
   "metadata": {},
   "outputs": [],
   "source": [
    "with open(os.path.join(top7000, 'train_ids.pkl'), 'rb') as f:\n",
    "    train7k = pickle.load(f)\n",
    "with open(os.path.join(top7000, 'test_ids.pkl'), 'rb') as f:\n",
    "    test7k = pickle.load(f)\n",
    "with open(os.path.join(top7000, 'bow', 'data.json'), 'r') as f:\n",
    "    data7k = json.load(f)"
   ]
  },
  {
   "cell_type": "code",
   "execution_count": 18,
   "metadata": {},
   "outputs": [],
   "source": [
    "with open(os.path.join(top550, 'train_ids.pkl'), 'rb') as f:\n",
    "    train550 = pickle.load(f)\n",
    "with open(os.path.join(top550, 'test_ids.pkl'), 'rb') as f:\n",
    "    test550 = pickle.load(f)\n",
    "with open(os.path.join(top550, 'bow', 'data.json'), 'r') as f:\n",
    "    data550 = json.load(f)"
   ]
  },
  {
   "cell_type": "code",
   "execution_count": 42,
   "metadata": {},
   "outputs": [],
   "source": [
    "with open(\"/data/rali7/Tmp/solimanz/data/datasets/skills/skills550.pkl\", \"rb\") as f:\n",
    "    skills550 = pickle.load(f)\n",
    "with open(\"/data/rali7/Tmp/solimanz/data/datasets/skills/skills7000.pkl\", \"rb\") as f:\n",
    "    skills7k = pickle.load(f)"
   ]
  },
  {
   "cell_type": "code",
   "execution_count": 6,
   "metadata": {},
   "outputs": [],
   "source": [
    "def get_conflicts(train):\n",
    "    d = defaultdict(list)    \n",
    "    for seq in train:\n",
    "        d[tuple(seq[:-1])].append(seq[-1])\n",
    "    return d"
   ]
  },
  {
   "cell_type": "code",
   "execution_count": 7,
   "metadata": {},
   "outputs": [],
   "source": [
    "conflicts550 = get_conflicts(data550['train_data'])\n",
    "conflicts7k = get_conflicts(data7k['train_data'])"
   ]
  },
  {
   "cell_type": "code",
   "execution_count": 9,
   "metadata": {},
   "outputs": [
    {
     "name": "stdout",
     "output_type": "stream",
     "text": [
      "Number of unique input sequences: 96486\n",
      "Number of total sequences: 96486\n"
     ]
    }
   ],
   "source": [
    "print(f\"Number of unique input sequences: {len(conflicts550)}\")\n",
    "print(f\"Number of total sequences: {len(train550)}\")"
   ]
  },
  {
   "cell_type": "code",
   "execution_count": 10,
   "metadata": {},
   "outputs": [
    {
     "name": "stdout",
     "output_type": "stream",
     "text": [
      "Number of unique input sequences: 670400\n",
      "Number of total sequences: 670400\n"
     ]
    }
   ],
   "source": [
    "print(f\"Number of unique input sequences: {len(conflicts7k)}\")\n",
    "print(f\"Number of total sequences: {len(train7k)}\")"
   ]
  },
  {
   "cell_type": "code",
   "execution_count": 39,
   "metadata": {},
   "outputs": [],
   "source": [
    "dat_id = set([d[0] for d in data7k['train_data']] + [d[0] for d in data7k['test_data']])"
   ]
  },
  {
   "cell_type": "code",
   "execution_count": 40,
   "metadata": {},
   "outputs": [],
   "source": [
    "all_ = set(train7k + test7k)"
   ]
  },
  {
   "cell_type": "code",
   "execution_count": 41,
   "metadata": {},
   "outputs": [
    {
     "data": {
      "text/plain": [
       "True"
      ]
     },
     "execution_count": 41,
     "metadata": {},
     "output_type": "execute_result"
    }
   ],
   "source": [
    "dat_id == all_"
   ]
  },
  {
   "cell_type": "code",
   "execution_count": 43,
   "metadata": {},
   "outputs": [],
   "source": [
    "skills_ids = set(skills7k.keys())"
   ]
  },
  {
   "cell_type": "code",
   "execution_count": 45,
   "metadata": {},
   "outputs": [
    {
     "data": {
      "text/plain": [
       "837999"
      ]
     },
     "execution_count": 45,
     "metadata": {},
     "output_type": "execute_result"
    }
   ],
   "source": [
    "len(all_)"
   ]
  },
  {
   "cell_type": "markdown",
   "metadata": {},
   "source": [
    "# Skill2Vec"
   ]
  },
  {
   "cell_type": "code",
   "execution_count": null,
   "metadata": {},
   "outputs": [],
   "source": []
  }
 ],
 "metadata": {
  "kernelspec": {
   "display_name": "Python 3",
   "language": "python",
   "name": "python3"
  },
  "language_info": {
   "codemirror_mode": {
    "name": "ipython",
    "version": 3
   },
   "file_extension": ".py",
   "mimetype": "text/x-python",
   "name": "python",
   "nbconvert_exporter": "python",
   "pygments_lexer": "ipython3",
   "version": "3.6.3"
  }
 },
 "nbformat": 4,
 "nbformat_minor": 2
}
