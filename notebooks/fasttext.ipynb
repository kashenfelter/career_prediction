{
 "cells": [
  {
   "cell_type": "code",
   "execution_count": 66,
   "metadata": {},
   "outputs": [],
   "source": [
    "import numpy as np\n",
    "import pickle\n",
    "from pyfasttext import FastText\n",
    "from collections import defaultdict"
   ]
  },
  {
   "cell_type": "code",
   "execution_count": 4,
   "metadata": {},
   "outputs": [],
   "source": [
    "model = FastText(\"/data/rali7/Tmp/solimanz/data/wikipedia/wiki.en.bin\")"
   ]
  },
  {
   "cell_type": "code",
   "execution_count": 55,
   "metadata": {},
   "outputs": [],
   "source": [
    "with open(\"/data/rali7/Tmp/solimanz/data/datasets/skills/skills550.pkl\", \"rb\") as f:\n",
    "    skills550 = pickle.load(f)\n",
    "with open(\"/data/rali7/Tmp/solimanz/data/datasets/skills/skills7000.pkl\", \"rb\") as f:\n",
    "    skills7k = pickle.load(f)"
   ]
  },
  {
   "cell_type": "code",
   "execution_count": 56,
   "metadata": {},
   "outputs": [],
   "source": [
    "s5 = set()\n",
    "for v in skills550.values():\n",
    "    for elem in v:\n",
    "        s5.add(elem)"
   ]
  },
  {
   "cell_type": "code",
   "execution_count": 57,
   "metadata": {},
   "outputs": [],
   "source": [
    "s7 = set()\n",
    "for v in skills7k.values():\n",
    "    for elem in v:\n",
    "        s7.add(elem)"
   ]
  },
  {
   "cell_type": "code",
   "execution_count": 58,
   "metadata": {},
   "outputs": [],
   "source": [
    "def get_skills_emb(id_skills):\n",
    "    skills_emb = dict()\n",
    "    for id_, skills in id_skills.items():\n",
    "        skills_emb[id_] = model.get_numpy_sentence_vector(\" \".join(skills))\n",
    "    \n",
    "    return skills_emb"
   ]
  },
  {
   "cell_type": "code",
   "execution_count": 61,
   "metadata": {},
   "outputs": [],
   "source": [
    "skills = s5.union(s7)\n",
    "skills.add('<NS>')"
   ]
  },
  {
   "cell_type": "code",
   "execution_count": 62,
   "metadata": {},
   "outputs": [],
   "source": [
    "skills_fasttext = np.zeros((len(skills), 300))"
   ]
  },
  {
   "cell_type": "code",
   "execution_count": 63,
   "metadata": {},
   "outputs": [],
   "source": [
    "skills_id = {skill: id_ for id_, skill in enumerate(skills)}"
   ]
  },
  {
   "cell_type": "code",
   "execution_count": 64,
   "metadata": {},
   "outputs": [],
   "source": [
    "for skill, id_ in skills_id.items():\n",
    "    skills_fasttext[id_] = model.get_numpy_sentence_vector(skill)"
   ]
  },
  {
   "cell_type": "code",
   "execution_count": 65,
   "metadata": {},
   "outputs": [],
   "source": [
    "np.save('/data/rali7/Tmp/solimanz/data/datasets/skills/skills_embs.npy', skills_fasttext)"
   ]
  },
  {
   "cell_type": "code",
   "execution_count": 69,
   "metadata": {},
   "outputs": [],
   "source": [
    "def get_user_to_skill_id(id_skills, skills_id):\n",
    "    user_skills = defaultdict(list)\n",
    "    for id_, skills in id_skills.items():\n",
    "        for skill in skills:\n",
    "            user_skills[id_].append(skills_id[skill])\n",
    "    return user_skills"
   ]
  },
  {
   "cell_type": "code",
   "execution_count": 70,
   "metadata": {},
   "outputs": [],
   "source": [
    "user_skills_550 = get_user_to_skill_id(skills550, skills_id)\n",
    "user_skills_7k = get_user_to_skill_id(skills7k, skills_id)"
   ]
  },
  {
   "cell_type": "code",
   "execution_count": 71,
   "metadata": {},
   "outputs": [],
   "source": [
    "with open('/data/rali7/Tmp/solimanz/data/datasets/skills/user_skills_550.pkl', 'wb') as f:\n",
    "    pickle.dump(user_skills_550, f)\n",
    "with open('/data/rali7/Tmp/solimanz/data/datasets/skills/user_skills_7k.pkl', 'wb') as f:\n",
    "    pickle.dump(user_skills_7k, f)"
   ]
  },
  {
   "cell_type": "code",
   "execution_count": 73,
   "metadata": {},
   "outputs": [],
   "source": [
    "with open('/data/rali7/Tmp/solimanz/data/datasets/skills/skills_id.pkl', 'wb') as f:\n",
    "    pickle.dump(skills_id, f)"
   ]
  },
  {
   "cell_type": "code",
   "execution_count": null,
   "metadata": {},
   "outputs": [],
   "source": []
  }
 ],
 "metadata": {
  "kernelspec": {
   "display_name": "Python 3",
   "language": "python",
   "name": "python3"
  },
  "language_info": {
   "codemirror_mode": {
    "name": "ipython",
    "version": 3
   },
   "file_extension": ".py",
   "mimetype": "text/x-python",
   "name": "python",
   "nbconvert_exporter": "python",
   "pygments_lexer": "ipython3",
   "version": "3.6.3"
  }
 },
 "nbformat": 4,
 "nbformat_minor": 2
}
