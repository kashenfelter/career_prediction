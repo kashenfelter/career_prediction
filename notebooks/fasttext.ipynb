{
 "cells": [
  {
   "cell_type": "code",
   "execution_count": 1,
   "metadata": {},
   "outputs": [],
   "source": [
    "import numpy as np\n",
    "import pickle\n",
    "import json\n",
    "import seaborn as sns\n",
    "from nltk.corpus import stopwords\n",
    "from nltk import word_tokenize, RegexpTokenizer\n",
    "from pyfasttext import FastText\n",
    "from collections import defaultdict, Counter\n",
    "import string\n",
    "from statistics import mean"
   ]
  },
  {
   "cell_type": "code",
   "execution_count": 2,
   "metadata": {},
   "outputs": [],
   "source": [
    "model = FastText(\"/data/rali7/Tmp/solimanz/data/wikipedia/wiki.en.bin\")"
   ]
  },
  {
   "cell_type": "code",
   "execution_count": 3,
   "metadata": {},
   "outputs": [],
   "source": [
    "with open(\"/data/rali7/Tmp/solimanz/data/datasets/top550/jobid/data.json\", \"rb\") as f:\n",
    "    data550 = json.load(f)\n",
    "with open(\"/data/rali7/Tmp/solimanz/data/datasets/reduced7000/jobid/data.json\", \"rb\") as f:\n",
    "    data7k = json.load(f)"
   ]
  },
  {
   "cell_type": "code",
   "execution_count": 13,
   "metadata": {},
   "outputs": [],
   "source": [
    "with open(\"/part/01/Tmp/solimanz/data/skill_lists.json\", \"r\") as f:\n",
    "    skills = f.read()"
   ]
  },
  {
   "cell_type": "code",
   "execution_count": 17,
   "metadata": {},
   "outputs": [],
   "source": [
    "skills = skills.replace(\"}\", \"},\")\n",
    "skills = skills[:-2] + '\\n'\n",
    "skills = \"[\" + skills + \"]\"\n",
    "skills = json.loads(skills)"
   ]
  },
  {
   "cell_type": "code",
   "execution_count": 4,
   "metadata": {},
   "outputs": [],
   "source": [
    "tokenizer = RegexpTokenizer(r'\\s+|\\W', gaps=True)"
   ]
  },
  {
   "cell_type": "code",
   "execution_count": 40,
   "metadata": {},
   "outputs": [],
   "source": [
    "id_skills = {doc['id']: [skill.lower() for skill in doc['skills']] for doc in skills}"
   ]
  },
  {
   "cell_type": "code",
   "execution_count": 43,
   "metadata": {},
   "outputs": [],
   "source": [
    "pickle.dump(id_skills, open('/data/rali7/Tmp/solimanz/data/pickles/skills.pkl', 'wb'))"
   ]
  },
  {
   "cell_type": "code",
   "execution_count": 10,
   "metadata": {},
   "outputs": [],
   "source": [
    "id_skills = pickle.load(open('/data/rali7/Tmp/solimanz/data/pickles/skills.pkl', 'rb'))"
   ]
  },
  {
   "cell_type": "code",
   "execution_count": 8,
   "metadata": {},
   "outputs": [],
   "source": [
    "ids550 = [p[0] for p in data550['train_data'] + data550['test_data']]\n",
    "ids7k = [p[0] for p in data7k['train_data'] + data7k['test_data']]"
   ]
  },
  {
   "cell_type": "code",
   "execution_count": 22,
   "metadata": {},
   "outputs": [],
   "source": [
    "id_skills550 = dict()\n",
    "for id_ in ids550:\n",
    "    id_skills550[id_] = list(set(id_skills[id_]))"
   ]
  },
  {
   "cell_type": "code",
   "execution_count": 23,
   "metadata": {},
   "outputs": [],
   "source": [
    "def get_token_ids(id_skills):\n",
    "    sw = set(stopwords.words('english') + ['...'])\n",
    "    tokenizer = RegexpTokenizer(r'\\s+|\\W', gaps=True) \n",
    "    skills = []    \n",
    "    for s in id_skills.values():\n",
    "        skills += s\n",
    "    \n",
    "    tokens = list(set(tokenizer.tokenize(\" \".join(skills))))\n",
    "    tokens = [t for t in tokens if t not in string.punctuation and t not in sw]\n",
    "    \n",
    "    return {token: id_ for id_, token in enumerate(tokens)}"
   ]
  },
  {
   "cell_type": "code",
   "execution_count": 24,
   "metadata": {},
   "outputs": [],
   "source": [
    "def get_skill_tokens(id_skills):    \n",
    "    tokenizer = RegexpTokenizer(r'\\s+|\\W', gaps=True)    \n",
    "    for key, skills in id_skills.items():\n",
    "        tokens = tokenizer.tokenize(\" \".join(skills))\n",
    "        id_skills[key] = tuple(set(tokens))\n",
    "        \n",
    "    return id_skills"
   ]
  },
  {
   "cell_type": "code",
   "execution_count": 25,
   "metadata": {},
   "outputs": [],
   "source": [
    "token_id = get_token_ids(id_skills550)"
   ]
  },
  {
   "cell_type": "code",
   "execution_count": 40,
   "metadata": {},
   "outputs": [],
   "source": [
    "token_id['<NULL>'] = len(token_id)"
   ]
  },
  {
   "cell_type": "code",
   "execution_count": 44,
   "metadata": {},
   "outputs": [
    {
     "data": {
      "text/plain": [
       "20209"
      ]
     },
     "execution_count": 44,
     "metadata": {},
     "output_type": "execute_result"
    }
   ],
   "source": [
    "token_id['<NULL>']"
   ]
  },
  {
   "cell_type": "code",
   "execution_count": 26,
   "metadata": {},
   "outputs": [],
   "source": [
    "id_skills550 = get_skill_tokens(id_skills550)"
   ]
  },
  {
   "cell_type": "code",
   "execution_count": 27,
   "metadata": {},
   "outputs": [],
   "source": [
    "skills_embs = np.zeros((len(token_id), 300), dtype=np.float32)"
   ]
  },
  {
   "cell_type": "code",
   "execution_count": 29,
   "metadata": {},
   "outputs": [],
   "source": [
    "for skill in token_id.keys():    \n",
    "    emb = model.get_numpy_vector(skill)\n",
    "    skills_embs[token_id[skill]] = emb"
   ]
  },
  {
   "cell_type": "code",
   "execution_count": 54,
   "metadata": {},
   "outputs": [],
   "source": [
    "skills_embs = np.vstack((skills_embs, np.zeros((300), dtype=np.float32)))"
   ]
  },
  {
   "cell_type": "code",
   "execution_count": 76,
   "metadata": {},
   "outputs": [
    {
     "data": {
      "text/plain": [
       "(20210, 300)"
      ]
     },
     "execution_count": 76,
     "metadata": {},
     "output_type": "execute_result"
    }
   ],
   "source": [
    "skills_embs.shape"
   ]
  },
  {
   "cell_type": "code",
   "execution_count": 56,
   "metadata": {},
   "outputs": [],
   "source": [
    "np.save(\"/data/rali7/Tmp/solimanz/data/datasets/top550/skill_embs/skill_tokens.npy\", skills_embs)"
   ]
  },
  {
   "cell_type": "code",
   "execution_count": 35,
   "metadata": {},
   "outputs": [],
   "source": [
    "id_sid = {id_: [token_id[tok] for tok in skills if tok in token_id] for id_, skills in id_skills550.items()}"
   ]
  },
  {
   "cell_type": "code",
   "execution_count": 58,
   "metadata": {},
   "outputs": [],
   "source": [
    "for k, v in id_sid.items():\n",
    "    if not v:\n",
    "        id_sid[k].append('<NULL>')"
   ]
  },
  {
   "cell_type": "code",
   "execution_count": 84,
   "metadata": {},
   "outputs": [
    {
     "data": {
      "text/plain": [
       "20209"
      ]
     },
     "execution_count": 84,
     "metadata": {},
     "output_type": "execute_result"
    }
   ],
   "source": [
    "token_id['<NULL>']"
   ]
  },
  {
   "cell_type": "code",
   "execution_count": 59,
   "metadata": {},
   "outputs": [],
   "source": [
    "train_data = data550['train_data']\n",
    "test_data = data550['test_data']"
   ]
  },
  {
   "cell_type": "code",
   "execution_count": 64,
   "metadata": {},
   "outputs": [],
   "source": [
    "for dat in train_data:\n",
    "    id_ = dat[0]\n",
    "    dat.append(id_sid[id_])"
   ]
  },
  {
   "cell_type": "code",
   "execution_count": 66,
   "metadata": {},
   "outputs": [],
   "source": [
    "for dat in test_data:\n",
    "    id_ = dat[0]\n",
    "    dat.append(id_sid[id_])"
   ]
  },
  {
   "cell_type": "code",
   "execution_count": 103,
   "metadata": {},
   "outputs": [],
   "source": [
    "data550['train_data'] = train_data\n",
    "data550['test_data'] = test_data\n",
    "data550['skill_token_id'] = token_id"
   ]
  },
  {
   "cell_type": "code",
   "execution_count": 70,
   "metadata": {},
   "outputs": [],
   "source": [
    "data = train_data + test_data\n",
    "data550['max_skills_num'] = max([len(d[-1]) for d in data])"
   ]
  },
  {
   "cell_type": "code",
   "execution_count": 79,
   "metadata": {},
   "outputs": [],
   "source": [
    "data550['skills_embs'] = \"/data/rali7/Tmp/solimanz/data/datasets/top550/skill_embs/skill_tokens.npy\""
   ]
  },
  {
   "cell_type": "code",
   "execution_count": 104,
   "metadata": {},
   "outputs": [],
   "source": [
    "with open('/data/rali7/Tmp/solimanz/data/datasets/top550/skill_embs/data.json', 'w') as f:\n",
    "    json.dump(data550, f)"
   ]
  },
  {
   "cell_type": "code",
   "execution_count": 88,
   "metadata": {},
   "outputs": [],
   "source": [
    "for dat in test_data:\n",
    "    if dat[2][0] == '<NULL>':\n",
    "        dat[2][0] = token_id['<NULL>']"
   ]
  },
  {
   "cell_type": "code",
   "execution_count": 93,
   "metadata": {},
   "outputs": [
    {
     "data": {
      "text/plain": [
       "dict_keys(['title_to_id', 'train_data', 'test_data', 'maximum_seq_len', 'skill_token_id', 'max_skills_num', 'skills_embs'])"
      ]
     },
     "execution_count": 93,
     "metadata": {},
     "output_type": "execute_result"
    }
   ],
   "source": [
    "data550.keys()"
   ]
  },
  {
   "cell_type": "code",
   "execution_count": 94,
   "metadata": {},
   "outputs": [
    {
     "data": {
      "text/plain": [
       "207"
      ]
     },
     "execution_count": 94,
     "metadata": {},
     "output_type": "execute_result"
    }
   ],
   "source": [
    "data550['max_skills_num']"
   ]
  },
  {
   "cell_type": "code",
   "execution_count": 100,
   "metadata": {},
   "outputs": [],
   "source": [
    "for dat in train_data:\n",
    "    if len(dat[2]) < data550['max_skills_num']:\n",
    "        for i in range(data550['max_skills_num'] - len(dat[2])):\n",
    "            dat[2].append(token_id['<NULL>'])"
   ]
  },
  {
   "cell_type": "code",
   "execution_count": 102,
   "metadata": {},
   "outputs": [
    {
     "data": {
      "text/plain": [
       "array([207])"
      ]
     },
     "execution_count": 102,
     "metadata": {},
     "output_type": "execute_result"
    }
   ],
   "source": [
    "np.unique([len(dat[2]) for dat in train_data])"
   ]
  },
  {
   "cell_type": "code",
   "execution_count": null,
   "metadata": {},
   "outputs": [],
   "source": []
  }
 ],
 "metadata": {
  "kernelspec": {
   "display_name": "Python 3",
   "language": "python",
   "name": "python3"
  },
  "language_info": {
   "codemirror_mode": {
    "name": "ipython",
    "version": 3
   },
   "file_extension": ".py",
   "mimetype": "text/x-python",
   "name": "python",
   "nbconvert_exporter": "python",
   "pygments_lexer": "ipython3",
   "version": "3.6.3"
  }
 },
 "nbformat": 4,
 "nbformat_minor": 2
}
