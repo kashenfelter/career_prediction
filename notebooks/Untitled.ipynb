{
 "cells": [
  {
   "cell_type": "code",
   "execution_count": 2,
   "metadata": {},
   "outputs": [],
   "source": [
    "import json\n",
    "import os\n",
    "import sys\n",
    "import pandas as pd\n",
    "from bidict import bidict\n",
    "import numpy as np\n",
    "import matplotlib.pyplot as plt\n",
    "import seaborn as sns\n",
    "from collections import defaultdict\n",
    "from itertools import count\n",
    "from sklearn.decomposition import PCA\n",
    "from sklearn.manifold import TSNE\n",
    "from bokeh.io import output_notebook, reset_output\n",
    "from bokeh.plotting import figure, show, ColumnDataSource, output_file\n",
    "from bokeh.models import HoverTool"
   ]
  },
  {
   "cell_type": "code",
   "execution_count": 3,
   "metadata": {},
   "outputs": [],
   "source": [
    "%matplotlib inline\n",
    "sns.set()"
   ]
  },
  {
   "cell_type": "code",
   "execution_count": 4,
   "metadata": {},
   "outputs": [],
   "source": [
    "data_path = \"/data/rali7/Tmp/solimanz/data/model_predictions/top550/fasttext/\""
   ]
  },
  {
   "cell_type": "code",
   "execution_count": 5,
   "metadata": {},
   "outputs": [],
   "source": [
    "path550 = \"/data/rali7/Tmp/solimanz/data/datasets/top550/\"\n",
    "# Load data dicts\n",
    "with open(os.path.join(path550, \"jobid\", \"data.json\"), \"r\") as f:\n",
    "    data550 = json.load(f)"
   ]
  },
  {
   "cell_type": "code",
   "execution_count": 6,
   "metadata": {},
   "outputs": [],
   "source": [
    "def next_batch(path):\n",
    "    batch = 0\n",
    "    name = os.path.basename(path)\n",
    "    while os.path.exists(os.path.join(path, f\"{name}_batch_{batch}.npy\")):\n",
    "        with open(os.path.join(path, f\"{name}_batch_{batch}.npy\"), \"rb\") as f:\n",
    "            matrix = np.load(f)\n",
    "        batch += 1\n",
    "        yield matrix\n",
    "        \n",
    "def get_neural_data(dataset, data=\"hidden\"):\n",
    "    result_path = \"/data/rali7/Tmp/solimanz/data/model_predictions\"\n",
    "    gen = next_batch(os.path.join(result_path, dataset, \"fasttext\", data))\n",
    "    values = []\n",
    "    \n",
    "    for vals in gen:\n",
    "        values.append(vals)\n",
    "    \n",
    "    values = np.concatenate(values)\n",
    "    \n",
    "    return values"
   ]
  },
  {
   "cell_type": "code",
   "execution_count": 7,
   "metadata": {},
   "outputs": [],
   "source": [
    "hidden_states = get_neural_data(\"top550\")\n",
    "seq_lengths = get_neural_data(\"top550\", \"seq_lengths\")\n",
    "targets = get_neural_data(\"top550\", \"targets\")"
   ]
  },
  {
   "cell_type": "code",
   "execution_count": 8,
   "metadata": {},
   "outputs": [],
   "source": [
    "hidden_states = [row[:seq_len,:] for row, seq_len in zip(hidden_states, seq_lengths)]\n",
    "targets = [np.argmax(row[:seq_len,:], axis=1) for row, seq_len in zip(targets, seq_lengths)]"
   ]
  },
  {
   "cell_type": "code",
   "execution_count": 8,
   "metadata": {},
   "outputs": [
    {
     "data": {
      "text/plain": [
       "True"
      ]
     },
     "execution_count": 8,
     "metadata": {},
     "output_type": "execute_result"
    }
   ],
   "source": [
    "all([all(np.equal(d[1][1:], t)) for d, t in zip(data550[\"test_data\"], targets)])"
   ]
  },
  {
   "cell_type": "code",
   "execution_count": 9,
   "metadata": {},
   "outputs": [],
   "source": [
    "stacked_hidden = np.concatenate(hidden_states)\n",
    "stacked_targets = np.concatenate(targets)"
   ]
  },
  {
   "cell_type": "code",
   "execution_count": 16,
   "metadata": {},
   "outputs": [],
   "source": [
    "last_hidden = np.array([hs[-1] for hs in hidden_states])\n",
    "last_targets = np.array([ts[-1] for ts in targets])"
   ]
  },
  {
   "cell_type": "code",
   "execution_count": 11,
   "metadata": {},
   "outputs": [],
   "source": [
    "by_length = dict()\n",
    "for length in np.unique(seq_lengths):\n",
    "    by_length[length] = last_hidden[np.where(seq_lengths == length)[0]]"
   ]
  },
  {
   "cell_type": "code",
   "execution_count": 12,
   "metadata": {},
   "outputs": [],
   "source": [
    "by_target = dict()\n",
    "for target in np.unique(last_targets):\n",
    "    by_target[target] = last_hidden[np.where(last_targets == target)[0]]"
   ]
  },
  {
   "cell_type": "code",
   "execution_count": 13,
   "metadata": {},
   "outputs": [
    {
     "name": "stdout",
     "output_type": "stream",
     "text": [
      "Variance PCA: 0.8423899412155151\n"
     ]
    }
   ],
   "source": [
    "pca = PCA(n_components=25)\n",
    "pca_result = pca.fit_transform(stacked_hidden)\n",
    "print(f'Variance PCA: {np.sum(pca.explained_variance_ratio_)}')"
   ]
  },
  {
   "cell_type": "code",
   "execution_count": 19,
   "metadata": {},
   "outputs": [
    {
     "name": "stdout",
     "output_type": "stream",
     "text": [
      "[t-SNE] Computing 181 nearest neighbors...\n",
      "[t-SNE] Indexed 24121 samples in 0.001s...\n",
      "[t-SNE] Computed neighbors for 24121 samples in 17.863s...\n",
      "[t-SNE] Computed conditional probabilities for sample 1000 / 24121\n",
      "[t-SNE] Computed conditional probabilities for sample 2000 / 24121\n",
      "[t-SNE] Computed conditional probabilities for sample 3000 / 24121\n",
      "[t-SNE] Computed conditional probabilities for sample 4000 / 24121\n",
      "[t-SNE] Computed conditional probabilities for sample 5000 / 24121\n",
      "[t-SNE] Computed conditional probabilities for sample 6000 / 24121\n",
      "[t-SNE] Computed conditional probabilities for sample 7000 / 24121\n",
      "[t-SNE] Computed conditional probabilities for sample 8000 / 24121\n",
      "[t-SNE] Computed conditional probabilities for sample 9000 / 24121\n",
      "[t-SNE] Computed conditional probabilities for sample 10000 / 24121\n",
      "[t-SNE] Computed conditional probabilities for sample 11000 / 24121\n",
      "[t-SNE] Computed conditional probabilities for sample 12000 / 24121\n",
      "[t-SNE] Computed conditional probabilities for sample 13000 / 24121\n",
      "[t-SNE] Computed conditional probabilities for sample 14000 / 24121\n",
      "[t-SNE] Computed conditional probabilities for sample 15000 / 24121\n",
      "[t-SNE] Computed conditional probabilities for sample 16000 / 24121\n",
      "[t-SNE] Computed conditional probabilities for sample 17000 / 24121\n",
      "[t-SNE] Computed conditional probabilities for sample 18000 / 24121\n",
      "[t-SNE] Computed conditional probabilities for sample 19000 / 24121\n",
      "[t-SNE] Computed conditional probabilities for sample 20000 / 24121\n",
      "[t-SNE] Computed conditional probabilities for sample 21000 / 24121\n",
      "[t-SNE] Computed conditional probabilities for sample 22000 / 24121\n",
      "[t-SNE] Computed conditional probabilities for sample 23000 / 24121\n",
      "[t-SNE] Computed conditional probabilities for sample 24000 / 24121\n",
      "[t-SNE] Computed conditional probabilities for sample 24121 / 24121\n",
      "[t-SNE] Mean sigma: 0.000000\n",
      "[t-SNE] KL divergence after 250 iterations with early exaggeration: 79.493683\n",
      "[t-SNE] Error after 5000 iterations: 0.889879\n"
     ]
    }
   ],
   "source": [
    "tsne = TSNE(n_components=2, verbose = 1, perplexity=60, n_iter=5000, metric='cosine')\n",
    "tsne_results = tsne.fit_transform(last_hidden)\n",
    "#tsne_results = tsne.fit_transform(stacked_hidden[np.random.randint(stacked_hidden.shape[0], \n",
    "#                                                                   size=1000)])"
   ]
  },
  {
   "cell_type": "code",
   "execution_count": 21,
   "metadata": {},
   "outputs": [
    {
     "name": "stdout",
     "output_type": "stream",
     "text": [
      "s\n"
     ]
    }
   ],
   "source": [
    "print(\"s\")"
   ]
  },
  {
   "cell_type": "code",
   "execution_count": 8,
   "metadata": {},
   "outputs": [],
   "source": [
    "df_dict = defaultdict(list)\n",
    "for hidden_seq, targ_seq in zip(hidden_states, targets):\n",
    "    for i, h, t in zip(count(), hidden_seq, targ_seq):   \n",
    "        for j, neuron_value in enumerate(h):\n",
    "            df_dict[\"target\"].append(t)\n",
    "            df_dict[\"length\"].append(i + 1)     \n",
    "            df_dict[\"value\"].append(neuron_value)\n",
    "            df_dict[\"neuron\"].append(j)"
   ]
  },
  {
   "cell_type": "code",
   "execution_count": 9,
   "metadata": {},
   "outputs": [],
   "source": [
    "df = pd.DataFrame(df_dict)"
   ]
  },
  {
   "cell_type": "code",
   "execution_count": 10,
   "metadata": {},
   "outputs": [],
   "source": [
    "df.value = df.value.apply(np.sign)"
   ]
  },
  {
   "cell_type": "code",
   "execution_count": 18,
   "metadata": {},
   "outputs": [],
   "source": [
    "plt.rcParams[\"figure.figsize\"] = (30,15)"
   ]
  },
  {
   "cell_type": "code",
   "execution_count": 11,
   "metadata": {},
   "outputs": [
    {
     "data": {
      "text/html": [
       "<div>\n",
       "<style scoped>\n",
       "    .dataframe tbody tr th:only-of-type {\n",
       "        vertical-align: middle;\n",
       "    }\n",
       "\n",
       "    .dataframe tbody tr th {\n",
       "        vertical-align: top;\n",
       "    }\n",
       "\n",
       "    .dataframe thead th {\n",
       "        text-align: right;\n",
       "    }\n",
       "</style>\n",
       "<table border=\"1\" class=\"dataframe\">\n",
       "  <thead>\n",
       "    <tr style=\"text-align: right;\">\n",
       "      <th></th>\n",
       "      <th>length</th>\n",
       "      <th>neuron</th>\n",
       "      <th>target</th>\n",
       "      <th>value</th>\n",
       "    </tr>\n",
       "  </thead>\n",
       "  <tbody>\n",
       "    <tr>\n",
       "      <th>0</th>\n",
       "      <td>1</td>\n",
       "      <td>0</td>\n",
       "      <td>8</td>\n",
       "      <td>1.0</td>\n",
       "    </tr>\n",
       "    <tr>\n",
       "      <th>1</th>\n",
       "      <td>1</td>\n",
       "      <td>1</td>\n",
       "      <td>8</td>\n",
       "      <td>-1.0</td>\n",
       "    </tr>\n",
       "    <tr>\n",
       "      <th>2</th>\n",
       "      <td>1</td>\n",
       "      <td>2</td>\n",
       "      <td>8</td>\n",
       "      <td>1.0</td>\n",
       "    </tr>\n",
       "    <tr>\n",
       "      <th>3</th>\n",
       "      <td>1</td>\n",
       "      <td>3</td>\n",
       "      <td>8</td>\n",
       "      <td>-1.0</td>\n",
       "    </tr>\n",
       "    <tr>\n",
       "      <th>4</th>\n",
       "      <td>1</td>\n",
       "      <td>4</td>\n",
       "      <td>8</td>\n",
       "      <td>-1.0</td>\n",
       "    </tr>\n",
       "  </tbody>\n",
       "</table>\n",
       "</div>"
      ],
      "text/plain": [
       "   length  neuron  target  value\n",
       "0       1       0       8    1.0\n",
       "1       1       1       8   -1.0\n",
       "2       1       2       8    1.0\n",
       "3       1       3       8   -1.0\n",
       "4       1       4       8   -1.0"
      ]
     },
     "execution_count": 11,
     "metadata": {},
     "output_type": "execute_result"
    }
   ],
   "source": [
    "df.head()"
   ]
  },
  {
   "cell_type": "code",
   "execution_count": 25,
   "metadata": {},
   "outputs": [
    {
     "data": {
      "text/plain": [
       "dict_keys(['title_to_id', 'train_data', 'test_data', 'maximum_seq_len'])"
      ]
     },
     "execution_count": 25,
     "metadata": {},
     "output_type": "execute_result"
    }
   ],
   "source": [
    "data550.keys()"
   ]
  },
  {
   "cell_type": "code",
   "execution_count": 30,
   "metadata": {},
   "outputs": [
    {
     "data": {
      "text/plain": [
       "['55ef65cc0b0451c87b93a1af', [8, 8, 8]]"
      ]
     },
     "execution_count": 30,
     "metadata": {},
     "output_type": "execute_result"
    }
   ],
   "source": [
    "data550[\"test_data\"][0]"
   ]
  },
  {
   "cell_type": "code",
   "execution_count": 31,
   "metadata": {},
   "outputs": [],
   "source": [
    "title_id = bidict(data550[\"title_to_id\"])\n",
    "histories = [[title_id.inv[i] for i in seq[1][:-1]] for seq in data550[\"test_data\"]]"
   ]
  },
  {
   "cell_type": "code",
   "execution_count": 33,
   "metadata": {},
   "outputs": [
    {
     "data": {
      "text/plain": [
       "['55e762010b04514a0b962783', [224, 224, 224]]"
      ]
     },
     "execution_count": 33,
     "metadata": {},
     "output_type": "execute_result"
    }
   ],
   "source": [
    "data550[\"test_data\"][11991]"
   ]
  },
  {
   "cell_type": "code",
   "execution_count": 40,
   "metadata": {},
   "outputs": [
    {
     "name": "stderr",
     "output_type": "stream",
     "text": [
      "/u/solimanz/development/career_prediction_gpu/lib/python3.6/site-packages/bokeh/models/sources.py:114: BokehUserWarning: ColumnDataSource's columns must be of the same length. Current lengths: ('desc', 428), ('hist', 24121), ('x', 428), ('y', 428)\n",
      "  \"Current lengths: %s\" % \", \".join(sorted(str((k, len(v))) for k, v in data.items())), BokehUserWarning))\n",
      "/u/solimanz/development/career_prediction_gpu/lib/python3.6/site-packages/bokeh/models/sources.py:114: BokehUserWarning: ColumnDataSource's columns must be of the same length. Current lengths: ('desc', 248), ('hist', 24121), ('x', 248), ('y', 248)\n",
      "  \"Current lengths: %s\" % \", \".join(sorted(str((k, len(v))) for k, v in data.items())), BokehUserWarning))\n",
      "/u/solimanz/development/career_prediction_gpu/lib/python3.6/site-packages/bokeh/models/sources.py:114: BokehUserWarning: ColumnDataSource's columns must be of the same length. Current lengths: ('desc', 300), ('hist', 24121), ('x', 300), ('y', 300)\n",
      "  \"Current lengths: %s\" % \", \".join(sorted(str((k, len(v))) for k, v in data.items())), BokehUserWarning))\n",
      "/u/solimanz/development/career_prediction_gpu/lib/python3.6/site-packages/bokeh/models/sources.py:114: BokehUserWarning: ColumnDataSource's columns must be of the same length. Current lengths: ('desc', 104), ('hist', 24121), ('x', 104), ('y', 104)\n",
      "  \"Current lengths: %s\" % \", \".join(sorted(str((k, len(v))) for k, v in data.items())), BokehUserWarning))\n",
      "/u/solimanz/development/career_prediction_gpu/lib/python3.6/site-packages/bokeh/models/sources.py:114: BokehUserWarning: ColumnDataSource's columns must be of the same length. Current lengths: ('desc', 214), ('hist', 24121), ('x', 214), ('y', 214)\n",
      "  \"Current lengths: %s\" % \", \".join(sorted(str((k, len(v))) for k, v in data.items())), BokehUserWarning))\n"
     ]
    }
   ],
   "source": [
    "output_file(\"embeddings.html\")\n",
    "source1 = ColumnDataSource(data=dict(\n",
    "    x=[p[0] for i, p in enumerate(tsne_results) \n",
    "       if \"engineer\" in title_id.inv[last_targets[i]] \n",
    "       and \"software\" not in title_id.inv[last_targets[i]]],\n",
    "    y=[p[1] for i, p in enumerate(tsne_results)\n",
    "      if \"engineer\" in title_id.inv[last_targets[i]] \n",
    "       and \"software\" not in title_id.inv[last_targets[i]]],\n",
    "    desc=[title_id.inv[t] for t in last_targets\n",
    "         if \"engineer\" in title_id.inv[t]\n",
    "         and \"software\" not in title_id.inv[t]],\n",
    "    hist=histories\n",
    "))\n",
    "\n",
    "source2 = ColumnDataSource(data=dict(\n",
    "    x=[p[0] for i, p in enumerate(tsne_results) \n",
    "       if \"marketing\" in title_id.inv[last_targets[i]]],\n",
    "    y=[p[1] for i, p in enumerate(tsne_results)\n",
    "      if \"marketing\" in title_id.inv[last_targets[i]]],\n",
    "    desc=[title_id.inv[t] for t in last_targets\n",
    "         if \"marketing\" in title_id.inv[t]],\n",
    "    hist=histories\n",
    "))\n",
    "\n",
    "source3 = ColumnDataSource(data=dict(\n",
    "    x=[p[0] for i, p in enumerate(tsne_results) \n",
    "       if \"chief\" in title_id.inv[last_targets[i]] \n",
    "       and \"officer\" in title_id.inv[last_targets[i]]\n",
    "       and \"finance\" not in title_id.inv[last_targets[i]]],\n",
    "    y=[p[1] for i, p in enumerate(tsne_results)\n",
    "      if \"chief\" in title_id.inv[last_targets[i]] \n",
    "       and \"officer\" in title_id.inv[last_targets[i]]\n",
    "      and \"finance\" not in title_id.inv[last_targets[i]]],\n",
    "    desc=[title_id.inv[t] for t in last_targets\n",
    "         if \"chief\" in title_id.inv[t]\n",
    "         and \"officer\" in title_id.inv[t]\n",
    "         and \"finance\" not in title_id.inv[t]],\n",
    "    hist=histories\n",
    "))\n",
    "\n",
    "source4 = ColumnDataSource(data=dict(\n",
    "    x=[p[0] for i, p in enumerate(tsne_results) \n",
    "       if \"chief\" in title_id.inv[last_targets[i]] \n",
    "       and \"finance\" in title_id.inv[last_targets[i]]],\n",
    "    y=[p[1] for i, p in enumerate(tsne_results)\n",
    "      if \"chief\" in title_id.inv[last_targets[i]] \n",
    "       and \"finance\" in title_id.inv[last_targets[i]]],\n",
    "    desc=[title_id.inv[t] for t in last_targets\n",
    "         if \"chief\" in title_id.inv[t]\n",
    "         and \"finance\" in title_id.inv[t]],\n",
    "    hist=histories\n",
    "))\n",
    "\n",
    "source5 = ColumnDataSource(data=dict(\n",
    "    x=[p[0] for i, p in enumerate(tsne_results) \n",
    "       if \"engineer\" in title_id.inv[last_targets[i]] \n",
    "       and \"software\" in title_id.inv[last_targets[i]]],\n",
    "    y=[p[1] for i, p in enumerate(tsne_results)\n",
    "      if \"engineer\" in title_id.inv[last_targets[i]] \n",
    "       and \"software\" in title_id.inv[last_targets[i]]],\n",
    "    desc=[title_id.inv[t] for t in last_targets\n",
    "         if \"engineer\" in title_id.inv[t]\n",
    "         and \"software\" in title_id.inv[t]],\n",
    "    hist=histories\n",
    "))\n",
    "\n",
    "\n",
    "hover = HoverTool( tooltips=\"\"\"\n",
    "    <div style =\"border-style: solid;border-width: 2px;background-color:white;\">         \n",
    "        <div>\n",
    "            <div style=\"font-size: 12px; color: black;font-family:sans-serif;\">Index: $index</div>\n",
    "            <div style=\"font-size: 12px; color: black;font-family:sans-serif;\">Coords: ($x, $y)</div>\n",
    "            <div style=\"font-size: 12px; color: black;font-family:sans-serif;\">Desc: @desc</div>\n",
    "            <div style=\"font-size: 12px; color: black;font-family:sans-serif;\">Exp: @hist</div>\n",
    "        </div>\n",
    "    </div>\n",
    "\"\"\")\n",
    "\n",
    "p = figure(plot_width=1500, plot_height=800, tools = \"pan,wheel_zoom,box_zoom,reset\")\n",
    "p.add_tools(hover)\n",
    "p.circle('x', 'y', size=6, source=source1, color=\"navy\")\n",
    "#p.circle('x', 'y', size=6, source=source2, color=\"red\")\n",
    "p.circle('x', 'y', size=6, source=source3, color=\"limegreen\")\n",
    "p.circle('x', 'y', size=6, source=source4, color=\"darkolivegreen\")\n",
    "p.circle('x', 'y', size=6, source=source5, color=\"cyan\")\n",
    "\n",
    "show(p)"
   ]
  },
  {
   "cell_type": "code",
   "execution_count": null,
   "metadata": {},
   "outputs": [],
   "source": [
    "print('a\"')"
   ]
  },
  {
   "cell_type": "code",
   "execution_count": 23,
   "metadata": {},
   "outputs": [],
   "source": [
    "plt.rcParams[\"figure.figsize\"] = (25,100)"
   ]
  },
  {
   "cell_type": "code",
   "execution_count": 22,
   "metadata": {},
   "outputs": [],
   "source": [
    "sns.heatmap(hidden_states[15807], cbar=False, cmap='RdBu')"
   ]
  },
  {
   "cell_type": "code",
   "execution_count": 79,
   "metadata": {},
   "outputs": [
    {
     "data": {
      "text/plain": [
       "<matplotlib.axes._subplots.AxesSubplot at 0x7f6da564d828>"
      ]
     },
     "execution_count": 79,
     "metadata": {},
     "output_type": "execute_result"
    },
    {
     "data": {
      "image/png": "[encoded data removed]",
      "text/plain": [
       "<matplotlib.figure.Figure at 0x7f6da55fc240>"
      ]
     },
     "metadata": {},
     "output_type": "display_data"
    }
   ],
   "source": [
    "sns.heatmap(hidden_states[21751], cbar=False, cmap='RdBu')"
   ]
  },
  {
   "cell_type": "code",
   "execution_count": 85,
   "metadata": {},
   "outputs": [
    {
     "data": {
      "text/plain": [
       "<matplotlib.axes._subplots.AxesSubplot at 0x7f6da5521f98>"
      ]
     },
     "execution_count": 85,
     "metadata": {},
     "output_type": "execute_result"
    },
    {
     "data": {
      "image/png": "[encoded data removed]",
      "text/plain": [
       "<matplotlib.figure.Figure at 0x7f6da5529a58>"
      ]
     },
     "metadata": {},
     "output_type": "display_data"
    }
   ],
   "source": [
    "sns.heatmap(stacked_hidden[np.where(stacked_targets == 8)[0]][:100], cbar=False, cmap='RdBu')"
   ]
  },
  {
   "cell_type": "code",
   "execution_count": 86,
   "metadata": {},
   "outputs": [
    {
     "data": {
      "text/plain": [
       "<matplotlib.axes._subplots.AxesSubplot at 0x7f6da53c95c0>"
      ]
     },
     "execution_count": 86,
     "metadata": {},
     "output_type": "execute_result"
    },
    {
     "data": {
      "image/png": "[encoded data removed]",
      "text/plain": [
       "<matplotlib.figure.Figure at 0x7f6da53dc080>"
      ]
     },
     "metadata": {},
     "output_type": "display_data"
    }
   ],
   "source": [
    "sns.heatmap(stacked_hidden[np.where(stacked_targets == 300)[0]][:100], cbar=False, cmap='RdBu')"
   ]
  },
  {
   "cell_type": "code",
   "execution_count": 10,
   "metadata": {},
   "outputs": [],
   "source": [
    "lst = []\n",
    "for i in np.unique(stacked_targets):\n",
    "    lst.append(stacked_hidden[np.where(stacked_targets == i)[0]])"
   ]
  },
  {
   "cell_type": "code",
   "execution_count": 11,
   "metadata": {},
   "outputs": [],
   "source": [
    "lst = np.concatenate(lst)"
   ]
  },
  {
   "cell_type": "code",
   "execution_count": 20,
   "metadata": {},
   "outputs": [],
   "source": []
  },
  {
   "cell_type": "code",
   "execution_count": null,
   "metadata": {},
   "outputs": [],
   "source": []
  }
 ],
 "metadata": {
  "kernelspec": {
   "display_name": "Python 3",
   "language": "python",
   "name": "python3"
  },
  "language_info": {
   "codemirror_mode": {
    "name": "ipython",
    "version": 3
   },
   "file_extension": ".py",
   "mimetype": "text/x-python",
   "name": "python",
   "nbconvert_exporter": "python",
   "pygments_lexer": "ipython3",
   "version": "3.6.3"
  }
 },
 "nbformat": 4,
 "nbformat_minor": 2
}
