{
 "cells": [
  {
   "cell_type": "code",
   "execution_count": 1,
   "metadata": {},
   "outputs": [],
   "source": [
    "import json\n",
    "import pandas as pd\n",
    "import numpy as np\n",
    "import random\n",
    "from bidict import bidict\n",
    "import seaborn as sns\n",
    "import matplotlib.pyplot as plt\n",
    "import pickle\n",
    "from collections import Counter\n",
    "import re"
   ]
  },
  {
   "cell_type": "code",
   "execution_count": 88,
   "metadata": {},
   "outputs": [
    {
     "name": "stderr",
     "output_type": "stream",
     "text": [
      "/u/solimanz/development/career_prediction_gpu/lib/python3.6/site-packages/IPython/extensions/cythonmagic.py:21: UserWarning: The Cython magic has been moved to the Cython package\n",
      "  warnings.warn(\"\"\"The Cython magic has been moved to the Cython package\"\"\")\n"
     ]
    }
   ],
   "source": [
    "%load_ext cythonmagic"
   ]
  },
  {
   "cell_type": "code",
   "execution_count": 2,
   "metadata": {},
   "outputs": [],
   "source": [
    "%matplotlib inline"
   ]
  },
  {
   "cell_type": "code",
   "execution_count": 3,
   "metadata": {},
   "outputs": [],
   "source": [
    "sns.set(style=\"darkgrid\", color_codes=True)\n",
    "plt.style.use('ggplot')"
   ]
  },
  {
   "cell_type": "code",
   "execution_count": 4,
   "metadata": {},
   "outputs": [],
   "source": [
    "raw_df = pd.read_pickle('/data/rali7/Tmp/solimanz/data/pickles/clean.pkl')"
   ]
  },
  {
   "cell_type": "code",
   "execution_count": 5,
   "metadata": {},
   "outputs": [],
   "source": [
    "def fmtcols(mylist, cols):\n",
    "    maxwidth = max(map(lambda x: len(x), mylist))\n",
    "    justifyList = list(map(lambda x: x.ljust(maxwidth), mylist))\n",
    "    lines = (' '.join(justifyList[i:i+cols]) for i in range(0,len(justifyList),cols))\n",
    "    return \"\\n\".join(lines)"
   ]
  },
  {
   "cell_type": "code",
   "execution_count": 6,
   "metadata": {},
   "outputs": [],
   "source": [
    "def apply_transforms(s):\n",
    "    for transform in transforms:\n",
    "        s = re.sub(*transform, s)\n",
    "    return s"
   ]
  },
  {
   "cell_type": "code",
   "execution_count": 86,
   "metadata": {},
   "outputs": [],
   "source": [
    "transforms = [\n",
    "    # senior/junior\n",
    "    (re.compile(r'\\bsr\\.(?!\\s)'), 'senior '),\n",
    "    (re.compile(r'\\bjr\\.(?!\\s)'), 'junior '),\n",
    "    (re.compile(r'\\bsr\\.(?!\\S)'), 'senior'),\n",
    "    (re.compile(r'\\bjr\\.(?!\\S)'), 'junior'),\n",
    "    \n",
    "    (re.compile(r'\\bsenior\\.(?!\\S)'), 'senior'),\n",
    "    (re.compile(r'\\bjunior\\.(?!\\S)'), 'junior'),\n",
    "    (re.compile(r'\\bsenior\\.(?!\\s)'), 'senior '),\n",
    "    (re.compile(r'\\bjunior\\.(?!\\s)'), 'junior '),\n",
    "    \n",
    "    (re.compile(r'\\bsr\\b'), 'senior'),\n",
    "    (re.compile(r'\\bjr\\b'), 'junior'),\n",
    "    \n",
    "    (re.compile(r'\\bi\\.*t\\.*(?!\\s)'), 'information technology '),\n",
    "    (re.compile(r'\\bi\\.*t\\.*(?!\\S)'), 'information technology'),\n",
    "    # C*O\n",
    "    (re.compile(r'\\bc\\.*e\\.*o\\.*(?!\\S)'), 'chief executive officer'),\n",
    "    (re.compile(r'\\bc\\.*o\\.*o\\.*(?!\\S)'), 'chief operating officer'),\n",
    "    (re.compile(r'\\bc\\.*t\\.*o\\.*(?!\\S)'), 'chief technology officer'),\n",
    "    (re.compile(r'\\bc\\.*f\\.*o\\.*(?!\\S)'), 'chief finance officer'),\n",
    "    (re.compile(r'\\bchief financial officer\\b'), 'chief finance officer'),\n",
    "    (re.compile(r'\\bchief operations officer\\b'), 'chief operating officer'),\n",
    "    # VP\n",
    "    (re.compile(r'\\bv\\.*p\\.*(?!\\s)'), 'vice president '),\n",
    "    (re.compile(r'\\bv\\.*p\\.*(?!\\S)'), 'vice president'),\n",
    "    #technician vs tech\n",
    "    (re.compile(r'\\btech\\.*$'), 'technician'),\n",
    "    # cofounder\n",
    "    (re.compile(r'\\bco[-|\\s]founder\\b'), 'cofounder'), \n",
    "    #coop\n",
    "    (re.compile(r'\\bco[-|\\s]op\\b'), 'coop'),\n",
    "    #addon\n",
    "    (re.compile(r'\\badd[-|\\s]on\\b'), 'addon'),\n",
    "    \n",
    "    (re.compile(r'\\br\\.n\\.'), 'registered nurse'),\n",
    "    (re.compile(r'\\br\\.n\\.\\b'), 'registered nurse '),\n",
    "    (re.compile(r'\\brn\\b'), 'registered nurse'),\n",
    "    \n",
    "    (re.compile(r'\\br\\.p\\.n\\.'), 'registered practical nurse'),\n",
    "    (re.compile(r'\\br\\.p\\.n\\.\\b'), 'registered practical nurse '),\n",
    "    (re.compile(r'\\brpn\\b'), 'registered practical nurse'),\n",
    "    (re.compile(r'\\bfreelance\\b'), 'freelancer'),\n",
    "    # HR\n",
    "    (re.compile(r'\\bhr\\b'), 'human resources'),\n",
    "    (re.compile(r'\\bh\\.r\\.\\b'), 'human resources '),\n",
    "    (re.compile(r'\\bh\\.r\\.'), 'human resources'),\n",
    "    \n",
    "    (re.compile(r'\\bcsr\\b'), 'customer service representative'),\n",
    "    (re.compile(r'\\bcustomer service rep\\b'), 'customer service representative'),\n",
    "    (re.compile(r'\\bcustomer service rep\\.'), 'customer service representative'),\n",
    "    (re.compile(r'\\bc\\.s\\.r\\.'), 'customer service representative'),\n",
    "    \n",
    "    # qa / qc\n",
    "    (re.compile(r'\\bq\\.a\\.\\b'), 'quality assurance '),\n",
    "    (re.compile(r'\\bq\\.a\\.'), 'quality assurance'),\n",
    "    (re.compile(r'\\bq\\.c\\.\\b'), 'quality control '),\n",
    "    (re.compile(r'\\bq\\.c\\.'), 'quality control'),\n",
    "    (re.compile(r'\\bdesiginer\\b'), 'designer'),\n",
    "    (re.compile(r'\\bbiomed\\b'), 'biomedical'),\n",
    "    (re.compile(r'\\bgoverenment\\b'), 'government'),\n",
    "    (re.compile(r'\\bmachanic\\b'), 'mechanic'),\n",
    "    (re.compile(r'business owner'), 'owner'),\n",
    "    (re.compile(r'\\br[\\s]*&[\\s]*d\\b'), 'research/development'),\n",
    "    (re.compile(r'\\br and d\\b'), 'research/development'),\n",
    "    (re.compile(r'[\\s]*&[\\s]*'), '/'),\n",
    "    (re.compile(r'[\\s]*,[\\s]*'), '/'),\n",
    "    (re.compile(r'[\\s]*/[\\s]*'), '/'),\n",
    "    (re.compile(r'[\\s]*\\|[\\s]*'), '/'),\n",
    "    (re.compile(r'[\\s]+and[\\s]+'), '/'),\n",
    "    (re.compile(r'\\beditor-in-chief\\b'), 'editor in chief'),\n",
    "    #(re.compile(r'[\\s]*-[\\s]*'), '/'),\n",
    "    # Remove all parens and there content\n",
    "    (re.compile(r'\\([\\w\\s\\W\\S]*\\)'), ''),\n",
    "    \n",
    "    #ESL\n",
    "    (re.compile(r'^esl$'), 'english as a second language instructor'),\n",
    "    (re.compile(r'^esl instructor$'), 'english as a second language instructor'),\n",
    "    (re.compile(r'^esl teacher$'), 'english as a second language instructor'),\n",
    "    (re.compile(r'^english as a second language$'), 'english as a second language instructor'),\n",
    "    (re.compile(r'^english as a second language teacher$'), 'english as a second language instructor'),\n",
    "    (re.compile(r'^e.s.l. instructor$'), 'english as a second language instructor'),\n",
    "    (re.compile(r'^e.s.l. teacher$'), 'english as a second language instructor')\n",
    "    ]"
   ]
  },
  {
   "cell_type": "code",
   "execution_count": 87,
   "metadata": {},
   "outputs": [],
   "source": [
    "funcs_series = raw_df.function.apply(apply_transforms)"
   ]
  },
  {
   "cell_type": "code",
   "execution_count": 89,
   "metadata": {},
   "outputs": [],
   "source": [
    "func_counts = funcs_series.value_counts()"
   ]
  },
  {
   "cell_type": "code",
   "execution_count": 90,
   "metadata": {},
   "outputs": [],
   "source": [
    "with open(\"/data/rali7/Tmp/solimanz/data_viz/top_titles.txt\", \"w\") as f:\n",
    "    f.write(fmtcols(func_counts.index.values[:550], 3))"
   ]
  },
  {
   "cell_type": "code",
   "execution_count": 41,
   "metadata": {},
   "outputs": [
    {
     "data": {
      "text/plain": [
       "1518"
      ]
     },
     "execution_count": 41,
     "metadata": {},
     "output_type": "execute_result"
    }
   ],
   "source": [
    "func_counts['coo']"
   ]
  },
  {
   "cell_type": "code",
   "execution_count": 84,
   "metadata": {},
   "outputs": [
    {
     "data": {
      "text/plain": [
       "'chief finance officer.'"
      ]
     },
     "execution_count": 84,
     "metadata": {},
     "output_type": "execute_result"
    }
   ],
   "source": [
    "re.sub(re.compile(r'\\bc\\.*f\\.*o\\.*(\\b)'), 'chief finance officer', 'cfo.')"
   ]
  },
  {
   "cell_type": "code",
   "execution_count": null,
   "metadata": {},
   "outputs": [],
   "source": []
  }
 ],
 "metadata": {
  "kernelspec": {
   "display_name": "Python 3",
   "language": "python",
   "name": "python3"
  },
  "language_info": {
   "codemirror_mode": {
    "name": "ipython",
    "version": 3
   },
   "file_extension": ".py",
   "mimetype": "text/x-python",
   "name": "python",
   "nbconvert_exporter": "python",
   "pygments_lexer": "ipython3",
   "version": "3.6.3"
  }
 },
 "nbformat": 4,
 "nbformat_minor": 2
}
