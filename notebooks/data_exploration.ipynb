{
 "cells": [
  {
   "cell_type": "code",
   "execution_count": 1,
   "metadata": {},
   "outputs": [],
   "source": [
    "import re\n",
    "import numpy as np\n",
    "import pandas as pd\n",
    "import matplotlib.pyplot as plt\n",
    "import seaborn as sns\n",
    "from collections import Counter, defaultdict\n",
    "from nltk.corpus import stopwords\n",
    "from nltk.tokenize import word_tokenize\n",
    "from pprint import pprint\n",
    "import pickle\n",
    "import random"
   ]
  },
  {
   "cell_type": "markdown",
   "metadata": {},
   "source": [
    "# Helper Functions"
   ]
  },
  {
   "cell_type": "code",
   "execution_count": 2,
   "metadata": {},
   "outputs": [],
   "source": [
    "def to_percent(y, position):\n",
    "    # The percent symbol needs escaping in latex\n",
    "    if matplotlib.rcParams['text.usetex'] is True:\n",
    "        return s + r'$\\%$'\n",
    "    else:\n",
    "        return s + '%'"
   ]
  },
  {
   "cell_type": "code",
   "execution_count": 3,
   "metadata": {},
   "outputs": [],
   "source": [
    "def fmtcols(mylist, cols):\n",
    "    maxwidth = max(map(lambda x: len(x), mylist))\n",
    "    justifyList = list(map(lambda x: x.ljust(maxwidth), mylist))\n",
    "    lines = (' & '.join(justifyList[i:i+cols]) for i in range(0,len(justifyList),cols))\n",
    "    return \" \\\\\\ \\n\".join(lines)"
   ]
  },
  {
   "cell_type": "code",
   "execution_count": 4,
   "metadata": {},
   "outputs": [],
   "source": [
    "def get_ngrams(n, tokens):    \n",
    "    return [tuple(tokens[i:i+n]) for i in range(len(tokens)-n+1)]"
   ]
  },
  {
   "cell_type": "code",
   "execution_count": 5,
   "metadata": {},
   "outputs": [],
   "source": [
    "def print_latex_tables(cols, k=500):\n",
    "    formatted = \"\\\\begin{center}\\n\\\\begin{tabular}{|l|l|l|l|}\"\n",
    "    formatted += fmtcols(function_freq.index[-k:], cols)\n",
    "    formatted += \"\\n\\\\end{tabular}\\n\\\\end{center}\"\n",
    "    with open(f\"/data/rali7/Tmp/solimanz/data_viz/bottom_{k}.txt\", \"w\") as f:\n",
    "        f.write(formatted)\n",
    "        "
   ]
  },
  {
   "cell_type": "code",
   "execution_count": 6,
   "metadata": {},
   "outputs": [],
   "source": [
    "%matplotlib inline\n",
    "plt.style.use(['dark_background', 'ggplot'])\n",
    "sns.set(color_codes=True)\n",
    "sns.set_palette(sns.color_palette('dark'))"
   ]
  },
  {
   "cell_type": "code",
   "execution_count": 81,
   "metadata": {},
   "outputs": [],
   "source": [
    "df.to_pickle(\"/data/rali7/Tmp/solimanz/data/pickles/excerpt-2017-02-20_transformed.pkl\")"
   ]
  },
  {
   "cell_type": "code",
   "execution_count": 7,
   "metadata": {},
   "outputs": [],
   "source": [
    "df = pd.read_pickle(\"/data/rali7/Tmp/solimanz/data/pickles/excerpt-2017-02-20_transformed.pkl\")"
   ]
  },
  {
   "cell_type": "markdown",
   "metadata": {},
   "source": [
    "# Initial Cleaning"
   ]
  },
  {
   "cell_type": "code",
   "execution_count": 6,
   "metadata": {},
   "outputs": [],
   "source": [
    "df[\"transformed\"] = df.function.str.lower()"
   ]
  },
  {
   "cell_type": "code",
   "execution_count": 9,
   "metadata": {},
   "outputs": [],
   "source": [
    "# Remove URLs and/or emails from job titles\n",
    "pattrn = re.compile(r\"[\\S]+\\.(ca|com|org|fr|gov|net)\")\n",
    "df[\"transformed\"] = df[\"transformed\"].str.replace(pattrn, \"\")\n",
    "\n",
    "# Replace .NET by dotnet to eliminate complications when removing periods\n",
    "df[\"transformed\"] = df[\"transformed\"].str.replace(\".net\\b\", \"dotnet\")\n",
    "\n",
    "# Replace periods between word by a space\n",
    "pattrn = re.compile(r\"\\.(?=[\\w]{2})\")\n",
    "df[\"transformed\"] = df[\"transformed\"].str.replace(pattrn, \" \")\n",
    "\n",
    "# Replace periods in acronyms by empty string\n",
    "df[\"transformed\"] = df[\"transformed\"].str.replace(\".\", \"\")\n",
    "\n",
    "# Remove parens character\n",
    "df[\"transformed\"] = df[\"transformed\"].str.replace(re.compile(r\"\\(.*\\)\"), \"\")\n",
    "\n",
    "df[\"transformed\"] = df[\"transformed\"].str.replace(re.compile(r\"co(?!\\w)(\\s)*-?(\\s)*\"), \"co \")\n",
    "df[\"transformed\"] = df[\"transformed\"].str.replace(re.compile(r\"\\bcofounder\\b\"), \"co founder\")\n",
    "df[\"transformed\"] = df[\"transformed\"].str.replace(re.compile(r\"\\bcoowner\\b\"), \"co owner\")\n",
    "\n",
    "#df[\"transformed\"] = df[\"transformed\"].str.replace(re.compile(r\"co(?!\\w)(\\s)*-?(\\s)*\"), \"co_\")"
   ]
  },
  {
   "cell_type": "markdown",
   "metadata": {},
   "source": [
    "# Regular Expressions"
   ]
  },
  {
   "cell_type": "code",
   "execution_count": 10,
   "metadata": {},
   "outputs": [],
   "source": [
    "transforms = [    \n",
    "    # senior/junior\n",
    "    (re.compile(r'\\bsr\\b'), 'senior'),\n",
    "    (re.compile(r'\\bjr\\b'), 'junior'),\n",
    "    # IT\n",
    "    (re.compile(r'\\bit\\b'), 'information technology'),\n",
    "    # C*O\n",
    "    (re.compile(r'\\bceo\\b'), 'chief executive officer'),\n",
    "    (re.compile(r'\\bcoo\\b'), 'chief operating officer'),\n",
    "    (re.compile(r'\\bcto\\b'), 'chief technology officer'),\n",
    "    (re.compile(r'\\bcfo\\b'), 'chief finance officer'),\n",
    "    (re.compile(r'\\bchief financial officer\\b'), 'chief finance officer'),\n",
    "    (re.compile(r'\\bchief operations officer\\b'), 'chief operating officer'),\n",
    "    # VP\n",
    "    (re.compile(r'\\bvp\\b'), 'vice president'),\n",
    "    (re.compile(r'\\bvice-president\\b'), 'vice president'),\n",
    "    #technician vs tech\n",
    "    (re.compile(r'\\btech\\b'), 'technician'),\n",
    "    #coop\n",
    "    (re.compile(r'\\bco[-|\\s]op\\b'), 'coop'),\n",
    "    #addon\n",
    "    (re.compile(r'\\badd[-|\\s]on\\b'), 'addon'),\n",
    "    # Nurses\n",
    "    (re.compile(r'\\brn\\b'), 'registered nurse'),\n",
    "    (re.compile(r'\\brpn\\b'), 'registered practical nurse'),\n",
    "    #T.A.\n",
    "    (re.compile(r\"\\bta\\b\"), \"teaching assistant\"),\n",
    "    (re.compile(r\"\\bteacher assistant\\b\"), \"teaching assistant\"),\n",
    "    (re.compile(r\"\\bteacher's assistant\\b\"), \"teaching assistant\"),\n",
    "    (re.compile(r\"\\bteacher's assitant\\b\"), \"teaching assistant\"),\n",
    "    \n",
    "    (re.compile(r\"\\bra\\b\"), \"research assistant\"),\n",
    "    # HR\n",
    "    (re.compile(r'\\bhr\\b'), 'human resources'),\n",
    "    # Customer service reps\n",
    "    (re.compile(r'\\bcsr\\b'), 'customer service representative'),\n",
    "    # qa / qc\n",
    "    (re.compile(r'\\bqa\\b'), 'quality assurance'),\n",
    "    (re.compile(r'\\bqc\\b'), 'quality control'),\n",
    "    # database administrator\n",
    "    (re.compile(r'\\bdba\\b'), 'database administrator'),\n",
    "    (re.compile(r'\\bdatabase admin\\b'), 'database administrator'),\n",
    "    (re.compile(r'\\bdb admin\\b'), 'database administrator'),\n",
    "    # financial service representative\n",
    "    (re.compile(r'\\bfsr\\b'), 'financial service representative'),\n",
    "    # Misspellings\n",
    "    (re.compile(r'\\bfreelance\\b'), 'freelancer'),\n",
    "    (re.compile(r'\\bdesiginer\\b'), 'designer'),\n",
    "    (re.compile(r'\\bbiomed\\b'), 'biomedical'),\n",
    "    (re.compile(r'\\bgoverenment\\b'), 'government'),\n",
    "    (re.compile(r'\\bmachanic\\b'), 'mechanic'),\n",
    "    (re.compile(r'\\bbusiness owner\\b'), 'owner'),\n",
    "    (re.compile(r'\\br(\\s)*&(\\s)*d\\b'), 'research development'),\n",
    "    (re.compile(r'\\br and d\\b'), 'research development'),\n",
    "    (re.compile(r'research/development'), 'research development'),\n",
    "    (re.compile(r'\\beditor-in-chief\\b'), 'editor_in_chief'),\n",
    "    #eit => engineer in training\n",
    "    (re.compile(r'\\beit\\b'), 'engineer in training'),\n",
    "    #ESL\n",
    "    (re.compile(r'\\besl$'), 'english as a second language instructor'),\n",
    "    (re.compile(r'\\besl instructor\\b'), 'english as a second language instructor'),\n",
    "    (re.compile(r'\\besl teacher\\b'), 'english as a second language instructor'),\n",
    "    (re.compile(r'\\benglish as a second language^'), 'english as a second language instructor'),\n",
    "    (re.compile(r'\\benglish as a second language teacher\\b'), 'english as a second language instructor'),\n",
    "    (re.compile(r'\\besl instructor\\b'), 'english as a second language instructor'),\n",
    "    \n",
    "    (re.compile(r\"\\binternship\\b\"), \"intern\"),\n",
    "    (re.compile(r\"\\bsummer intern\\b\"), \"intern\"),\n",
    "    \n",
    "    (re.compile(r\"\\bis\\b\"), \"information systems\"),\n",
    "    (re.compile(r\"\\bgis\\b\"), \"geographic information system\"),\n",
    "    (re.compile(r\"\\bpr\\b\"), \"public relations\"),\n",
    "    (re.compile(r\"\\badmin\\b\"), \"administrator\"),\n",
    "    (re.compile(r\"\\brep\\b\"), \"representative\")\n",
    "]\n",
    "\n",
    "substitutions = {r: rep for r, rep in transforms}"
   ]
  },
  {
   "cell_type": "code",
   "execution_count": 11,
   "metadata": {},
   "outputs": [],
   "source": [
    "df['transformed'].replace(substitutions, regex=True, inplace=True)"
   ]
  },
  {
   "cell_type": "code",
   "execution_count": 12,
   "metadata": {},
   "outputs": [],
   "source": [
    "df['transformed'].replace({re.compile(r\"\\s{2,}\"): \" \"}, regex=True, inplace=True)\n",
    "df[\"transformed\"] = df[\"transformed\"].str.strip()"
   ]
  },
  {
   "cell_type": "markdown",
   "metadata": {},
   "source": [
    "# Statistics"
   ]
  },
  {
   "cell_type": "code",
   "execution_count": 13,
   "metadata": {},
   "outputs": [],
   "source": [
    "function_freq = df.transformed.value_counts(normalize=False)"
   ]
  },
  {
   "cell_type": "code",
   "execution_count": 12,
   "metadata": {},
   "outputs": [
    {
     "data": {
      "text/plain": [
       "3984037"
      ]
     },
     "execution_count": 12,
     "metadata": {},
     "output_type": "execute_result"
    }
   ],
   "source": [
    "len(function_freq)"
   ]
  },
  {
   "cell_type": "code",
   "execution_count": 19,
   "metadata": {},
   "outputs": [],
   "source": [
    "pattrn = re.compile(r\"[^a-zA-Z\\d\\s]\")\n",
    "titles = [set(word_tokenize(re.sub(pattrn, \" \", t))) for t in function_freq.index]"
   ]
  },
  {
   "cell_type": "code",
   "execution_count": 120,
   "metadata": {},
   "outputs": [],
   "source": [
    "zero_length = [i for i, tok in enumerate(titles) if len(tok) == 0]\n",
    "one_length = [i for i, tok in enumerate(titles) if len(tok) == 1]"
   ]
  },
  {
   "cell_type": "code",
   "execution_count": 141,
   "metadata": {},
   "outputs": [],
   "source": [
    "weird = [function_freq.index[i] for i in zero_length]"
   ]
  },
  {
   "cell_type": "code",
   "execution_count": 132,
   "metadata": {},
   "outputs": [],
   "source": [
    "with open(\"/data/rali7/Tmp/solimanz/data/na_funcs.pkl\", \"wb\") as f:\n",
    "    pickle.dump(weird, f)"
   ]
  },
  {
   "cell_type": "code",
   "execution_count": 29,
   "metadata": {},
   "outputs": [],
   "source": [
    "bad_ids = df[df.transformed.isin(weird)]._id.unique()\n",
    "df = df.drop(df[df._id.isin(bad_ids)].index)"
   ]
  },
  {
   "cell_type": "code",
   "execution_count": 68,
   "metadata": {},
   "outputs": [],
   "source": [
    "matches = [s for s in function_freq.index if \" et \" in s or \" de \" in s]\n",
    "french_ids = df[df.transformed.isin(matches)]._id.unique()\n",
    "df = df.drop(df[df._id.isin(french_ids)].index)"
   ]
  },
  {
   "cell_type": "code",
   "execution_count": 4,
   "metadata": {},
   "outputs": [
    {
     "data": {
      "text/plain": [
       "3906306"
      ]
     },
     "execution_count": 4,
     "metadata": {},
     "output_type": "execute_result"
    }
   ],
   "source": [
    "function_freq = df.transformed.value_counts(normalize=False)\n",
    "len(function_freq)"
   ]
  },
  {
   "cell_type": "code",
   "execution_count": 5,
   "metadata": {},
   "outputs": [
    {
     "name": "stdout",
     "output_type": "stream",
     "text": [
      "2811973\n"
     ]
    }
   ],
   "source": [
    "n_ids = df._id.nunique()\n",
    "print(n_ids)"
   ]
  },
  {
   "cell_type": "code",
   "execution_count": 6,
   "metadata": {},
   "outputs": [],
   "source": [
    "x = list(range(len(function_freq)))"
   ]
  },
  {
   "cell_type": "code",
   "execution_count": 14,
   "metadata": {},
   "outputs": [],
   "source": [
    "plt.rcParams['figure.figsize'] = 15, 5\n",
    "plt.rcParams['figure.dpi'] = 100\n",
    "\n",
    "#ax = sns.barplot(x=x[:10000], y=function_freq.index[:10000], log=True)\n",
    "#for ind, label in enumerate(ax.get_xticklabels()):\n",
    "#    if ind % 100 == 0:\n",
    "#        label.set_visible(True)\n",
    "#    else:\n",
    "#        label.set_visible(False)\n",
    "        \n",
    "#ax = sns.distplot(function_freq.values, kde=False, rug=False, hist_kws={\"log\": True})\n",
    "#ax.set_title(\"Distribution of Unique Job Title String Counts\")\n",
    "#t = ax.set_xlabel(\"String Counts\")"
   ]
  },
  {
   "cell_type": "code",
   "execution_count": 164,
   "metadata": {
    "collapsed": true
   },
   "outputs": [
    {
     "data": {
      "image/png": "[encoded data removed]",
      "text/plain": [
       "<matplotlib.figure.Figure at 0x7fb50da2a6d8>"
      ]
     },
     "metadata": {},
     "output_type": "display_data"
    }
   ],
   "source": [
    "plt.rcParams['figure.figsize'] = 15, 5\n",
    "plt.rcParams['figure.dpi'] = 100\n",
    "\n",
    "ax = sns.countplot(function_freq.values, log=True)\n",
    "for ind, label in enumerate(ax.get_xticklabels()):\n",
    "    if ind % 100 == 0:\n",
    "        label.set_visible(True)\n",
    "    else:\n",
    "        label.set_visible(False)\n",
    "        \n",
    "#ax = sns.distplot(function_freq.values, kde=False, rug=False, hist_kws={\"log\": True})\n",
    "ax.set_title(\"Distribution of Unique Job Title String Counts\")\n",
    "t = ax.set_xlabel(\"String Counts\")"
   ]
  },
  {
   "cell_type": "code",
   "execution_count": 19,
   "metadata": {},
   "outputs": [
    {
     "data": {
      "text/plain": [
       "0.9817820211729444"
      ]
     },
     "execution_count": 19,
     "metadata": {},
     "output_type": "execute_result"
    }
   ],
   "source": [
    "cc = Counter(function_freq.values)\n",
    "sum([x[1] for x in cc.most_common(10)])/len(function_freq)"
   ]
  },
  {
   "cell_type": "markdown",
   "metadata": {},
   "source": [
    "client service representative, hazardous waste **informationdotnetwork**"
   ]
  },
  {
   "cell_type": "code",
   "execution_count": 28,
   "metadata": {},
   "outputs": [],
   "source": [
    "bottom = function_freq.index.values[-1000:]"
   ]
  },
  {
   "cell_type": "code",
   "execution_count": 82,
   "metadata": {},
   "outputs": [],
   "source": [
    "random.sample(list(bottom), 100)"
   ]
  },
  {
   "cell_type": "code",
   "execution_count": 69,
   "metadata": {},
   "outputs": [],
   "source": [
    "print_latex_tables(3)"
   ]
  },
  {
   "cell_type": "markdown",
   "metadata": {},
   "source": [
    "## Job Title Strings N-grams"
   ]
  },
  {
   "cell_type": "code",
   "execution_count": 42,
   "metadata": {},
   "outputs": [],
   "source": [
    "# Tokenize job title strings\n",
    "pattrn = re.compile(r\"[^a-zA-Z\\d\\s]\")\n",
    "joined = \" \".join(function_freq.index.values)\n",
    "joined = re.sub(pattrn, \" \", joined)\n",
    "tokens = word_tokenize(joined)\n",
    "to_remove = set(stopwords.words('english'))\n",
    "tokens = list(filter(lambda s: s not in to_remove, tokens))"
   ]
  },
  {
   "cell_type": "code",
   "execution_count": 43,
   "metadata": {},
   "outputs": [],
   "source": [
    "unigram_counts = Counter(tokens)"
   ]
  },
  {
   "cell_type": "code",
   "execution_count": 44,
   "metadata": {},
   "outputs": [],
   "source": [
    "t = []\n",
    "for tok, count in unigram_counts.items():\n",
    "    if len(tok) > 1 and len(tok) < 4:\n",
    "        t.append((tok, count))"
   ]
  },
  {
   "cell_type": "code",
   "execution_count": 45,
   "metadata": {},
   "outputs": [],
   "source": [
    "pattrn = re.compile(r\"[^a-zA-Z\\d\\s]\")\n",
    "titles = [set(word_tokenize(re.sub(pattrn, \" \", t))) for t in function_freq.index]"
   ]
  },
  {
   "cell_type": "code",
   "execution_count": 46,
   "metadata": {},
   "outputs": [],
   "source": [
    "num_toks_title = [len(toks) for toks in titles]"
   ]
  },
  {
   "cell_type": "code",
   "execution_count": 134,
   "metadata": {},
   "outputs": [
    {
     "data": {
      "text/plain": [
       "Text(0.5,0,'String Length')"
      ]
     },
     "execution_count": 134,
     "metadata": {},
     "output_type": "execute_result"
    },
    {
     "data": {
      "image/png": "[encoded data removed]",
      "text/plain": [
       "<matplotlib.figure.Figure at 0x7fb60e4f1b70>"
      ]
     },
     "metadata": {},
     "output_type": "display_data"
    }
   ],
   "source": [
    "plt.rcParams['figure.figsize'] = 10, 3\n",
    "plt.rcParams['figure.dpi'] = 100\n",
    "\n",
    "ax = sns.countplot(num_toks_title)\n",
    "\n",
    "for ind, label in enumerate(ax.get_xticklabels()):\n",
    "    if ind % 5 == 0:  # every 5th label is kept\n",
    "        label.set_visible(True)\n",
    "    else:\n",
    "        label.set_visible(False)\n",
    "\n",
    "ax.set_title(\"Distribution of Job Title String Lengths\")\n",
    "ax.set_xlabel(\"String Length\")"
   ]
  },
  {
   "cell_type": "code",
   "execution_count": 47,
   "metadata": {},
   "outputs": [
    {
     "data": {
      "text/plain": [
       "Text(0.5,0,'Number of Tokens')"
      ]
     },
     "execution_count": 47,
     "metadata": {},
     "output_type": "execute_result"
    },
    {
     "data": {
      "image/png": "[encoded data removed]",
      "text/plain": [
       "<matplotlib.figure.Figure at 0x7f7a848fa080>"
      ]
     },
     "metadata": {},
     "output_type": "display_data"
    }
   ],
   "source": [
    "plt.rcParams['figure.figsize'] = 10, 3\n",
    "plt.rcParams['figure.dpi'] = 100\n",
    "ax = sns.boxplot(num_toks_title, orient='h')\n",
    "ax.set_title(\"Distribution of Job Title String Lengths\")\n",
    "ax.set_xlabel(\"Number of Tokens\")"
   ]
  },
  {
   "cell_type": "code",
   "execution_count": 143,
   "metadata": {},
   "outputs": [],
   "source": [
    "unigrams = sorted(unigram_counts.keys(), key=lambda k: unigram_counts[k], reverse=True)\n",
    "avgs = []\n",
    "top_ks = np.arange(10, len(unigrams), 100)\n",
    "\n",
    "for k in top_ks:\n",
    "    to_keep = set(unigrams[:k])\n",
    "    n_tokens = np.zeros(len(function_freq), dtype=np.int32)\n",
    "    \n",
    "    for i, title in enumerate(titles):\n",
    "        n_tokens[i] = len(title.intersection(to_keep))\n",
    "    \n",
    "    avgs.append(np.average(n_tokens))"
   ]
  },
  {
   "cell_type": "code",
   "execution_count": 144,
   "metadata": {},
   "outputs": [],
   "source": [
    "with open(\"/data/rali7/Tmp/solimanz/data/top_ks.pkl\", \"wb\") as f:\n",
    "    pickle.dump(file=f, obj=top_ks)\n",
    "with open(\"/data/rali7/Tmp/solimanz/data/avgs.pkl\", \"wb\") as f:\n",
    "    pickle.dump(file=f, obj=avgs)"
   ]
  },
  {
   "cell_type": "code",
   "execution_count": 48,
   "metadata": {},
   "outputs": [],
   "source": [
    "with open(\"/data/rali7/Tmp/solimanz/data/top_ks.pkl\", \"rb\") as f:\n",
    "    top_ks = pickle.load(file=f)\n",
    "with open(\"/data/rali7/Tmp/solimanz/data/avgs.pkl\", \"rb\") as f:\n",
    "    avgs = pickle.load(file=f)"
   ]
  },
  {
   "cell_type": "code",
   "execution_count": 76,
   "metadata": {},
   "outputs": [
    {
     "data": {
      "text/plain": [
       "1810"
      ]
     },
     "execution_count": 76,
     "metadata": {},
     "output_type": "execute_result"
    }
   ],
   "source": [
    "top_ks[18]"
   ]
  },
  {
   "cell_type": "code",
   "execution_count": 75,
   "metadata": {},
   "outputs": [
    {
     "name": "stdout",
     "output_type": "stream",
     "text": [
      "18\n"
     ]
    }
   ],
   "source": [
    "for i, v in enumerate(avgs):\n",
    "    if v >= 3.5:\n",
    "        print(i)\n",
    "        break"
   ]
  },
  {
   "cell_type": "code",
   "execution_count": 157,
   "metadata": {},
   "outputs": [
    {
     "data": {
      "text/plain": [
       "Text(0,0.5,'Avg. # of tokens (length)')"
      ]
     },
     "execution_count": 157,
     "metadata": {},
     "output_type": "execute_result"
    },
    {
     "data": {
      "image/png": "[encoded data removed]",
      "text/plain": [
       "<matplotlib.figure.Figure at 0x7fb57bd4fd68>"
      ]
     },
     "metadata": {},
     "output_type": "display_data"
    }
   ],
   "source": [
    "plt.rcParams['figure.figsize'] = 10, 3\n",
    "plt.rcParams['figure.dpi'] = 100\n",
    "\n",
    "plt.plot(top_ks, avgs)\n",
    "plt.title(\"Effect of keeping only top K most used unigrams to filter job title strings\")\n",
    "plt.xlabel(\"Top K most used tokens to consider\")\n",
    "plt.ylabel(\"Avg. # of tokens (length)\")"
   ]
  },
  {
   "cell_type": "code",
   "execution_count": 14,
   "metadata": {},
   "outputs": [],
   "source": [
    "bigrams = get_ngrams(2, tokens)\n",
    "trigrams = get_ngrams(3, tokens)\n",
    "fourgrams = get_ngrams(4, tokens)\n",
    "fivegrams = get_ngrams(5, tokens)"
   ]
  },
  {
   "cell_type": "code",
   "execution_count": 15,
   "metadata": {},
   "outputs": [],
   "source": [
    "unigram_counts = Counter(tokens)\n",
    "bigrams_counts = Counter(bigrams)\n",
    "trigrams_counts = Counter(trigrams)\n",
    "fourgrams_counts = Counter(fourgrams)\n",
    "fivegrams_counts = Counter(fivegrams)"
   ]
  },
  {
   "cell_type": "code",
   "execution_count": 20,
   "metadata": {},
   "outputs": [
    {
     "data": {
      "text/plain": [
       "[(('english', 'second', 'language', 'instructor', 'instructor'), 3591),\n",
       " (('second', 'language', 'instructor', 'instructor', 'teacher'), 934),\n",
       " (('second', 'language', 'instructor', 'instructor', 'instructor'), 649),\n",
       " (('executive', 'assistant', 'chief', 'executive', 'officer'), 534),\n",
       " (('assistant', 'president', 'chief', 'executive', 'officer'), 303),\n",
       " (('chief', 'finance', 'officer', 'vice', 'president'), 287),\n",
       " (('quality', 'assurance', 'quality', 'control', 'inspector'), 250),\n",
       " (('executive', 'assistant', 'senior', 'vice', 'president'), 231),\n",
       " (('vice', 'president', 'chief', 'finance', 'officer'), 226),\n",
       " (('executive', 'assistant', 'president', 'chief', 'executive'), 205)]"
      ]
     },
     "execution_count": 20,
     "metadata": {},
     "output_type": "execute_result"
    }
   ],
   "source": [
    "fivegrams_counts.most_common(10)"
   ]
  },
  {
   "cell_type": "code",
   "execution_count": null,
   "metadata": {},
   "outputs": [],
   "source": [
    "counts = list(filter(lambda x: x > 0, token_counts.values()))"
   ]
  },
  {
   "cell_type": "code",
   "execution_count": null,
   "metadata": {},
   "outputs": [],
   "source": [
    "avg = sum(counts)/len(counts)"
   ]
  },
  {
   "cell_type": "code",
   "execution_count": null,
   "metadata": {},
   "outputs": [],
   "source": [
    "keywords = list(filter(lambda x: token_counts[x] > avg, token_counts.keys()))"
   ]
  },
  {
   "cell_type": "code",
   "execution_count": null,
   "metadata": {},
   "outputs": [],
   "source": [
    "plt.rcParams['figure.figsize'] = 15, 7\n",
    "plt.rcParams['figure.dpi'] = 100\n",
    "\n",
    "ax = sns.distplot(counts, kde=False, rug=False, hist_kws={\"log\": True})\n",
    "ax.set_title(\"Distribution of Unique Token Counts\")\n",
    "ax.set_xlabel(\"Token Counts\")"
   ]
  },
  {
   "cell_type": "code",
   "execution_count": null,
   "metadata": {},
   "outputs": [],
   "source": [
    "n_tokens = len(token_counts.keys())\n",
    "n_titles = len(function_freq)\n",
    "print(f\"Number of Unique Tokens: {n_tokens}\\nNumber of Unique Job Title Stings: {n_titles}\")"
   ]
  },
  {
   "cell_type": "code",
   "execution_count": null,
   "metadata": {},
   "outputs": [],
   "source": [
    "count_mapping = defaultdict(list)\n",
    "for tok, count in token_counts.items():\n",
    "        count_mapping[count].append(tok)"
   ]
  },
  {
   "cell_type": "code",
   "execution_count": null,
   "metadata": {},
   "outputs": [],
   "source": [
    "count_ntok = sorted([(k, len(v)) for k, v in count_mapping.items()], key=lambda i: i[0] )"
   ]
  },
  {
   "cell_type": "code",
   "execution_count": null,
   "metadata": {},
   "outputs": [],
   "source": [
    "counts = [x[0] for x in count_ntok]\n",
    "num_tok = [x[1] for x in count_ntok]"
   ]
  },
  {
   "cell_type": "code",
   "execution_count": null,
   "metadata": {},
   "outputs": [],
   "source": [
    "avg_title_len = sum([len(s) for s in function_freq.index.values])/len(function_freq)"
   ]
  },
  {
   "cell_type": "code",
   "execution_count": null,
   "metadata": {},
   "outputs": [],
   "source": [
    "print(f\"Average title length: {avg_title_len}\")\n",
    "print(f\"Maximum length: {max(title_lenghts)}\")"
   ]
  },
  {
   "cell_type": "code",
   "execution_count": null,
   "metadata": {},
   "outputs": [],
   "source": [
    "title_lenghts = np.array([len(s) for s in function_freq.index.values])"
   ]
  },
  {
   "cell_type": "code",
   "execution_count": null,
   "metadata": {},
   "outputs": [],
   "source": [
    "matches =  [s for s in function_freq.index if \"geographic information system\" in s]"
   ]
  },
  {
   "cell_type": "code",
   "execution_count": null,
   "metadata": {},
   "outputs": [],
   "source": [
    "matches"
   ]
  },
  {
   "cell_type": "code",
   "execution_count": 77,
   "metadata": {},
   "outputs": [],
   "source": [
    "keywords = [t[0] for t in unigram_counts.most_common(1810)]"
   ]
  },
  {
   "cell_type": "code",
   "execution_count": 78,
   "metadata": {},
   "outputs": [],
   "source": [
    "keywords = set(keywords)\n",
    "pttrn = re.compile(r\"[^a-zA-Z\\d\\s]\")\n",
    "def clean(s):\n",
    "    r = re.sub(pttrn, \" \", s)\n",
    "    tokens = word_tokenize(s)\n",
    "    return \" \".join(filter(lambda t: t if t in keywords else '', tokens))"
   ]
  },
  {
   "cell_type": "code",
   "execution_count": 79,
   "metadata": {},
   "outputs": [],
   "source": [
    "reduced = df[\"transformed\"].apply(clean)"
   ]
  },
  {
   "cell_type": "code",
   "execution_count": null,
   "metadata": {},
   "outputs": [],
   "source": [
    "clean(\"server/bartender bar, bar cart\")"
   ]
  },
  {
   "cell_type": "code",
   "execution_count": 57,
   "metadata": {},
   "outputs": [],
   "source": [
    "df[\"reduced_titles\"] = reduced"
   ]
  },
  {
   "cell_type": "code",
   "execution_count": null,
   "metadata": {},
   "outputs": [],
   "source": [
    "with open(\"/data/rali7/Tmp/solimanz/data/datasets/reduced.pkl\", \"rb\")as f:\n",
    "    reduced = pickle.load(f)"
   ]
  },
  {
   "cell_type": "code",
   "execution_count": 73,
   "metadata": {},
   "outputs": [],
   "source": [
    "reduced_funcs = reduced.value_counts()"
   ]
  },
  {
   "cell_type": "code",
   "execution_count": 74,
   "metadata": {
    "scrolled": true
   },
   "outputs": [
    {
     "data": {
      "text/plain": [
       "3045359"
      ]
     },
     "execution_count": 74,
     "metadata": {},
     "output_type": "execute_result"
    }
   ],
   "source": [
    "len(reduced_funcs)"
   ]
  },
  {
   "cell_type": "code",
   "execution_count": 84,
   "metadata": {},
   "outputs": [],
   "source": [
    "avg_count = sum(function_freq.values)/len(function_freq)"
   ]
  },
  {
   "cell_type": "code",
   "execution_count": 87,
   "metadata": {},
   "outputs": [
    {
     "data": {
      "text/plain": [
       "212931"
      ]
     },
     "execution_count": 87,
     "metadata": {},
     "output_type": "execute_result"
    }
   ],
   "source": [
    "len(function_freq[function_freq > avg_count])"
   ]
  },
  {
   "cell_type": "code",
   "execution_count": 94,
   "metadata": {},
   "outputs": [],
   "source": [
    "avgs = []\n",
    "iterations = []\n",
    "avg = 0\n",
    "fs = function_freq\n",
    "for i in range(100):\n",
    "    fs = fs[fs > avg]    \n",
    "    if len(fs) == 0:\n",
    "        break\n",
    "        \n",
    "    avg = sum(fs.values)/len(fs)\n",
    "    avgs.append(avg)\n",
    "    iterations.append(i)"
   ]
  },
  {
   "cell_type": "code",
   "execution_count": 96,
   "metadata": {
    "scrolled": true
   },
   "outputs": [
    {
     "data": {
      "text/plain": [
       "[<matplotlib.lines.Line2D at 0x7f79f3555eb8>]"
      ]
     },
     "execution_count": 96,
     "metadata": {},
     "output_type": "execute_result"
    },
    {
     "data": {
      "image/png": "[encoded data removed]",
      "text/plain": [
       "<matplotlib.figure.Figure at 0x7f7a1b2cdba8>"
      ]
     },
     "metadata": {},
     "output_type": "display_data"
    }
   ],
   "source": [
    "plt.plot(iterations, avgs)"
   ]
  },
  {
   "cell_type": "code",
   "execution_count": 118,
   "metadata": {},
   "outputs": [],
   "source": [
    "all_ids = df._id.unique()\n",
    "top_ks = np.arange(10, 600000, 100)"
   ]
  },
  {
   "cell_type": "code",
   "execution_count": null,
   "metadata": {},
   "outputs": [],
   "source": [
    "n_examples = []\n",
    "for k in top_ks:\n",
    "    to_remove = df[~df.transformed.isin(function_freq.index[:k])]._id.unique()\n",
    "    n_examples.append(len(all_ids) - len(to_remove))"
   ]
  },
  {
   "cell_type": "code",
   "execution_count": null,
   "metadata": {},
   "outputs": [],
   "source": [
    "with open(\"/data/rali7/Tmp/solimanz/data/pickles/n_ex.pkl\", \"wb\") as f:\n",
    "    pickle.dump(file=f, obj=n_examples)"
   ]
  },
  {
   "cell_type": "code",
   "execution_count": 122,
   "metadata": {},
   "outputs": [],
   "source": [
    "ratios = [n_titles/n_ex for n_titles, n_ex in zip(top_ks, n_examples)]"
   ]
  },
  {
   "cell_type": "code",
   "execution_count": 129,
   "metadata": {},
   "outputs": [],
   "source": [
    "gains = [(100*(b - a))/a for a, b in zip(n_examples[:-1], n_examples[1:])]"
   ]
  },
  {
   "cell_type": "code",
   "execution_count": 132,
   "metadata": {},
   "outputs": [],
   "source": [
    "tk = top_ks[1:]"
   ]
  },
  {
   "cell_type": "code",
   "execution_count": 191,
   "metadata": {},
   "outputs": [
    {
     "data": {
      "text/plain": [
       "Text(0,0.5,'Gain of training examples')"
      ]
     },
     "execution_count": 191,
     "metadata": {},
     "output_type": "execute_result"
    },
    {
     "data": {
      "image/png": "[encoded data removed]",
      "text/plain": [
       "<matplotlib.figure.Figure at 0x7f7a186dfc18>"
      ]
     },
     "metadata": {},
     "output_type": "display_data"
    }
   ],
   "source": [
    "plt.rcParams['figure.figsize'] = 7, 3\n",
    "plt.rcParams['figure.dpi'] = 100\n",
    "\n",
    "plt.plot(tk[:25], gains[:25], '-.', alpha=0.7)\n",
    "plt.gca().set_yticklabels(['{:.0f}%'.format(x) for x in plt.gca().get_yticks()]) \n",
    "plt.title(\"Gain (%) of user profiles\")\n",
    "plt.xlabel(\"N most used job titles\")\n",
    "plt.ylabel(\"Gain of training examples\")"
   ]
  }
 ],
 "metadata": {
  "kernelspec": {
   "display_name": "Python 3",
   "language": "python",
   "name": "python3"
  },
  "language_info": {
   "codemirror_mode": {
    "name": "ipython",
    "version": 3
   },
   "file_extension": ".py",
   "mimetype": "text/x-python",
   "name": "python",
   "nbconvert_exporter": "python",
   "pygments_lexer": "ipython3",
   "version": "3.6.3"
  }
 },
 "nbformat": 4,
 "nbformat_minor": 2
}
