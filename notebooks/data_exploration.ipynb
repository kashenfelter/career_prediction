{
 "cells": [
  {
   "cell_type": "code",
   "execution_count": 1,
   "metadata": {},
   "outputs": [],
   "source": [
    "import pandas as pd\n",
    "import numpy as np\n",
    "import matplotlib.pyplot as plt\n",
    "from pymongo import MongoClient\n",
    "from bson import ObjectId\n",
    "import os\n",
    "import pickle\n",
    "from collections import defaultdict, Counter"
   ]
  },
  {
   "cell_type": "code",
   "execution_count": 2,
   "metadata": {},
   "outputs": [],
   "source": [
    "plt.style.use('ggplot')"
   ]
  },
  {
   "cell_type": "code",
   "execution_count": 3,
   "metadata": {},
   "outputs": [],
   "source": [
    "data_path = \"/data/rali7/Tmp/solimanz/LBJ\""
   ]
  },
  {
   "cell_type": "code",
   "execution_count": 7,
   "metadata": {},
   "outputs": [],
   "source": [
    "client = MongoClient()\n",
    "collection = client.LBJ.candidats"
   ]
  },
  {
   "cell_type": "code",
   "execution_count": 110,
   "metadata": {},
   "outputs": [
    {
     "data": {
      "text/plain": [
       "9589320"
      ]
     },
     "execution_count": 110,
     "metadata": {},
     "output_type": "execute_result"
    }
   ],
   "source": [
    "collection.count_documents({})"
   ]
  },
  {
   "cell_type": "markdown",
   "metadata": {},
   "source": [
    "# Distribution Over Number of Job Experiences"
   ]
  },
  {
   "cell_type": "code",
   "execution_count": 8,
   "metadata": {},
   "outputs": [],
   "source": [
    "pipeline = [\n",
    "    {\"$match\": {\n",
    "        'experiences': {\n",
    "            \"$exists\": True\n",
    "        }\n",
    "    }},\n",
    "    {\"$project\": {\n",
    "        \"_id\": 1,\n",
    "        \"size\": {\n",
    "            \"$size\": \"$experiences\"\n",
    "        }\n",
    "    }}\n",
    "]"
   ]
  },
  {
   "cell_type": "code",
   "execution_count": 9,
   "metadata": {},
   "outputs": [],
   "source": [
    "cur = collection.aggregate(pipeline)"
   ]
  },
  {
   "cell_type": "code",
   "execution_count": 10,
   "metadata": {},
   "outputs": [],
   "source": [
    "n_exps = [dat['size'] for dat in cur]"
   ]
  },
  {
   "cell_type": "code",
   "execution_count": 11,
   "metadata": {},
   "outputs": [],
   "source": [
    "counts = Counter(n_exps)"
   ]
  },
  {
   "cell_type": "code",
   "execution_count": 12,
   "metadata": {},
   "outputs": [],
   "source": [
    "x, y = zip(*[(t[0], t[1]) for t in counts.most_common(len(counts))])"
   ]
  },
  {
   "cell_type": "code",
   "execution_count": 13,
   "metadata": {},
   "outputs": [
    {
     "data": {
      "text/plain": [
       "97"
      ]
     },
     "execution_count": 13,
     "metadata": {},
     "output_type": "execute_result"
    }
   ],
   "source": [
    "len(x)"
   ]
  },
  {
   "cell_type": "code",
   "execution_count": 14,
   "metadata": {},
   "outputs": [
    {
     "data": {
      "image/png": "[encoded data removed]",
      "text/plain": [
       "<Figure size 936x288 with 1 Axes>"
      ]
     },
     "metadata": {},
     "output_type": "display_data"
    }
   ],
   "source": [
    "plt.rcParams['figure.figsize'] = 13, 4\n",
    "plt.bar(x[:25], y[:25])\n",
    "plt.xticks(x[:25])\n",
    "plt.xlabel('Number of Job Experiences')\n",
    "plt.ylabel('Count')\n",
    "plt.title('Distribution of the Number of Job Experiences')\n",
    "plt.tight_layout()\n",
    "plt.savefig(os.path.join(data_path, 'viz', 'n_exps_barplot.pdf'))"
   ]
  },
  {
   "cell_type": "code",
   "execution_count": 78,
   "metadata": {},
   "outputs": [
    {
     "data": {
      "text/plain": [
       "{'whiskers': [<matplotlib.lines.Line2D at 0x7f6ef40dcac8>,\n",
       "  <matplotlib.lines.Line2D at 0x7f6ef40ecb00>],\n",
       " 'caps': [<matplotlib.lines.Line2D at 0x7f6ef40ecf28>,\n",
       "  <matplotlib.lines.Line2D at 0x7f6ef40f6390>],\n",
       " 'boxes': [<matplotlib.lines.Line2D at 0x7f6ef40ec198>],\n",
       " 'medians': [<matplotlib.lines.Line2D at 0x7f6ef40f67b8>],\n",
       " 'fliers': [<matplotlib.lines.Line2D at 0x7f6ef40f6be0>],\n",
       " 'means': []}"
      ]
     },
     "execution_count": 78,
     "metadata": {},
     "output_type": "execute_result"
    },
    {
     "data": {
      "image/png": "[encoded data removed]",
      "text/plain": [
       "<Figure size 936x288 with 1 Axes>"
      ]
     },
     "metadata": {},
     "output_type": "display_data"
    }
   ],
   "source": [
    "plt.boxplot(n_exps, vert=False)"
   ]
  },
  {
   "cell_type": "code",
   "execution_count": 16,
   "metadata": {},
   "outputs": [],
   "source": [
    "pipeline = [\n",
    "    {\"$match\": {'experiences': {\"$exists\": True}}},\n",
    "    {\"$project\": {\n",
    "        \"_id\": 1,\n",
    "        \"size\": {\n",
    "            \"$size\": \"$experiences\"\n",
    "        }\n",
    "    }}\n",
    "]"
   ]
  },
  {
   "cell_type": "code",
   "execution_count": 17,
   "metadata": {},
   "outputs": [],
   "source": [
    "cur = collection.aggregate(pipeline)"
   ]
  },
  {
   "cell_type": "code",
   "execution_count": 18,
   "metadata": {},
   "outputs": [],
   "source": [
    "profile_ids = [str(d[\"_id\"]) for d in cur]"
   ]
  },
  {
   "cell_type": "code",
   "execution_count": 21,
   "metadata": {},
   "outputs": [
    {
     "data": {
      "text/plain": [
       "{'queryPlanner': {'plannerVersion': 1,\n",
       "  'namespace': 'LBJ.candidats',\n",
       "  'indexFilterSet': False,\n",
       "  'parsedQuery': {},\n",
       "  'winningPlan': {'stage': 'COLLSCAN', 'direction': 'forward'},\n",
       "  'rejectedPlans': []},\n",
       " 'executionStats': {'executionSuccess': True,\n",
       "  'nReturned': 9589320,\n",
       "  'executionTimeMillis': 21453,\n",
       "  'totalKeysExamined': 0,\n",
       "  'totalDocsExamined': 9589320,\n",
       "  'executionStages': {'stage': 'COLLSCAN',\n",
       "   'nReturned': 9589320,\n",
       "   'executionTimeMillisEstimate': 20663,\n",
       "   'works': 9589322,\n",
       "   'advanced': 9589320,\n",
       "   'needTime': 1,\n",
       "   'needYield': 0,\n",
       "   'saveState': 74917,\n",
       "   'restoreState': 74917,\n",
       "   'isEOF': 1,\n",
       "   'invalidates': 0,\n",
       "   'direction': 'forward',\n",
       "   'docsExamined': 9589320},\n",
       "  'allPlansExecution': []},\n",
       " 'serverInfo': {'host': 'octal16',\n",
       "  'port': 27017,\n",
       "  'version': '4.0.3',\n",
       "  'gitVersion': '7ea530946fa7880364d88c8d8b6026bbc9ffa48c'},\n",
       " 'ok': 1.0}"
      ]
     },
     "execution_count": 21,
     "metadata": {},
     "output_type": "execute_result"
    }
   ],
   "source": [
    "collection.find({}).explain()"
   ]
  },
  {
   "cell_type": "code",
   "execution_count": 22,
   "metadata": {},
   "outputs": [
    {
     "data": {
      "text/plain": [
       "{'queryPlanner': {'plannerVersion': 1,\n",
       "  'namespace': 'LBJ.candidats',\n",
       "  'indexFilterSet': False,\n",
       "  'parsedQuery': {'experiences': {'$exists': True}},\n",
       "  'winningPlan': {'stage': 'COLLSCAN',\n",
       "   'filter': {'experiences': {'$exists': True}},\n",
       "   'direction': 'forward'},\n",
       "  'rejectedPlans': []},\n",
       " 'executionStats': {'executionSuccess': True,\n",
       "  'nReturned': 7152878,\n",
       "  'executionTimeMillis': 27552,\n",
       "  'totalKeysExamined': 0,\n",
       "  'totalDocsExamined': 9589320,\n",
       "  'executionStages': {'stage': 'COLLSCAN',\n",
       "   'filter': {'experiences': {'$exists': True}},\n",
       "   'nReturned': 7152878,\n",
       "   'executionTimeMillisEstimate': 26514,\n",
       "   'works': 9589322,\n",
       "   'advanced': 7152878,\n",
       "   'needTime': 2436443,\n",
       "   'needYield': 0,\n",
       "   'saveState': 74923,\n",
       "   'restoreState': 74923,\n",
       "   'isEOF': 1,\n",
       "   'invalidates': 0,\n",
       "   'direction': 'forward',\n",
       "   'docsExamined': 9589320},\n",
       "  'allPlansExecution': []},\n",
       " 'serverInfo': {'host': 'octal16',\n",
       "  'port': 27017,\n",
       "  'version': '4.0.3',\n",
       "  'gitVersion': '7ea530946fa7880364d88c8d8b6026bbc9ffa48c'},\n",
       " 'ok': 1.0}"
      ]
     },
     "execution_count": 22,
     "metadata": {},
     "output_type": "execute_result"
    }
   ],
   "source": [
    "collection.find({'experiences': {\"$exists\": True}}).explain()"
   ]
  },
  {
   "cell_type": "code",
   "execution_count": 24,
   "metadata": {},
   "outputs": [
    {
     "data": {
      "text/plain": [
       "{'queryPlanner': {'plannerVersion': 1,\n",
       "  'namespace': 'LBJ.candidats',\n",
       "  'indexFilterSet': False,\n",
       "  'parsedQuery': {'$and': [{'experiences': {'$exists': True}},\n",
       "    {'$where': Code('this.experiences.length > 1', {})}]},\n",
       "  'winningPlan': {'stage': 'COLLSCAN',\n",
       "   'filter': {'$and': [{'experiences': {'$exists': True}},\n",
       "     {'$where': Code('this.experiences.length > 1', {})}]},\n",
       "   'direction': 'forward'},\n",
       "  'rejectedPlans': []},\n",
       " 'executionStats': {'executionSuccess': True,\n",
       "  'nReturned': 4294782,\n",
       "  'executionTimeMillis': 282336,\n",
       "  'totalKeysExamined': 0,\n",
       "  'totalDocsExamined': 9589320,\n",
       "  'executionStages': {'stage': 'COLLSCAN',\n",
       "   'filter': {'$and': [{'experiences': {'$exists': True}},\n",
       "     {'$where': Code('this.experiences.length > 1', {})}]},\n",
       "   'nReturned': 4294782,\n",
       "   'executionTimeMillisEstimate': 280383,\n",
       "   'works': 9589322,\n",
       "   'advanced': 4294782,\n",
       "   'needTime': 5294539,\n",
       "   'needYield': 0,\n",
       "   'saveState': 74954,\n",
       "   'restoreState': 74954,\n",
       "   'isEOF': 1,\n",
       "   'invalidates': 0,\n",
       "   'direction': 'forward',\n",
       "   'docsExamined': 9589320},\n",
       "  'allPlansExecution': []},\n",
       " 'serverInfo': {'host': 'octal16',\n",
       "  'port': 27017,\n",
       "  'version': '4.0.3',\n",
       "  'gitVersion': '7ea530946fa7880364d88c8d8b6026bbc9ffa48c'},\n",
       " 'ok': 1.0}"
      ]
     },
     "execution_count": 24,
     "metadata": {},
     "output_type": "execute_result"
    }
   ],
   "source": [
    "collection.find({'experiences': {\"$exists\": True}, '$where': 'this.experiences.length > 1'}).explain()"
   ]
  },
  {
   "cell_type": "code",
   "execution_count": 5,
   "metadata": {},
   "outputs": [],
   "source": [
    "pipeline = [\n",
    "            {\"$match\": {'experiences': {\"$exists\": True}, '$expr': 'this.experiences.length > 1'}},\n",
    "            {\"$unwind\": {\n",
    "                \"path\": \"$experiences\",\n",
    "                \"includeArrayIndex\": \"job_index\"\n",
    "                }\n",
    "            },\n",
    "            {\"$project\": {\n",
    "                \"industry\": 1,\n",
    "                \"job_index\": 1,\n",
    "                \"language\": \"$language\",\n",
    "                \"company_name\": \"$experiences.companyName\",\n",
    "                \"place\": \"$experiences.place\",\n",
    "                \"function\": \"$experiences.function\",\n",
    "                \"start_date\": \"$experiences.startDate\",\n",
    "                \"end_date\": \"$experiences.endDate\"\n",
    "                #\"mission\": \"$experiences.missions\"\n",
    "                }}\n",
    "            ]"
   ]
  },
  {
   "cell_type": "code",
   "execution_count": 6,
   "metadata": {},
   "outputs": [],
   "source": [
    "agg = collection.aggregate(pipeline)"
   ]
  },
  {
   "cell_type": "code",
   "execution_count": 7,
   "metadata": {},
   "outputs": [],
   "source": [
    "def _get_element(doc, field_name):\n",
    "    if field_name in doc:\n",
    "        return doc[field_name]\n",
    "    return np.nan\n",
    "\n",
    "def make_dataframe(curr):\n",
    "    data = defaultdict(list)\n",
    "\n",
    "    for doc in curr:\n",
    "        data['_id'].append(str(doc['_id']))\n",
    "        data['function'].append(_get_element(doc, 'function'))\n",
    "        data['company_name'].append(_get_element(doc,'company_name'))\n",
    "        data['industry'].append(_get_element(doc,'industry'))\n",
    "        data['job_index'].append(doc['job_index'])        \n",
    "        data['place'].append(_get_element(doc, 'place'))\n",
    "        data['language'].append(_get_element(doc, 'language'))\n",
    "        #data['mission'].append(_get_element(doc, 'mission'))\n",
    "        data['start_date'].append(_get_element(doc, 'start_date'))\n",
    "        data['end_date'].append(_get_element(doc, 'end_date'))\n",
    "    return data"
   ]
  },
  {
   "cell_type": "code",
   "execution_count": 8,
   "metadata": {},
   "outputs": [],
   "source": [
    "df_dict = make_dataframe(agg)"
   ]
  },
  {
   "cell_type": "code",
   "execution_count": 9,
   "metadata": {},
   "outputs": [],
   "source": [
    "df = pd.DataFrame(df_dict)"
   ]
  },
  {
   "cell_type": "code",
   "execution_count": 10,
   "metadata": {},
   "outputs": [],
   "source": [
    "df.to_pickle(os.path.join(data_path, 'dataset', 'dataframe.pkl'))"
   ]
  },
  {
   "cell_type": "code",
   "execution_count": 16,
   "metadata": {},
   "outputs": [
    {
     "data": {
      "text/plain": [
       "7152878"
      ]
     },
     "execution_count": 16,
     "metadata": {},
     "output_type": "execute_result"
    }
   ],
   "source": [
    "df._id.nunique()"
   ]
  },
  {
   "cell_type": "code",
   "execution_count": 5,
   "metadata": {},
   "outputs": [],
   "source": [
    "def load_dataset_ids(path=\"/data/rali7/Tmp/solimanz/LBJ/dataset\"):\n",
    "    with open(os.path.join(path, 'train', 'train_ids.pkl'), \"rb\")as f:\n",
    "        train_ids = [ObjectId(i) for i in pickle.load(f)]\n",
    "    with open(os.path.join(path, 'valid', 'valid_ids.pkl'), \"rb\")as f:\n",
    "        valid_ids = [ObjectId(i) for i in pickle.load(f)]\n",
    "    with open(os.path.join(path, 'test', 'test_ids.pkl'), \"rb\")as f:\n",
    "        test_ids = [ObjectId(i) for i in pickle.load(f)]\n",
    "    \n",
    "    return train_ids, valid_ids, test_ids"
   ]
  },
  {
   "cell_type": "code",
   "execution_count": 6,
   "metadata": {},
   "outputs": [],
   "source": [
    "train_ids, valid_ids, test_ids = load_dataset_ids()"
   ]
  },
  {
   "cell_type": "code",
   "execution_count": 7,
   "metadata": {},
   "outputs": [],
   "source": [
    "ids = train_ids +  valid_ids + test_ids"
   ]
  },
  {
   "cell_type": "code",
   "execution_count": 8,
   "metadata": {},
   "outputs": [],
   "source": [
    "ids = [ObjectId(i) for i in ids]"
   ]
  },
  {
   "cell_type": "code",
   "execution_count": 11,
   "metadata": {},
   "outputs": [],
   "source": [
    "cur = collection.find({'_id': {'$in': ids}})"
   ]
  },
  {
   "cell_type": "code",
   "execution_count": 12,
   "metadata": {},
   "outputs": [],
   "source": [
    "education = dict()\n",
    "skills = dict()\n",
    "industry = dict()\n",
    "\n",
    "for doc in cur:\n",
    "    _id = doc['_id']\n",
    "    \n",
    "    if 'educations' in doc:\n",
    "        education[str(_id)] = doc['educations']\n",
    "    else:\n",
    "        education[str(_id)] = None\n",
    "        \n",
    "    if 'skills' in doc:\n",
    "        skills[str(_id)] = [skill['name'] for skill in doc['skills']]\n",
    "    else:\n",
    "        skills[str(_id)] = None\n",
    "        \n",
    "    if 'industry' in doc:\n",
    "        industry[str(_id)] = doc['industry']\n",
    "    else:\n",
    "        industry[str(_id)] = None"
   ]
  },
  {
   "cell_type": "code",
   "execution_count": 13,
   "metadata": {},
   "outputs": [],
   "source": [
    "with open(os.path.join(data_path, 'dataset', 'education.pkl'), 'wb') as f:\n",
    "    pickle.dump(education, f)\n",
    "\n",
    "with open(os.path.join(data_path, 'dataset', 'skills.pkl'), 'wb') as f:\n",
    "    pickle.dump(skills, f)\n",
    "\n",
    "with open(os.path.join(data_path, 'dataset', 'industry.pkl'), 'wb') as f:\n",
    "    pickle.dump(industry, f)"
   ]
  },
  {
   "cell_type": "code",
   "execution_count": null,
   "metadata": {},
   "outputs": [],
   "source": []
  }
 ],
 "metadata": {
  "kernelspec": {
   "display_name": "Python [conda env:ml]",
   "language": "python",
   "name": "conda-env-ml-py"
  },
  "language_info": {
   "codemirror_mode": {
    "name": "ipython",
    "version": 3
   },
   "file_extension": ".py",
   "mimetype": "text/x-python",
   "name": "python",
   "nbconvert_exporter": "python",
   "pygments_lexer": "ipython3",
   "version": "3.7.0"
  }
 },
 "nbformat": 4,
 "nbformat_minor": 2
}
