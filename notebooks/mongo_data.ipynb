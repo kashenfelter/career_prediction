{
 "cells": [
  {
   "cell_type": "code",
   "execution_count": 2,
   "metadata": {},
   "outputs": [],
   "source": [
    "from pymongo import MongoClient\n",
    "from bson import ObjectId\n",
    "import pandas as pd\n",
    "from collections import defaultdict\n",
    "import numpy as np\n",
    "from pprint import pprint"
   ]
  },
  {
   "cell_type": "code",
   "execution_count": 3,
   "metadata": {},
   "outputs": [],
   "source": [
    "client = MongoClient()\n",
    "candidates = client.lbj[\"excerpt-2017-02-20\"]"
   ]
  },
  {
   "cell_type": "code",
   "execution_count": 7,
   "metadata": {},
   "outputs": [],
   "source": [
    "c = candidates.find({\"$and\": [{\"language\": \"en\"}, {\"$nor\": [\n",
    "    {\"experiences\": {\"$exists\": False}},\n",
    "    {\"experiences\": {\"$size\": 0}},\n",
    "    {\"experiences\": {\"$size\": 1}}\n",
    "]}]})"
   ]
  },
  {
   "cell_type": "code",
   "execution_count": 4,
   "metadata": {},
   "outputs": [],
   "source": [
    "pipeline = [\n",
    "            #{\"$match\": {\"$and\": [ \n",
    "            #    {\"language\": \"en\"},\n",
    "            #    {\"$nor\": [\n",
    "            #        {\"experiences\": {\"$exists\": False}},\n",
    "            #        {\"experiences\": {\"$size\": 0}},\n",
    "            #        {\"experiences\": {\"$size\": 1}}\n",
    "            #    ]}]}},\n",
    "            {\"$unwind\": {\n",
    "                \"path\": \"$experiences\",\n",
    "                \"includeArrayIndex\": \"job_index\"\n",
    "                }\n",
    "            },\n",
    "            {\"$project\": {\n",
    "                \"industry\": 1,\n",
    "                \"job_index\": 1,\n",
    "                \"company_name\": \"$experiences.companyName\",\n",
    "                \"place\": \"$experiences.place\",\n",
    "                \"function\": \"$experiences.function\",\n",
    "                \"start_date\": \"$experiences.startDate\",\n",
    "                \"end_date\": \"$experiences.endDate\"\n",
    "                #\"duration\": \"$experiences.duration\"\n",
    "                #\"mission\": \"$experiences.missions\"\n",
    "                }}\n",
    "            ]"
   ]
  },
  {
   "cell_type": "code",
   "execution_count": 5,
   "metadata": {},
   "outputs": [],
   "source": [
    "agg = candidates.aggregate(pipeline)"
   ]
  },
  {
   "cell_type": "code",
   "execution_count": 6,
   "metadata": {},
   "outputs": [],
   "source": [
    "def _get_element(doc, field_name):\n",
    "    if field_name in doc:\n",
    "        return doc[field_name]\n",
    "    return np.nan\n",
    "\n",
    "def make_dataframe(curr):\n",
    "    data = defaultdict(list)\n",
    "\n",
    "    for doc in curr:\n",
    "        data['_id'].append(doc['_id'])\n",
    "        data['function'].append(_get_element(doc, 'function'))\n",
    "        data['company_name'].append(_get_element(doc,'company_name'))\n",
    "        data['industry'].append(_get_element(doc,'industry'))\n",
    "        data['job_index'].append(doc['job_index'])        \n",
    "        data['place'].append(_get_element(doc, 'place'))\n",
    "        data['start_date'].append(_get_element(doc, 'start_date'))\n",
    "        data['end_date'].append(_get_element(doc, 'end_date'))\n",
    "\n",
    "    return data"
   ]
  },
  {
   "cell_type": "code",
   "execution_count": 7,
   "metadata": {},
   "outputs": [],
   "source": [
    "data = make_dataframe(agg)"
   ]
  },
  {
   "cell_type": "code",
   "execution_count": 8,
   "metadata": {},
   "outputs": [],
   "source": [
    "df = pd.DataFrame(data)"
   ]
  },
  {
   "cell_type": "code",
   "execution_count": 9,
   "metadata": {},
   "outputs": [],
   "source": [
    "df[\"_id\"] = df[\"_id\"].apply(str)"
   ]
  },
  {
   "cell_type": "code",
   "execution_count": 11,
   "metadata": {},
   "outputs": [],
   "source": [
    "bad_ids = df[pd.isna(df[\"function\"])]._id.unique()"
   ]
  },
  {
   "cell_type": "code",
   "execution_count": 12,
   "metadata": {},
   "outputs": [],
   "source": [
    "df.drop(df[df._id.isin(bad_ids)].index, inplace=True)"
   ]
  },
  {
   "cell_type": "code",
   "execution_count": 13,
   "metadata": {},
   "outputs": [],
   "source": [
    "df.to_pickle(\"/data/rali7/Tmp/solimanz/data/pickles/excerpt-2017-02-20.pkl\")"
   ]
  },
  {
   "cell_type": "code",
   "execution_count": null,
   "metadata": {},
   "outputs": [],
   "source": []
  }
 ],
 "metadata": {
  "kernelspec": {
   "display_name": "Python 3",
   "language": "python",
   "name": "python3"
  }
 },
 "nbformat": 4,
 "nbformat_minor": 2
}
