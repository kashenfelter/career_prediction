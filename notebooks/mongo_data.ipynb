{
 "cells": [
  {
   "cell_type": "code",
   "execution_count": 35,
   "metadata": {},
   "outputs": [],
   "source": [
    "from pymongo import MongoClient\n",
    "import pandas as pd\n",
    "from collections import defaultdict\n",
    "import numpy as np"
   ]
  },
  {
   "cell_type": "code",
   "execution_count": 36,
   "metadata": {},
   "outputs": [],
   "source": [
    "client = MongoClient(port=27018)\n",
    "candidates = client.lbj.candidates"
   ]
  },
  {
   "cell_type": "code",
   "execution_count": 37,
   "metadata": {},
   "outputs": [],
   "source": [
    "pipeline = [\n",
    "            #{\"$match\": {\"industry\": {\"$exists\": True}}},\n",
    "            {\"$unwind\": {\n",
    "                \"path\": \"$experiences\",\n",
    "                \"includeArrayIndex\": \"job_index\"\n",
    "                }\n",
    "            },\n",
    "            {\"$project\": {\n",
    "                \"industry\": 1,\n",
    "                \"job_index\": 1,\n",
    "                \"place\": \"$experiences.place\",\n",
    "                \"function\": \"$experiences.function\",\n",
    "                \"duration\": \"$experiences.duration\",\n",
    "                \"mission\": \"$experiences.missions\"\n",
    "                }}\n",
    "            ]"
   ]
  },
  {
   "cell_type": "code",
   "execution_count": 38,
   "metadata": {},
   "outputs": [],
   "source": [
    "agg = candidates.aggregate(pipeline)"
   ]
  },
  {
   "cell_type": "code",
   "execution_count": 39,
   "metadata": {},
   "outputs": [],
   "source": [
    "def _get_element(doc, field_name):\n",
    "\n",
    "    if not field_name in doc:\n",
    "        return np.nan\n",
    "    else:\n",
    "        return doc[field_name]\n",
    "\n",
    "def make_dataframe(curr):\n",
    "    data = defaultdict(list)\n",
    "\n",
    "    for doc in curr:\n",
    "        data['_id'].append(doc['_id'])\n",
    "        data['industry'].append(_get_element(doc,'industry'))\n",
    "        data['job_index'].append(doc['job_index'])\n",
    "        data['place'].append(_get_element(doc, 'place'))\n",
    "        data['function'].append(_get_element(doc, 'function'))\n",
    "        data['duration'].append(_get_element(doc, 'duration'))\n",
    "        data['mission'].append(_get_element(doc, 'mission'))\n",
    "\n",
    "    return pd.DataFrame(data)"
   ]
  },
  {
   "cell_type": "code",
   "execution_count": 40,
   "metadata": {},
   "outputs": [],
   "source": [
    "df = make_dataframe(agg)"
   ]
  },
  {
   "cell_type": "code",
   "execution_count": null,
   "metadata": {},
   "outputs": [],
   "source": [
    "df.to_pickle(\"/data/rali7/Tmp/solimanz/data/pickles/2017_11_28.pkl\")"
   ]
  },
  {
   "cell_type": "code",
   "execution_count": null,
   "metadata": {},
   "outputs": [],
   "source": [
    "print(\"hello\")"
   ]
  },
  {
   "cell_type": "code",
   "execution_count": null,
   "metadata": {},
   "outputs": [],
   "source": []
  }
 ],
 "metadata": {
  "kernelspec": {
   "display_name": "Python 3",
   "language": "python",
   "name": "python3"
  },
  "language_info": {
   "codemirror_mode": {
    "name": "ipython",
    "version": 3
   },
   "file_extension": ".py",
   "mimetype": "text/x-python",
   "name": "python",
   "nbconvert_exporter": "python",
   "pygments_lexer": "ipython3",
   "version": "3.6.3"
  }
 },
 "nbformat": 4,
 "nbformat_minor": 2
}
