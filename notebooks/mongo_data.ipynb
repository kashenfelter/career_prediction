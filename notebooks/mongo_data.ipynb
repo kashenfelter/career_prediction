{
 "cells": [
  {
   "cell_type": "code",
   "execution_count": 1,
   "metadata": {},
   "outputs": [],
   "source": [
    "from pymongo import MongoClient\n",
    "from bson import ObjectId\n",
    "import pandas as pd\n",
    "from collections import defaultdict\n",
    "import numpy as np\n",
    "from pprint import pprint"
   ]
  },
  {
   "cell_type": "code",
   "execution_count": 2,
   "metadata": {},
   "outputs": [],
   "source": [
    "client = MongoClient()\n",
    "candidates = client.lbj[\"excerpt-2017-02-20\"]"
   ]
  },
  {
   "cell_type": "code",
   "execution_count": 3,
   "metadata": {},
   "outputs": [],
   "source": [
    "c = candidates.find()"
   ]
  },
  {
   "cell_type": "code",
   "execution_count": 13,
   "metadata": {
    "scrolled": true
   },
   "outputs": [
    {
     "data": {
      "text/plain": [
       "[{'companyName': 'TELUS',\n",
       "  'company_id': '55df1c8b0b0451dc5c8bac6b',\n",
       "  'function': 'Senior Vice President Consumer Marketing',\n",
       "  'missions': \"Support TELUS' continued growth in Consumer markets nationally across both wireless and wireline products and services\",\n",
       "  'place': 'toronto, ontario',\n",
       "  'startDate': '2014-05'},\n",
       " {'companyName': 'TELUS',\n",
       "  'company_id': '55df1c8b0b0451dc5c8bac6b',\n",
       "  'function': 'VP Mobility Solutions',\n",
       "  'missions': 'Support TELUS Consumer segment wireless overall business and marketing strategy, product marketing and pricing.',\n",
       "  'startDate': '2008-12'},\n",
       " {'companyName': 'Barrick Gold Corporation',\n",
       "  'company_id': '55df1c4d0b0451dc5c8ba610',\n",
       "  'endDate': '2003',\n",
       "  'function': 'Director, Continuous Improvement',\n",
       "  'missions': 'Led global Operations Continuous Improvement team aimed at driving hundreds of millions of dollars of operational improvement. Pioneer in importing Lean and Six Sigma philosophies and tools into the Gold Mining sector.',\n",
       "  'startDate': '2000'},\n",
       " {'companyName': 'McKinsey & Company',\n",
       "  'company_id': '55df1c5f0b0451dc5c8ba7f9',\n",
       "  'endDate': '2003',\n",
       "  'function': 'Associate',\n",
       "  'startDate': '1993'}]"
      ]
     },
     "execution_count": 13,
     "metadata": {},
     "output_type": "execute_result"
    }
   ],
   "source": [
    "a = c.next()\n",
    "a['experiences']"
   ]
  },
  {
   "cell_type": "code",
   "execution_count": 14,
   "metadata": {},
   "outputs": [
    {
     "data": {
      "text/plain": [
       "{'_id': ObjectId('52b31a870b045119318b456e'),\n",
       " 'addedValue': 46.0,\n",
       " 'administrativeAreaLevel1': 'CA-ON',\n",
       " 'bbox': {'east': -79.02891052158193,\n",
       "  'north': 43.9788806322227,\n",
       "  'south': 43.42134694377731,\n",
       "  'west': -79.80369786641808},\n",
       " 'city': 'TORONTO',\n",
       " 'collectDate': '2015-08-29',\n",
       " 'collector': ['scrapinghub'],\n",
       " 'countryCode': 'CA',\n",
       " 'createdDatetime': None,\n",
       " 'duplicateMaster': None,\n",
       " 'educations': [{'endDate': '1997',\n",
       "   'name': 'MScE',\n",
       "   'schoolName': 'Stanford University',\n",
       "   'schoolSupplierUrl': 'http://www.linkedin.com/edu/school?id=17926',\n",
       "   'sector': 'Industrial Engineering',\n",
       "   'startDate': '1996'},\n",
       "  {'endDate': '1993',\n",
       "   'name': 'BScE',\n",
       "   'schoolName': 'Princeton University',\n",
       "   'schoolSupplierUrl': 'http://www.linkedin.com/edu/school?id=18867',\n",
       "   'sector': 'Civil Engineering and Operations Research',\n",
       "   'startDate': '1988'}],\n",
       " 'experienceLevelMonthNumber': 217,\n",
       " 'experiences': [{'companyName': 'TELUS',\n",
       "   'company_id': '55df1c8b0b0451dc5c8bac6b',\n",
       "   'function': 'Senior Vice President Consumer Marketing',\n",
       "   'missions': \"Support TELUS' continued growth in Consumer markets nationally across both wireless and wireline products and services\",\n",
       "   'place': 'toronto, ontario',\n",
       "   'startDate': '2014-05'},\n",
       "  {'companyName': 'TELUS',\n",
       "   'company_id': '55df1c8b0b0451dc5c8bac6b',\n",
       "   'function': 'VP Mobility Solutions',\n",
       "   'missions': 'Support TELUS Consumer segment wireless overall business and marketing strategy, product marketing and pricing.',\n",
       "   'startDate': '2008-12'},\n",
       "  {'companyName': 'Barrick Gold Corporation',\n",
       "   'company_id': '55df1c4d0b0451dc5c8ba610',\n",
       "   'endDate': '2003',\n",
       "   'function': 'Director, Continuous Improvement',\n",
       "   'missions': 'Led global Operations Continuous Improvement team aimed at driving hundreds of millions of dollars of operational improvement. Pioneer in importing Lean and Six Sigma philosophies and tools into the Gold Mining sector.',\n",
       "   'startDate': '2000'},\n",
       "  {'companyName': 'McKinsey & Company',\n",
       "   'company_id': '55df1c5f0b0451dc5c8ba7f9',\n",
       "   'endDate': '2003',\n",
       "   'function': 'Associate',\n",
       "   'startDate': '1993'}],\n",
       " 'id_scrapinghub': '45070289',\n",
       " 'indexCandidate': True,\n",
       " 'industriesId': [42],\n",
       " 'industry': 'Telecommunications',\n",
       " 'industryId': 42,\n",
       " 'language': 'en',\n",
       " 'lastEditedDate': '2015-08-29',\n",
       " 'lat': 43.70011,\n",
       " 'lng': -79.4163,\n",
       " 'personalBranding_claim': 'SVP Consumer Marketing at TELUS',\n",
       " 'personalBranding_pitch': 'Seasoned operations and marketing executive known for creating winning strategies and driving change in complex organizations.',\n",
       " 'privacy': 1,\n",
       " 'professionalData_experienceLevelId': 5,\n",
       " 'relationsNumber': 500,\n",
       " 'skills': [{'name': 'Continuous Improvement'},\n",
       "  {'name': 'Six Sigma'},\n",
       "  {'name': 'Lean Manufacturing'},\n",
       "  {'name': 'Operational Excellence'},\n",
       "  {'name': 'Mining'},\n",
       "  {'name': 'Wireless'},\n",
       "  {'name': 'Marketing Management'},\n",
       "  {'name': 'Strategy'},\n",
       "  {'name': 'Business Strategy'},\n",
       "  {'name': 'Change Management'},\n",
       "  {'name': 'Competitive Analysis'},\n",
       "  {'name': 'Cross-functional Team...'},\n",
       "  {'name': 'Leadership'},\n",
       "  {'name': 'Management'},\n",
       "  {'name': 'Product Marketing'},\n",
       "  {'name': 'Strategic Planning'},\n",
       "  {'name': 'Product Management'},\n",
       "  {'name': 'Team Leadership'},\n",
       "  {'name': 'Business Process...'},\n",
       "  {'name': 'Telecommunications'},\n",
       "  {'name': 'Management Consulting'},\n",
       "  {'name': 'Program Management'},\n",
       "  {'name': 'Project Management'},\n",
       "  {'name': 'Operations Management'},\n",
       "  {'name': 'Vendor Management'},\n",
       "  {'name': 'Business Analysis'}],\n",
       " 'supplierParty': 'linkedin',\n",
       " 'updateDatetime': '2015-12-21 13:38:57'}"
      ]
     },
     "execution_count": 14,
     "metadata": {},
     "output_type": "execute_result"
    }
   ],
   "source": [
    "a"
   ]
  },
  {
   "cell_type": "code",
   "execution_count": 16,
   "metadata": {},
   "outputs": [],
   "source": [
    "b = {'_id': ObjectId('52b31a870b045119318b456e'),\n",
    " 'addedValue': 46.0,\n",
    " 'administrativeAreaLevel1': 'CA-ON',\n",
    " 'bbox': {'east': -79.02891052158193,\n",
    "  'north': 43.9788806322227,\n",
    "  'south': 43.42134694377731,\n",
    "  'west': -79.80369786641808},\n",
    " 'city': 'TORONTO',\n",
    " 'collectDate': '2015-08-29',\n",
    " 'collector': ['scrapinghub'],\n",
    " 'countryCode': 'CA',\n",
    " 'createdDatetime': None,\n",
    " 'duplicateMaster': None,\n",
    " 'educations': [{'endDate': '1997',\n",
    "   'name': 'MScE',\n",
    "   'schoolName': 'Stanford University',\n",
    "   'schoolSupplierUrl': 'http://www.linkedin.com/edu/school?id=17926',\n",
    "   'sector': 'Industrial Engineering',\n",
    "   'startDate': '1996'},\n",
    "  {'endDate': '1993',\n",
    "   'name': 'BScE',\n",
    "   'schoolName': 'Princeton University',\n",
    "   'schoolSupplierUrl': 'http://www.linkedin.com/edu/school?id=18867',\n",
    "   'sector': 'Civil Engineering and Operations Research',\n",
    "   'startDate': '1988'}],\n",
    " 'experienceLevelMonthNumber': 217,\n",
    " 'experiences': [{'companyName': 'TELUS',\n",
    "   'company_id': '55df1c8b0b0451dc5c8bac6b',\n",
    "   'function': 'Senior Vice President Consumer Marketing',\n",
    "   'missions': \"Support TELUS' continued growth in Consumer markets nationally across both wireless and wireline products and services\",\n",
    "   'place': 'toronto, ontario',\n",
    "   'startDate': '2014-05'},\n",
    "  {'companyName': 'TELUS',\n",
    "   'company_id': '55df1c8b0b0451dc5c8bac6b',\n",
    "   'function': 'VP Mobility Solutions',\n",
    "   'missions': 'Support TELUS Consumer segment wireless overall business and marketing strategy, product marketing and pricing.',\n",
    "   'startDate': '2008-12'},\n",
    "  {'companyName': 'Barrick Gold Corporation',\n",
    "   'company_id': '55df1c4d0b0451dc5c8ba610',\n",
    "   'endDate': '2003',\n",
    "   'function': 'Director, Continuous Improvement',\n",
    "   'missions': 'Led global Operations Continuous Improvement team aimed at driving hundreds of millions of dollars of operational improvement. Pioneer in importing Lean and Six Sigma philosophies and tools into the Gold Mining sector.',\n",
    "   'startDate': '2000'},\n",
    "  {'companyName': 'McKinsey & Company',\n",
    "   'company_id': '55df1c5f0b0451dc5c8ba7f9',\n",
    "   'endDate': '2003',\n",
    "   'function': 'Associate',\n",
    "   'startDate': '1993'}],\n",
    " 'id_scrapinghub': '45070289',\n",
    " 'indexCandidate': True,\n",
    " 'industriesId': [42],\n",
    " 'industry': 'Telecommunications',\n",
    " 'industryId': 42,\n",
    " 'language': 'en',\n",
    " 'lastEditedDate': '2015-08-29',\n",
    " 'lat': 43.70011,\n",
    " 'lng': -79.4163,\n",
    " 'personalBranding_claim': 'SVP Consumer Marketing at TELUS',\n",
    " 'personalBranding_pitch': 'Seasoned operations and marketing executive known for creating winning strategies and driving change in complex organizations.',\n",
    " 'privacy': 1,\n",
    " 'professionalData_experienceLevelId': 5,\n",
    " 'relationsNumber': 500,\n",
    " 'skills': [{'name': 'Continuous Improvement'},\n",
    "  {'name': 'Six Sigma'},\n",
    "  {'name': 'Lean Manufacturing'},\n",
    "  {'name': 'Operational Excellence'},\n",
    "  {'name': 'Mining'},\n",
    "  {'name': 'Wireless'},\n",
    "  {'name': 'Marketing Management'},\n",
    "  {'name': 'Strategy'},\n",
    "  {'name': 'Business Strategy'},\n",
    "  {'name': 'Change Management'},\n",
    "  {'name': 'Competitive Analysis'},\n",
    "  {'name': 'Cross-functional Team...'},\n",
    "  {'name': 'Leadership'},\n",
    "  {'name': 'Management'},\n",
    "  {'name': 'Product Marketing'},\n",
    "  {'name': 'Strategic Planning'},\n",
    "  {'name': 'Product Management'},\n",
    "  {'name': 'Team Leadership'},\n",
    "  {'name': 'Business Process...'},\n",
    "  {'name': 'Telecommunications'},\n",
    "  {'name': 'Management Consulting'},\n",
    "  {'name': 'Program Management'},\n",
    "  {'name': 'Project Management'},\n",
    "  {'name': 'Operations Management'},\n",
    "  {'name': 'Vendor Management'},\n",
    "  {'name': 'Business Analysis'}],\n",
    " 'supplierParty': 'linkedin',\n",
    " 'updateDatetime': '2015-12-21 13:38:57'}"
   ]
  },
  {
   "cell_type": "code",
   "execution_count": 7,
   "metadata": {},
   "outputs": [],
   "source": [
    "c = candidates.find({\"$and\": [{\"language\": \"en\"}, {\"$nor\": [\n",
    "    {\"experiences\": {\"$exists\": False}},\n",
    "    {\"experiences\": {\"$size\": 0}},\n",
    "    {\"experiences\": {\"$size\": 1}}\n",
    "]}]})"
   ]
  },
  {
   "cell_type": "code",
   "execution_count": 4,
   "metadata": {},
   "outputs": [],
   "source": [
    "pipeline = [\n",
    "            #{\"$match\": {\"$and\": [ \n",
    "            #    {\"language\": \"en\"},\n",
    "            #    {\"$nor\": [\n",
    "            #        {\"experiences\": {\"$exists\": False}},\n",
    "            #        {\"experiences\": {\"$size\": 0}},\n",
    "            #        {\"experiences\": {\"$size\": 1}}\n",
    "            #    ]}]}},\n",
    "            {\"$unwind\": {\n",
    "                \"path\": \"$experiences\",\n",
    "                \"includeArrayIndex\": \"job_index\"\n",
    "                }\n",
    "            },\n",
    "            {\"$project\": {\n",
    "                \"industry\": 1,\n",
    "                \"job_index\": 1,\n",
    "                \"company_name\": \"$experiences.companyName\",\n",
    "                \"place\": \"$experiences.place\",\n",
    "                \"function\": \"$experiences.function\",\n",
    "                \"start_date\": \"$experiences.startDate\",\n",
    "                \"end_date\": \"$experiences.endDate\"\n",
    "                #\"duration\": \"$experiences.duration\"\n",
    "                #\"mission\": \"$experiences.missions\"\n",
    "                }}\n",
    "            ]"
   ]
  },
  {
   "cell_type": "code",
   "execution_count": 5,
   "metadata": {},
   "outputs": [],
   "source": [
    "agg = candidates.aggregate(pipeline)"
   ]
  },
  {
   "cell_type": "code",
   "execution_count": 6,
   "metadata": {},
   "outputs": [],
   "source": [
    "def _get_element(doc, field_name):\n",
    "    if field_name in doc:\n",
    "        return doc[field_name]\n",
    "    return np.nan\n",
    "\n",
    "def make_dataframe(curr):\n",
    "    data = defaultdict(list)\n",
    "\n",
    "    for doc in curr:\n",
    "        data['_id'].append(doc['_id'])\n",
    "        data['function'].append(_get_element(doc, 'function'))\n",
    "        data['company_name'].append(_get_element(doc,'company_name'))\n",
    "        data['industry'].append(_get_element(doc,'industry'))\n",
    "        data['job_index'].append(doc['job_index'])        \n",
    "        data['place'].append(_get_element(doc, 'place'))\n",
    "        data['start_date'].append(_get_element(doc, 'start_date'))\n",
    "        data['end_date'].append(_get_element(doc, 'end_date'))\n",
    "\n",
    "    return data"
   ]
  },
  {
   "cell_type": "code",
   "execution_count": 7,
   "metadata": {},
   "outputs": [],
   "source": [
    "data = make_dataframe(agg)"
   ]
  },
  {
   "cell_type": "code",
   "execution_count": 8,
   "metadata": {},
   "outputs": [],
   "source": [
    "df = pd.DataFrame(data)"
   ]
  },
  {
   "cell_type": "code",
   "execution_count": 9,
   "metadata": {},
   "outputs": [],
   "source": [
    "df[\"_id\"] = df[\"_id\"].apply(str)"
   ]
  },
  {
   "cell_type": "code",
   "execution_count": 11,
   "metadata": {},
   "outputs": [],
   "source": [
    "bad_ids = df[pd.isna(df[\"function\"])]._id.unique()"
   ]
  },
  {
   "cell_type": "code",
   "execution_count": 12,
   "metadata": {},
   "outputs": [],
   "source": [
    "df.drop(df[df._id.isin(bad_ids)].index, inplace=True)"
   ]
  },
  {
   "cell_type": "code",
   "execution_count": 13,
   "metadata": {},
   "outputs": [],
   "source": [
    "df.to_pickle(\"/data/rali7/Tmp/solimanz/data/pickles/excerpt-2017-02-20.pkl\")"
   ]
  },
  {
   "cell_type": "code",
   "execution_count": null,
   "metadata": {},
   "outputs": [],
   "source": []
  }
 ],
 "metadata": {
  "kernelspec": {
   "display_name": "Python 3",
   "language": "python",
   "name": "python3"
  },
  "language_info": {
   "codemirror_mode": {
    "name": "ipython",
    "version": 3
   },
   "file_extension": ".py",
   "mimetype": "text/x-python",
   "name": "python",
   "nbconvert_exporter": "python",
   "pygments_lexer": "ipython3",
   "version": "3.6.3"
  }
 },
 "nbformat": 4,
 "nbformat_minor": 2
}
