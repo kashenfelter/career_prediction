{
 "cells": [
  {
   "cell_type": "code",
   "execution_count": 2,
   "metadata": {},
   "outputs": [],
   "source": [
    "import json\n",
    "import pandas as pd\n",
    "import numpy as np\n",
    "import random\n",
    "from bidict import bidict\n",
    "import pickle\n",
    "from collections import Counter\n",
    "import re\n",
    "from pprint import pprint"
   ]
  },
  {
   "cell_type": "code",
   "execution_count": 3,
   "metadata": {},
   "outputs": [],
   "source": [
    "#raw_df = pd.read_pickle(\"/data/rali7/Tmp/solimanz/data/pickles/clean_aug.pkl\")\n",
    "raw_df = pd.read_pickle(\"/data/rali7/Tmp/solimanz/data/pickles/2017_11_28.pkl\")"
   ]
  },
  {
   "cell_type": "code",
   "execution_count": 4,
   "metadata": {},
   "outputs": [],
   "source": [
    "def fmtcols(mylist, cols):\n",
    "    maxwidth = max(map(lambda x: len(x), mylist))\n",
    "    justifyList = list(map(lambda x: x.ljust(maxwidth), mylist))\n",
    "    lines = (' '.join(justifyList[i:i+cols]) for i in range(0,len(justifyList),cols))\n",
    "    return \"\\n\".join(lines)"
   ]
  },
  {
   "cell_type": "code",
   "execution_count": 5,
   "metadata": {},
   "outputs": [],
   "source": [
    "def apply_transforms(s):\n",
    "    for transform in transforms:\n",
    "        s = re.sub(*transform, s)\n",
    "    return s"
   ]
  },
  {
   "cell_type": "code",
   "execution_count": 6,
   "metadata": {},
   "outputs": [],
   "source": [
    "def isEnglish(s):\n",
    "    try:\n",
    "        s.encode('ascii')\n",
    "    except UnicodeEncodeError:\n",
    "        return False\n",
    "    else:\n",
    "        return True"
   ]
  },
  {
   "cell_type": "code",
   "execution_count": 7,
   "metadata": {},
   "outputs": [],
   "source": [
    "transforms = [\n",
    "    # senior/junior\n",
    "    (re.compile(r'\\bsr\\.(?=[a-z0-9])'), 'senior '),\n",
    "    (re.compile(r'\\bjr\\.(?=[a-z0-9])'), 'junior '),\n",
    "    (re.compile(r'\\bsr\\.(?!\\S)'), 'senior'),\n",
    "    (re.compile(r'\\bjr\\.(?!\\S)'), 'junior'),\n",
    "    (re.compile(r'\\bsenior\\.(?!\\S)'), 'senior'),\n",
    "    (re.compile(r'\\bjunior\\.(?!\\S)'), 'junior'),\n",
    "    (re.compile(r'\\bsenior\\.(?=[a-z0-9])'), 'senior '),\n",
    "    (re.compile(r'\\bjunior\\.(?=[a-z0-9])'), 'junior '),\n",
    "    (re.compile(r'\\bsr\\b'), 'senior'),\n",
    "    (re.compile(r'\\bjr\\b'), 'junior'),\n",
    "    # IT\n",
    "    (re.compile(r'\\bi\\.*t\\.*(?=[a-z0-9])'), 'information_technology '),\n",
    "    (re.compile(r'\\bi\\.*t\\.*(?!\\S)'), 'information_technology'),\n",
    "    # C*O\n",
    "    (re.compile(r'\\bc\\.*e\\.*o\\.*(?!\\S)'), 'chief_executive_officer'),\n",
    "    (re.compile(r'\\bc\\.*o\\.*o\\.*(?!\\S)'), 'chief_operating_officer'),\n",
    "    (re.compile(r'\\bc\\.*t\\.*o\\.*(?!\\S)'), 'chief_technology_officer'),\n",
    "    (re.compile(r'\\bc\\.*f\\.*o\\.*(?!\\S)'), 'chief_finance_officer'),\n",
    "    (re.compile(r'\\bchief financial officer\\b'), 'chief_finance_officer'),\n",
    "    (re.compile(r'\\bchief operations officer\\b'), 'chief_operating_officer'),\n",
    "    \n",
    "    (re.compile(r'\\bceo/chief executive officer\\b'), 'chief_executive_officer'),\n",
    "    (re.compile(r'\\bcoo/chief operating officer\\b'), 'chief_operating_officer'),\n",
    "    (re.compile(r'\\bcto/chief technology officer\\b'), 'chief_technology_officer'),\n",
    "    (re.compile(r'\\bcfo/chief finance officer\\b'), 'chief_finance_officer'),\n",
    "    \n",
    "    (re.compile(r'\\bchief executive officer\\b'), 'chief_executive_officer'),\n",
    "    (re.compile(r'\\bchief operating officer\\b'), 'chief_operating_officer'),\n",
    "    (re.compile(r'\\bchief technology officer\\b'), 'chief_technology_officer'),\n",
    "    (re.compile(r'\\bchief finance officer\\b'), 'chief_finance_officer'),\n",
    "    # VP\n",
    "    (re.compile(r'\\bv\\.*p\\.(?=[a-z0-9])'), 'vice_president '),\n",
    "    (re.compile(r'\\bv\\.*p\\.*(?!\\S)'), 'vice_president'),\n",
    "    (re.compile(r'\\bvice-president\\b'), 'vice_president'),\n",
    "    (re.compile(r'\\bvice president\\b'), 'vice_president'),\n",
    "    #technician vs tech\n",
    "    (re.compile(r'\\btech\\.(?=[a-z0-9])'), 'technician '),\n",
    "    (re.compile(r'\\btech\\.*(?!\\S)'), 'technician'),\n",
    "    # cofounder\n",
    "    (re.compile(r'\\bco(-|\\s)founder\\b'), 'co_founder'),\n",
    "    # co-...\n",
    "    (re.compile(r'\\bco(-|\\s)'), 'co_'),\n",
    "    #coop\n",
    "    (re.compile(r'\\bco[-|\\s]op\\b'), 'coop'),\n",
    "    #addon\n",
    "    (re.compile(r'\\badd[-|\\s]on\\b'), 'addon'),\n",
    "    # Nurses\n",
    "    (re.compile(r'\\br\\.*n\\.*(?!\\S)'), 'registered nurse'),\n",
    "    (re.compile(r'\\br\\.*n\\.(?=[a-z0-9])'), 'registered nurse '),\n",
    "    (re.compile(r'\\br\\.*p\\.*n\\.*(?!\\S)'), 'registered practical nurse'),\n",
    "    (re.compile(r'\\br\\.*p\\.*n\\.(?=[a-z0-9])'), 'registered practical nurse '),\n",
    "    #T.A.\n",
    "    (re.compile(r\"\\bt\\.*a\\.*(?!\\S)\"), \"teaching assistant\"),\n",
    "    (re.compile(r\"\\bt\\.*a\\.(?=[a-z0-9])\"), \"teaching assistant \"),\n",
    "    (re.compile(r\"\\bteacher assistant\\b\"), \"teaching assistant\"),\n",
    "    (re.compile(r\"\\bteacher's assistant\\b\"), \"teaching assistant\"),\n",
    "    (re.compile(r\"\\bteacher's assitant\\b\"), \"teaching assistant\"),\n",
    "    (re.compile(r\"\\bteacher's assistant\\b\"), \"teaching assistant\"),\n",
    "    (re.compile(r\"\\bteacher's assitant\\b\"), \"teaching assistant\"),\n",
    "    # HR\n",
    "    (re.compile(r'\\bh\\.*r\\.(?=[a-z0-9])'), 'human_resources '),\n",
    "    (re.compile(r'\\bh\\.*r\\.*(?!\\S)'), 'human_resources'),\n",
    "    # Customer service reps\n",
    "    (re.compile(r'\\bc\\.*s\\.*r\\.(?=[a-z0-9])'), 'customer_service representative '),\n",
    "    (re.compile(r'\\bc\\.*s\\.*r\\.*(?!\\S)'), 'customer_service representative'),\n",
    "    (re.compile(r'\\bcustomer service rep\\.*(?!\\S)'), 'customer_service representative'),\n",
    "    # qa / qc\n",
    "    (re.compile(r'\\bq\\.*a\\.(?=[a-z0-9])'), 'quality assurance '),\n",
    "    (re.compile(r'\\bq\\.*a\\.*(?!\\S)'), 'quality assurance'),\n",
    "    (re.compile(r'\\bq\\.*c\\.(?=[a-z0-9])'), 'quality control '),\n",
    "    (re.compile(r'\\bq\\.*c\\.*(?!\\S)'), 'quality control'),\n",
    "    # database administrator\n",
    "    (re.compile(r'\\bdba\\b'), 'database administrator'),\n",
    "    (re.compile(r'\\bdatabase admin\\b'), 'database administrator'),\n",
    "    (re.compile(r'\\bdb admin\\b'), 'database administrator'),\n",
    "    # Instrumentation and electrical\n",
    "    (re.compile(r'\\bi/e\\b'), 'instrumentation and electrical'),\n",
    "    # financial service representative\n",
    "    (re.compile(r'\\bfsr\\b'), 'financial service representative'),\n",
    "    (re.compile(r'\\bfreelance\\b'), 'freelancer'),\n",
    "    (re.compile(r'\\bdesiginer\\b'), 'designer'),\n",
    "    (re.compile(r'\\bbiomed\\b'), 'biomedical'),\n",
    "    (re.compile(r'\\bgoverenment\\b'), 'government'),\n",
    "    (re.compile(r'\\bmachanic\\b'), 'mechanic'),\n",
    "    (re.compile(r'\\bbusiness owner\\b'), 'owner'),\n",
    "    (re.compile(r'\\br(\\s)*&(\\s)*d\\b'), 'research_development'),\n",
    "    (re.compile(r'\\br and d\\b'), 'research_development'),\n",
    "    (re.compile(r'research/development'), 'research_development'),\n",
    "    (re.compile(r'(\\s)*&(\\s)*'), '/'),\n",
    "    (re.compile(r'(\\s)*,(\\s)*'), '/'),\n",
    "    (re.compile(r'(\\s)*/(\\s)*'), '/'),\n",
    "    (re.compile(r'(\\s)*\\|(\\s)*'), '/'),\n",
    "    (re.compile(r'(\\s)+and(\\s)+'), '/'),\n",
    "    (re.compile(r'\\beditor-in-chief\\b'), 'editor_in_chief'),    \n",
    "    # Remove all parens and there content\n",
    "    (re.compile(r'\\([\\w\\s\\W\\S]*\\)'), ''),    \n",
    "    #ESL\n",
    "    (re.compile(r'^esl$'), 'english_as_a_second_language instructor'),\n",
    "    (re.compile(r'^e\\.*s\\.*l\\.* instructor$'), 'english_as_a_second_language instructor'),\n",
    "    (re.compile(r'^e\\.*s\\.*l\\.* teacher$'), 'english_as_a_second_language instructor'),\n",
    "    (re.compile(r'^english as a second language$'), 'english_as_a_second_language instructor'),\n",
    "    (re.compile(r'^english as a second language teacher$'), 'english_as_a_second_language instructor'),\n",
    "    (re.compile(r'^e.s.l. instructor$'), 'english_as_a_second_language instructor'),\n",
    "    (re.compile(r'^e.s.l. teacher$'), 'english_as_a_second_language instructor'),\n",
    "    (re.compile(r\"\\benglish as a second language\\b\"), \"english_as_a_second_language\"),\n",
    "    (re.compile(r\"\\binternship\\b\"), \"intern\"),\n",
    "    (re.compile(r\"\\bsummer intern\\b\"), \"intern\")\n",
    "    \n",
    "    ]"
   ]
  },
  {
   "cell_type": "code",
   "execution_count": 8,
   "metadata": {},
   "outputs": [],
   "source": [
    "raw_df['function'] = raw_df['function'].str.lower()"
   ]
  },
  {
   "cell_type": "code",
   "execution_count": 9,
   "metadata": {},
   "outputs": [],
   "source": [
    "trans = {r: rep for r, rep in transforms}"
   ]
  },
  {
   "cell_type": "code",
   "execution_count": 10,
   "metadata": {},
   "outputs": [],
   "source": [
    "raw_df['transformed'] = raw_df['function']"
   ]
  },
  {
   "cell_type": "code",
   "execution_count": 11,
   "metadata": {},
   "outputs": [],
   "source": [
    "raw_df['transformed'].replace(trans, regex=True, inplace=True)"
   ]
  },
  {
   "cell_type": "code",
   "execution_count": 12,
   "metadata": {},
   "outputs": [],
   "source": [
    "raw_df['transformed'].replace({\"  \": \" \"}, regex=True, inplace=True)"
   ]
  },
  {
   "cell_type": "code",
   "execution_count": 13,
   "metadata": {},
   "outputs": [],
   "source": [
    "raw_df['transformed'] = raw_df['transformed'].str.strip()"
   ]
  },
  {
   "cell_type": "code",
   "execution_count": 14,
   "metadata": {},
   "outputs": [],
   "source": [
    "raw_df['transformed'].replace({re.compile(r\"\\bsummer intern\\b\"): \"intern\"}, regex=True, inplace=True)"
   ]
  },
  {
   "cell_type": "code",
   "execution_count": 17,
   "metadata": {},
   "outputs": [],
   "source": [
    "raw_df[\"_id\"] = raw_df[\"_id\"].apply(str)"
   ]
  },
  {
   "cell_type": "markdown",
   "metadata": {},
   "source": [
    "Remove all user profiles using non ascii characters"
   ]
  },
  {
   "cell_type": "code",
   "execution_count": null,
   "metadata": {},
   "outputs": [],
   "source": [
    "raw_df.to_pickle(\"/data/rali7/Tmp/solimanz/data/pickles/clean_2017_11_28.pkl\")"
   ]
  },
  {
   "cell_type": "code",
   "execution_count": 117,
   "metadata": {},
   "outputs": [],
   "source": [
    "func_counts = raw_df['transformed'].value_counts()"
   ]
  },
  {
   "cell_type": "code",
   "execution_count": 49,
   "metadata": {},
   "outputs": [],
   "source": [
    "eng = [isEnglish(s) for s in func_counts.index.values]\n",
    "idx = [i for i, x in enumerate(eng) if x == False]\n",
    "problematic = [func_counts.index.values[i] for i in idx]"
   ]
  },
  {
   "cell_type": "code",
   "execution_count": 17,
   "metadata": {},
   "outputs": [],
   "source": [
    "bad_ids = raw_df[raw_df.transformed.isin(problematic)][\"_id\"].unique()"
   ]
  },
  {
   "cell_type": "code",
   "execution_count": 19,
   "metadata": {},
   "outputs": [],
   "source": [
    "raw_df = raw_df[~raw_df[\"_id\"].isin(bad_ids)]"
   ]
  },
  {
   "cell_type": "code",
   "execution_count": 107,
   "metadata": {},
   "outputs": [],
   "source": [
    "matches = [s for s in func_counts.index if 'vice president' in s]"
   ]
  },
  {
   "cell_type": "code",
   "execution_count": 114,
   "metadata": {},
   "outputs": [],
   "source": [
    "#matches"
   ]
  },
  {
   "cell_type": "code",
   "execution_count": 118,
   "metadata": {},
   "outputs": [],
   "source": [
    "with open(\"/data/rali7/Tmp/solimanz/data_viz/top_titles.txt\", \"w\") as f:\n",
    "    f.write(fmtcols(func_counts.index.values[:550], 4))"
   ]
  },
  {
   "cell_type": "code",
   "execution_count": 119,
   "metadata": {},
   "outputs": [
    {
     "data": {
      "text/plain": [
       "120330"
      ]
     },
     "execution_count": 119,
     "metadata": {},
     "output_type": "execute_result"
    }
   ],
   "source": [
    "top_550 = func_counts[:550]\n",
    "bad_ids = raw_df[~raw_df.transformed.isin(top_550.index)][\"_id\"].unique()\n",
    "all_ids = raw_df[\"_id\"].unique()\n",
    "dataset_ids = list(set(all_ids) - set(bad_ids))\n",
    "len(dataset_ids)"
   ]
  },
  {
   "cell_type": "code",
   "execution_count": 105,
   "metadata": {},
   "outputs": [
    {
     "data": {
      "text/plain": [
       "52208"
      ]
     },
     "execution_count": 105,
     "metadata": {},
     "output_type": "execute_result"
    }
   ],
   "source": [
    "func_counts[\"teaching assistant\"]"
   ]
  },
  {
   "cell_type": "code",
   "execution_count": null,
   "metadata": {},
   "outputs": [],
   "source": [
    "\n"
   ]
  }
 ],
 "metadata": {
  "kernelspec": {
   "display_name": "Python 3",
   "language": "python",
   "name": "python3"
  },
  "language_info": {
   "codemirror_mode": {
    "name": "ipython",
    "version": 3
   },
   "file_extension": ".py",
   "mimetype": "text/x-python",
   "name": "python",
   "nbconvert_exporter": "python",
   "pygments_lexer": "ipython3",
   "version": "3.6.3"
  }
 },
 "nbformat": 4,
 "nbformat_minor": 2
}
