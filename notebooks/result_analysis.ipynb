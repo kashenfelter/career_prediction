{
 "cells": [
  {
   "cell_type": "markdown",
   "metadata": {},
   "source": [
    "# Analysis"
   ]
  },
  {
   "cell_type": "code",
   "execution_count": 1,
   "metadata": {},
   "outputs": [],
   "source": [
    "import pandas as pd\n",
    "import numpy as np\n",
    "import json\n",
    "import pickle\n",
    "from collections import Counter, defaultdict\n",
    "import matplotlib.pyplot as plt\n",
    "import seaborn as sns\n",
    "import sys\n",
    "if \"/u/solimanz/development/career_prediction_gpu/\" not in sys.path:\n",
    "    sys.path.append(\"/u/solimanz/development/career_prediction_gpu/\")"
   ]
  },
  {
   "cell_type": "code",
   "execution_count": 2,
   "metadata": {},
   "outputs": [],
   "source": [
    "df_path = \"/data/rali7/Tmp/solimanz/data/pickles/excerpt-2017-02-20_reduced.pkl\"\n",
    "top550_path = \"/data/rali7/Tmp/solimanz/data/datasets/top550/1/title_sequences.json\"\n",
    "top7000_path = \"/data/rali7/Tmp/solimanz/data/datasets/top7000/1/title_sequences.json\"\n",
    "\n",
    "top_550_tain = \"/data/rali7/Tmp/solimanz/data/datasets/train_ids.pkl\"\n",
    "top_550_test = \"/data/rali7/Tmp/solimanz/data/datasets/test_ids.pkl\"\n",
    "top_7000_tain = \"/data/rali7/Tmp/solimanz/data/datasets/train_ids_big.pkl\"\n",
    "top_7000_test = \"/data/rali7/Tmp/solimanz/data/datasets/test_ids_big.pkl\""
   ]
  },
  {
   "cell_type": "code",
   "execution_count": 3,
   "metadata": {},
   "outputs": [],
   "source": [
    "df = pd.read_pickle(df_path)"
   ]
  },
  {
   "cell_type": "code",
   "execution_count": null,
   "metadata": {},
   "outputs": [],
   "source": [
    "with open(top_550)"
   ]
  }
 ],
 "metadata": {
  "kernelspec": {
   "display_name": "Python 3",
   "language": "python",
   "name": "python3"
  },
  "language_info": {
   "codemirror_mode": {
    "name": "ipython",
    "version": 3
   },
   "file_extension": ".py",
   "mimetype": "text/x-python",
   "name": "python",
   "nbconvert_exporter": "python",
   "pygments_lexer": "ipython3",
   "version": "3.6.3"
  }
 },
 "nbformat": 4,
 "nbformat_minor": 2
}
