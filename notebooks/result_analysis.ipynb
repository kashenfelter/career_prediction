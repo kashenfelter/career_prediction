{
 "cells": [
  {
   "cell_type": "code",
   "execution_count": null,
   "metadata": {},
   "outputs": [],
   "source": [
    "# Analysis"
   ]
  },
  {
   "cell_type": "code",
   "execution_count": 1,
   "metadata": {},
   "outputs": [],
   "source": [
    "import pandas as pd\n",
    "import numpy as np\n",
    "import json\n",
    "import pickle\n",
    "from collections import Counter, defaultdict\n",
    "import matplotlib.pyplot as plt\n",
    "import seaborn as sns\n",
    "from bidict import bidict\n",
    "import sys\n",
    "import os\n",
    "from itertools import product\n",
    "if \"/u/solimanz/development/career_prediction_gpu/\" not in sys.path:\n",
    "    sys.path.append(\"/u/solimanz/development/career_prediction_gpu/\")"
   ]
  },
  {
   "cell_type": "code",
   "execution_count": 2,
   "metadata": {},
   "outputs": [],
   "source": [
    "df_path = \"/data/rali7/Tmp/solimanz/data/pickles/excerpt-2017-02-20_reduced.pkl\"\n",
    "base_path = \"/data/rali7/Tmp/solimanz/data/\"\n",
    "top550_path = os.path.join(base_path, \"datasets\", \"top550\")\n",
    "reduced7000_path = os.path.join(base_path, \"datasets\", \"reduced7000\")\n",
    "predictions_path = os.path.join(base_path, \"model_predictions\")"
   ]
  },
  {
   "cell_type": "code",
   "execution_count": 4,
   "metadata": {},
   "outputs": [],
   "source": [
    "with open(os.path.join(top550_path, \"jobid\", \"data.json\"), \"r\") as f:\n",
    "    data = json.load(f)"
   ]
  },
  {
   "cell_type": "code",
   "execution_count": 5,
   "metadata": {},
   "outputs": [],
   "source": [
    "title_id = bidict(data[\"title_to_id\"])"
   ]
  },
  {
   "cell_type": "code",
   "execution_count": 6,
   "metadata": {},
   "outputs": [],
   "source": [
    "def next_batch(path):\n",
    "    batch = 0\n",
    "    name = os.path.basename(path)\n",
    "    while os.path.exists(os.path.join(path, f\"{name}_batch_{batch}.npy\")):\n",
    "        with open(os.path.join(path, f\"{name}_batch_{batch}.npy\"), \"rb\") as f:\n",
    "            matrix = np.load(f)\n",
    "        batch += 1\n",
    "        yield matrix"
   ]
  },
  {
   "cell_type": "code",
   "execution_count": 15,
   "metadata": {},
   "outputs": [
    {
     "data": {
      "text/plain": [
       "<itertools.product at 0x7f08f79e7ca8>"
      ]
     },
     "execution_count": 15,
     "metadata": {},
     "output_type": "execute_result"
    }
   ],
   "source": [
    "product(['top550', 'reduced7000'], ['jobid', 'bow', 'title_emb'], ['targets', 'predictions', 'seq_lengths'])"
   ]
  },
  {
   "cell_type": "code",
   "execution_count": 7,
   "metadata": {},
   "outputs": [],
   "source": [
    "jobid_path = os.path.join(predictions_path, \"top550\", \"jobid\", \"targets\")\n",
    "title_emb_path = os.path.join(predictions_path, \"top550\", \"title_emb\", \"targets\")\n",
    "bow_path = os.path.join(predictions_path, \"top550\", \"bow\", \"targets\")"
   ]
  },
  {
   "cell_type": "code",
   "execution_count": 8,
   "metadata": {},
   "outputs": [],
   "source": [
    "jobid_gen = next_batch(jobid_path)\n",
    "title_emb_gen = next_batch(title_emb_path)\n",
    "bow_gen = next_batch(bow_path)"
   ]
  },
  {
   "cell_type": "code",
   "execution_count": 20,
   "metadata": {},
   "outputs": [
    {
     "data": {
      "text/plain": [
       "[1, 2, 3, 2, 4, 5]"
      ]
     },
     "execution_count": 20,
     "metadata": {},
     "output_type": "execute_result"
    }
   ],
   "source": [
    "[1,2,3] + [2,4,5]"
   ]
  },
  {
   "cell_type": "code",
   "execution_count": null,
   "metadata": {},
   "outputs": [],
   "source": []
  }
 ],
 "metadata": {
  "kernelspec": {
   "display_name": "Python 3",
   "language": "python",
   "name": "python3"
  },
  "language_info": {
   "codemirror_mode": {
    "name": "ipython",
    "version": 3
   },
   "file_extension": ".py",
   "mimetype": "text/x-python",
   "name": "python",
   "nbconvert_exporter": "python",
   "pygments_lexer": "ipython3",
   "version": "3.6.3"
  }
 },
 "nbformat": 4,
 "nbformat_minor": 2
}
