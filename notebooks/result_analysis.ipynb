{
 "cells": [
  {
   "cell_type": "markdown",
   "metadata": {},
   "source": [
    "# Analysis"
   ]
  },
  {
   "cell_type": "code",
   "execution_count": 1,
   "metadata": {},
   "outputs": [],
   "source": [
    "import pandas as pd\n",
    "import numpy as np\n",
    "import json\n",
    "import pickle\n",
    "from collections import Counter, defaultdict\n",
    "import matplotlib.pyplot as plt\n",
    "import seaborn as sns\n",
    "from bidict import bidict\n",
    "import sys\n",
    "import os\n",
    "from itertools import product\n",
    "if \"/u/solimanz/development/career_prediction_gpu/\" not in sys.path:\n",
    "    sys.path.append(\"/u/solimanz/development/career_prediction_gpu/\")"
   ]
  },
  {
   "cell_type": "code",
   "execution_count": 2,
   "metadata": {},
   "outputs": [],
   "source": [
    "df_path = \"/data/rali7/Tmp/solimanz/data/pickles/excerpt-2017-02-20_reduced.pkl\"\n",
    "base_path = \"/data/rali7/Tmp/solimanz/data/\"\n",
    "top550_path = os.path.join(base_path, \"datasets\", \"top550\")\n",
    "reduced7000_path = os.path.join(base_path, \"datasets\", \"reduced7000\")\n",
    "predictions_path = os.path.join(base_path, \"model_predictions\")"
   ]
  },
  {
   "cell_type": "code",
   "execution_count": 3,
   "metadata": {},
   "outputs": [],
   "source": [
    "with open(os.path.join(top550_path, \"jobid\", \"data.json\"), \"r\") as f:\n",
    "    data = json.load(f)"
   ]
  },
  {
   "cell_type": "code",
   "execution_count": 6,
   "metadata": {},
   "outputs": [],
   "source": [
    "title_id = bidict(data[\"title_to_id\"])"
   ]
  },
  {
   "cell_type": "code",
   "execution_count": 15,
   "metadata": {},
   "outputs": [],
   "source": [
    "def groupby_length(seq_lengths):\n",
    "    d = dict()    \n",
    "    for i in range(2, seq_lengths.max()):\n",
    "        d[i] = np.where(seq_lengths == i)\n",
    "        \n",
    "    return d"
   ]
  },
  {
   "cell_type": "code",
   "execution_count": 4,
   "metadata": {},
   "outputs": [],
   "source": [
    "def next_batch(path):\n",
    "    batch = 0\n",
    "    name = os.path.basename(path)\n",
    "    while os.path.exists(os.path.join(path, f\"{name}_batch_{batch}.npy\")):\n",
    "        with open(os.path.join(path, f\"{name}_batch_{batch}.npy\"), \"rb\") as f:\n",
    "            matrix = np.load(f)\n",
    "        batch += 1\n",
    "        yield matrix"
   ]
  },
  {
   "cell_type": "code",
   "execution_count": 5,
   "metadata": {},
   "outputs": [],
   "source": [
    "targets_path = os.path.join(predictions_path, \"top550\", \"jobid\", \"targets\")\n",
    "inputs_path = os.path.join(predictions_path, \"top550\", \"jobid\", \"inputs\")\n",
    "seq_lengths_path = os.path.join(predictions_path, \"top550\", \"jobid\", \"seq_lengths\")\n",
    "\n",
    "bow_predictions_path = os.path.join(predictions_path, \"top550\", \"bow\", \"predictions\")\n",
    "jobid_predictions_path = os.path.join(predictions_path, \"top550\", \"jobid\", \"predictions\")\n",
    "title_emb_predictions_path = os.path.join(predictions_path, \"top550\", \"title_emb\", \"predictions\")"
   ]
  },
  {
   "cell_type": "code",
   "execution_count": 6,
   "metadata": {},
   "outputs": [],
   "source": [
    "targets_gen = next_batch(targets_path)\n",
    "inputs_gen = next_batch(inputs_path)\n",
    "seq_length_gen = next_batch(seq_lengths_path)\n",
    "\n",
    "jobid_preds_gen = next_batch(jobid_predictions_path)\n",
    "bow_preds_gen = next_batch(bow_predictions_path)\n",
    "title_emb_preds_gen = next_batch(title_emb_predictions_path)"
   ]
  },
  {
   "cell_type": "code",
   "execution_count": 7,
   "metadata": {},
   "outputs": [],
   "source": [
    "targets = []\n",
    "inputs = []\n",
    "seq_lengths = []\n",
    "\n",
    "jobid_preds = []\n",
    "bow_preds = []\n",
    "title_emb_preds = []\n",
    "\n",
    "for i, t, sl, jobid, bow, title_emb in zip(inputs_gen,\n",
    "                                           targets_gen,\n",
    "                                           seq_length_gen,\n",
    "                                           jobid_preds_gen,\n",
    "                                           bow_preds_gen,\n",
    "                                           title_emb_preds_gen):\n",
    "    inputs.append(i)\n",
    "    targets.append(t)\n",
    "    seq_lengths.append(sl)\n",
    "    \n",
    "    jobid_preds.append(jobid.reshape((jobid.shape[1],jobid.shape[2], jobid.shape[3])))\n",
    "    bow_preds.append(bow.reshape((bow.shape[1],bow.shape[2], bow.shape[3])))\n",
    "    title_emb_preds.append(title_emb.reshape((title_emb.shape[1],title_emb.shape[2], title_emb.shape[3])))\n",
    "    \n",
    "    "
   ]
  },
  {
   "cell_type": "code",
   "execution_count": 8,
   "metadata": {},
   "outputs": [],
   "source": [
    "inputs = np.concatenate(inputs, axis=0)\n",
    "targets = np.concatenate(targets, axis=0)\n",
    "seq_lengths = np.concatenate(seq_lengths, axis=0)\n",
    "\n",
    "jobid_preds = np.concatenate(jobid_preds, axis=0)\n",
    "bow_preds = np.concatenate(bow_preds, axis=0)\n",
    "title_emb_preds = np.concatenate(title_emb_preds, axis=0)"
   ]
  },
  {
   "cell_type": "code",
   "execution_count": 13,
   "metadata": {},
   "outputs": [
    {
     "data": {
      "text/plain": [
       "array([    0,     1,     2, ..., 24076, 24077, 24078])"
      ]
     },
     "execution_count": 13,
     "metadata": {},
     "output_type": "execute_result"
    }
   ],
   "source": [
    "np.where(seq_lengths == 2)[0]"
   ]
  },
  {
   "cell_type": "code",
   "execution_count": 24,
   "metadata": {},
   "outputs": [
    {
     "data": {
      "text/plain": [
       "(5813, 32, 550)"
      ]
     },
     "execution_count": 24,
     "metadata": {},
     "output_type": "execute_result"
    }
   ],
   "source": [
    "jobid_preds[indices].shape"
   ]
  },
  {
   "cell_type": "code",
   "execution_count": 89,
   "metadata": {},
   "outputs": [],
   "source": [
    "correct = np.equal(np.argmax(targets, 2), np.argmax(jobid_preds, 2)).astype(np.int16)"
   ]
  },
  {
   "cell_type": "code",
   "execution_count": 16,
   "metadata": {},
   "outputs": [
    {
     "data": {
      "text/plain": [
       "(24080, 32, 550)"
      ]
     },
     "execution_count": 16,
     "metadata": {},
     "output_type": "execute_result"
    }
   ],
   "source": [
    "jobid_preds.shape"
   ]
  },
  {
   "cell_type": "code",
   "execution_count": 44,
   "metadata": {},
   "outputs": [],
   "source": [
    "z = np.zeros((24080, 1, 550))"
   ]
  },
  {
   "cell_type": "code",
   "execution_count": 49,
   "metadata": {},
   "outputs": [
    {
     "data": {
      "text/plain": [
       "(24080, 32, 550)"
      ]
     },
     "execution_count": 49,
     "metadata": {},
     "output_type": "execute_result"
    }
   ],
   "source": [
    "np.concatenate([bow_preds, z], axis=1).shape"
   ]
  },
  {
   "cell_type": "code",
   "execution_count": null,
   "metadata": {},
   "outputs": [],
   "source": []
  }
 ],
 "metadata": {
  "kernelspec": {
   "display_name": "Python 3",
   "language": "python",
   "name": "python3"
  },
  "language_info": {
   "codemirror_mode": {
    "name": "ipython",
    "version": 3
   },
   "file_extension": ".py",
   "mimetype": "text/x-python",
   "name": "python",
   "nbconvert_exporter": "python",
   "pygments_lexer": "ipython3",
   "version": "3.6.3"
  }
 },
 "nbformat": 4,
 "nbformat_minor": 2
}
